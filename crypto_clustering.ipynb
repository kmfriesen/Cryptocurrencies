{
 "cells": [
  {
   "cell_type": "markdown",
   "metadata": {},
   "source": [
    "# Clustering Crypto"
   ]
  },
  {
   "cell_type": "code",
   "execution_count": 180,
   "metadata": {},
   "outputs": [],
   "source": [
    "# Initial imports\n",
    "import pandas as pd\n",
    "import hvplot.pandas\n",
    "from path import Path\n",
    "import plotly.express as px\n",
    "from sklearn.preprocessing import StandardScaler, MinMaxScaler\n",
    "from sklearn.decomposition import PCA\n",
    "from sklearn.cluster import KMeans"
   ]
  },
  {
   "cell_type": "markdown",
   "metadata": {},
   "source": [
    "### Deliverable 1: Preprocessing the Data for PCA"
   ]
  },
  {
   "cell_type": "code",
   "execution_count": 181,
   "metadata": {},
   "outputs": [
    {
     "output_type": "execute_result",
     "data": {
      "text/plain": [
       "      CoinName Algorithm  IsTrading ProofType  TotalCoinsMined TotalCoinSupply\n",
       "42     42 Coin    Scrypt       True   PoW/PoS     4.199995e+01              42\n",
       "365    365Coin       X11       True   PoW/PoS              NaN      2300000000\n",
       "404    404Coin    Scrypt       True   PoW/PoS     1.055185e+09       532000000\n",
       "611  SixEleven   SHA-256       True       PoW              NaN          611000\n",
       "808        808   SHA-256       True   PoW/PoS     0.000000e+00               0"
      ],
      "text/html": "<div>\n<style scoped>\n    .dataframe tbody tr th:only-of-type {\n        vertical-align: middle;\n    }\n\n    .dataframe tbody tr th {\n        vertical-align: top;\n    }\n\n    .dataframe thead th {\n        text-align: right;\n    }\n</style>\n<table border=\"1\" class=\"dataframe\">\n  <thead>\n    <tr style=\"text-align: right;\">\n      <th></th>\n      <th>CoinName</th>\n      <th>Algorithm</th>\n      <th>IsTrading</th>\n      <th>ProofType</th>\n      <th>TotalCoinsMined</th>\n      <th>TotalCoinSupply</th>\n    </tr>\n  </thead>\n  <tbody>\n    <tr>\n      <th>42</th>\n      <td>42 Coin</td>\n      <td>Scrypt</td>\n      <td>True</td>\n      <td>PoW/PoS</td>\n      <td>4.199995e+01</td>\n      <td>42</td>\n    </tr>\n    <tr>\n      <th>365</th>\n      <td>365Coin</td>\n      <td>X11</td>\n      <td>True</td>\n      <td>PoW/PoS</td>\n      <td>NaN</td>\n      <td>2300000000</td>\n    </tr>\n    <tr>\n      <th>404</th>\n      <td>404Coin</td>\n      <td>Scrypt</td>\n      <td>True</td>\n      <td>PoW/PoS</td>\n      <td>1.055185e+09</td>\n      <td>532000000</td>\n    </tr>\n    <tr>\n      <th>611</th>\n      <td>SixEleven</td>\n      <td>SHA-256</td>\n      <td>True</td>\n      <td>PoW</td>\n      <td>NaN</td>\n      <td>611000</td>\n    </tr>\n    <tr>\n      <th>808</th>\n      <td>808</td>\n      <td>SHA-256</td>\n      <td>True</td>\n      <td>PoW/PoS</td>\n      <td>0.000000e+00</td>\n      <td>0</td>\n    </tr>\n  </tbody>\n</table>\n</div>"
     },
     "metadata": {},
     "execution_count": 181
    }
   ],
   "source": [
    "# Load the crypto_data.csv dataset.\n",
    "crypto_df = pd.read_csv(\"crypto_data.csv\", index_col=0)\n",
    "crypto_df.head()"
   ]
  },
  {
   "cell_type": "code",
   "execution_count": 182,
   "metadata": {},
   "outputs": [],
   "source": [
    "# Keep all the cryptocurrencies that are being traded.\n",
    "crypto_df = crypto_df[crypto_df[\"IsTrading\"] == True]"
   ]
  },
  {
   "cell_type": "code",
   "execution_count": 183,
   "metadata": {},
   "outputs": [
    {
     "output_type": "stream",
     "name": "stdout",
     "text": [
      "Number of records:  (1144,)\n"
     ]
    },
    {
     "output_type": "execute_result",
     "data": {
      "text/plain": [
       "      CoinName Algorithm ProofType  TotalCoinsMined TotalCoinSupply\n",
       "42     42 Coin    Scrypt   PoW/PoS     4.199995e+01              42\n",
       "365    365Coin       X11   PoW/PoS              NaN      2300000000\n",
       "404    404Coin    Scrypt   PoW/PoS     1.055185e+09       532000000\n",
       "611  SixEleven   SHA-256       PoW              NaN          611000\n",
       "808        808   SHA-256   PoW/PoS     0.000000e+00               0"
      ],
      "text/html": "<div>\n<style scoped>\n    .dataframe tbody tr th:only-of-type {\n        vertical-align: middle;\n    }\n\n    .dataframe tbody tr th {\n        vertical-align: top;\n    }\n\n    .dataframe thead th {\n        text-align: right;\n    }\n</style>\n<table border=\"1\" class=\"dataframe\">\n  <thead>\n    <tr style=\"text-align: right;\">\n      <th></th>\n      <th>CoinName</th>\n      <th>Algorithm</th>\n      <th>ProofType</th>\n      <th>TotalCoinsMined</th>\n      <th>TotalCoinSupply</th>\n    </tr>\n  </thead>\n  <tbody>\n    <tr>\n      <th>42</th>\n      <td>42 Coin</td>\n      <td>Scrypt</td>\n      <td>PoW/PoS</td>\n      <td>4.199995e+01</td>\n      <td>42</td>\n    </tr>\n    <tr>\n      <th>365</th>\n      <td>365Coin</td>\n      <td>X11</td>\n      <td>PoW/PoS</td>\n      <td>NaN</td>\n      <td>2300000000</td>\n    </tr>\n    <tr>\n      <th>404</th>\n      <td>404Coin</td>\n      <td>Scrypt</td>\n      <td>PoW/PoS</td>\n      <td>1.055185e+09</td>\n      <td>532000000</td>\n    </tr>\n    <tr>\n      <th>611</th>\n      <td>SixEleven</td>\n      <td>SHA-256</td>\n      <td>PoW</td>\n      <td>NaN</td>\n      <td>611000</td>\n    </tr>\n    <tr>\n      <th>808</th>\n      <td>808</td>\n      <td>SHA-256</td>\n      <td>PoW/PoS</td>\n      <td>0.000000e+00</td>\n      <td>0</td>\n    </tr>\n  </tbody>\n</table>\n</div>"
     },
     "metadata": {},
     "execution_count": 183
    }
   ],
   "source": [
    "# Remove the \"IsTrading\" column. \n",
    "crypto_df.drop([\"IsTrading\"], axis=1, inplace=True)\n",
    "print(\"Number of records: \", crypto_df[\"CoinName\"].shape)\n",
    "crypto_df.head()"
   ]
  },
  {
   "cell_type": "code",
   "execution_count": 184,
   "metadata": {},
   "outputs": [
    {
     "output_type": "stream",
     "name": "stdout",
     "text": [
      "Number of records:  (685,)\n"
     ]
    },
    {
     "output_type": "execute_result",
     "data": {
      "text/plain": [
       "       CoinName Algorithm ProofType  TotalCoinsMined TotalCoinSupply\n",
       "42      42 Coin    Scrypt   PoW/PoS     4.199995e+01              42\n",
       "404     404Coin    Scrypt   PoW/PoS     1.055185e+09       532000000\n",
       "808         808   SHA-256   PoW/PoS     0.000000e+00               0\n",
       "1337  EliteCoin       X13   PoW/PoS     2.927942e+10    314159265359\n",
       "BTC     Bitcoin   SHA-256       PoW     1.792718e+07        21000000"
      ],
      "text/html": "<div>\n<style scoped>\n    .dataframe tbody tr th:only-of-type {\n        vertical-align: middle;\n    }\n\n    .dataframe tbody tr th {\n        vertical-align: top;\n    }\n\n    .dataframe thead th {\n        text-align: right;\n    }\n</style>\n<table border=\"1\" class=\"dataframe\">\n  <thead>\n    <tr style=\"text-align: right;\">\n      <th></th>\n      <th>CoinName</th>\n      <th>Algorithm</th>\n      <th>ProofType</th>\n      <th>TotalCoinsMined</th>\n      <th>TotalCoinSupply</th>\n    </tr>\n  </thead>\n  <tbody>\n    <tr>\n      <th>42</th>\n      <td>42 Coin</td>\n      <td>Scrypt</td>\n      <td>PoW/PoS</td>\n      <td>4.199995e+01</td>\n      <td>42</td>\n    </tr>\n    <tr>\n      <th>404</th>\n      <td>404Coin</td>\n      <td>Scrypt</td>\n      <td>PoW/PoS</td>\n      <td>1.055185e+09</td>\n      <td>532000000</td>\n    </tr>\n    <tr>\n      <th>808</th>\n      <td>808</td>\n      <td>SHA-256</td>\n      <td>PoW/PoS</td>\n      <td>0.000000e+00</td>\n      <td>0</td>\n    </tr>\n    <tr>\n      <th>1337</th>\n      <td>EliteCoin</td>\n      <td>X13</td>\n      <td>PoW/PoS</td>\n      <td>2.927942e+10</td>\n      <td>314159265359</td>\n    </tr>\n    <tr>\n      <th>BTC</th>\n      <td>Bitcoin</td>\n      <td>SHA-256</td>\n      <td>PoW</td>\n      <td>1.792718e+07</td>\n      <td>21000000</td>\n    </tr>\n  </tbody>\n</table>\n</div>"
     },
     "metadata": {},
     "execution_count": 184
    }
   ],
   "source": [
    "# Remove rows that have at least 1 null value.\n",
    "crypto_df = crypto_df.dropna()\n",
    "print(\"Number of records: \", crypto_df[\"CoinName\"].shape)\n",
    "crypto_df.head()"
   ]
  },
  {
   "cell_type": "code",
   "execution_count": 185,
   "metadata": {},
   "outputs": [
    {
     "output_type": "stream",
     "name": "stdout",
     "text": [
      "Number of records:  (532,)\n"
     ]
    },
    {
     "output_type": "execute_result",
     "data": {
      "text/plain": [
       "       CoinName Algorithm ProofType  TotalCoinsMined TotalCoinSupply\n",
       "42      42 Coin    Scrypt   PoW/PoS     4.199995e+01              42\n",
       "404     404Coin    Scrypt   PoW/PoS     1.055185e+09       532000000\n",
       "1337  EliteCoin       X13   PoW/PoS     2.927942e+10    314159265359\n",
       "BTC     Bitcoin   SHA-256       PoW     1.792718e+07        21000000\n",
       "ETH    Ethereum    Ethash       PoW     1.076842e+08               0"
      ],
      "text/html": "<div>\n<style scoped>\n    .dataframe tbody tr th:only-of-type {\n        vertical-align: middle;\n    }\n\n    .dataframe tbody tr th {\n        vertical-align: top;\n    }\n\n    .dataframe thead th {\n        text-align: right;\n    }\n</style>\n<table border=\"1\" class=\"dataframe\">\n  <thead>\n    <tr style=\"text-align: right;\">\n      <th></th>\n      <th>CoinName</th>\n      <th>Algorithm</th>\n      <th>ProofType</th>\n      <th>TotalCoinsMined</th>\n      <th>TotalCoinSupply</th>\n    </tr>\n  </thead>\n  <tbody>\n    <tr>\n      <th>42</th>\n      <td>42 Coin</td>\n      <td>Scrypt</td>\n      <td>PoW/PoS</td>\n      <td>4.199995e+01</td>\n      <td>42</td>\n    </tr>\n    <tr>\n      <th>404</th>\n      <td>404Coin</td>\n      <td>Scrypt</td>\n      <td>PoW/PoS</td>\n      <td>1.055185e+09</td>\n      <td>532000000</td>\n    </tr>\n    <tr>\n      <th>1337</th>\n      <td>EliteCoin</td>\n      <td>X13</td>\n      <td>PoW/PoS</td>\n      <td>2.927942e+10</td>\n      <td>314159265359</td>\n    </tr>\n    <tr>\n      <th>BTC</th>\n      <td>Bitcoin</td>\n      <td>SHA-256</td>\n      <td>PoW</td>\n      <td>1.792718e+07</td>\n      <td>21000000</td>\n    </tr>\n    <tr>\n      <th>ETH</th>\n      <td>Ethereum</td>\n      <td>Ethash</td>\n      <td>PoW</td>\n      <td>1.076842e+08</td>\n      <td>0</td>\n    </tr>\n  </tbody>\n</table>\n</div>"
     },
     "metadata": {},
     "execution_count": 185
    }
   ],
   "source": [
    "# Keep the rows where coins are mined.\n",
    "crypto_df = crypto_df[crypto_df[\"TotalCoinsMined\"] > 0]\n",
    "print(\"Number of records: \", crypto_df[\"CoinName\"].shape)\n",
    "crypto_df.head()"
   ]
  },
  {
   "cell_type": "code",
   "execution_count": 186,
   "metadata": {},
   "outputs": [
    {
     "output_type": "execute_result",
     "data": {
      "text/plain": [
       "42          42 Coin\n",
       "404         404Coin\n",
       "1337      EliteCoin\n",
       "BTC         Bitcoin\n",
       "ETH        Ethereum\n",
       "           ...     \n",
       "ZEPH         ZEPHYR\n",
       "GAP         Gapcoin\n",
       "BDX          Beldex\n",
       "ZEN         Horizen\n",
       "XBC     BitcoinPlus\n",
       "Name: CoinName, Length: 532, dtype: object"
      ]
     },
     "metadata": {},
     "execution_count": 186
    }
   ],
   "source": [
    "# Create a new DataFrame that holds only the cryptocurrencies names.\n",
    "names = crypto_df[\"CoinName\"]\n",
    "names"
   ]
  },
  {
   "cell_type": "code",
   "execution_count": 187,
   "metadata": {},
   "outputs": [
    {
     "output_type": "execute_result",
     "data": {
      "text/plain": [
       "     Algorithm ProofType  TotalCoinsMined TotalCoinSupply\n",
       "42      Scrypt   PoW/PoS     4.199995e+01              42\n",
       "404     Scrypt   PoW/PoS     1.055185e+09       532000000\n",
       "1337       X13   PoW/PoS     2.927942e+10    314159265359\n",
       "BTC    SHA-256       PoW     1.792718e+07        21000000\n",
       "ETH     Ethash       PoW     1.076842e+08               0"
      ],
      "text/html": "<div>\n<style scoped>\n    .dataframe tbody tr th:only-of-type {\n        vertical-align: middle;\n    }\n\n    .dataframe tbody tr th {\n        vertical-align: top;\n    }\n\n    .dataframe thead th {\n        text-align: right;\n    }\n</style>\n<table border=\"1\" class=\"dataframe\">\n  <thead>\n    <tr style=\"text-align: right;\">\n      <th></th>\n      <th>Algorithm</th>\n      <th>ProofType</th>\n      <th>TotalCoinsMined</th>\n      <th>TotalCoinSupply</th>\n    </tr>\n  </thead>\n  <tbody>\n    <tr>\n      <th>42</th>\n      <td>Scrypt</td>\n      <td>PoW/PoS</td>\n      <td>4.199995e+01</td>\n      <td>42</td>\n    </tr>\n    <tr>\n      <th>404</th>\n      <td>Scrypt</td>\n      <td>PoW/PoS</td>\n      <td>1.055185e+09</td>\n      <td>532000000</td>\n    </tr>\n    <tr>\n      <th>1337</th>\n      <td>X13</td>\n      <td>PoW/PoS</td>\n      <td>2.927942e+10</td>\n      <td>314159265359</td>\n    </tr>\n    <tr>\n      <th>BTC</th>\n      <td>SHA-256</td>\n      <td>PoW</td>\n      <td>1.792718e+07</td>\n      <td>21000000</td>\n    </tr>\n    <tr>\n      <th>ETH</th>\n      <td>Ethash</td>\n      <td>PoW</td>\n      <td>1.076842e+08</td>\n      <td>0</td>\n    </tr>\n  </tbody>\n</table>\n</div>"
     },
     "metadata": {},
     "execution_count": 187
    }
   ],
   "source": [
    "# Drop the 'CoinName' column since it's not going to be used on the clustering algorithm.\n",
    "crypto_df.drop([\"CoinName\"], axis=1, inplace=True)\n",
    "crypto_df.head()"
   ]
  },
  {
   "cell_type": "code",
   "execution_count": 188,
   "metadata": {},
   "outputs": [
    {
     "output_type": "execute_result",
     "data": {
      "text/plain": [
       "      TotalCoinsMined TotalCoinSupply  Algorithm_1GB AES Pattern Search  \\\n",
       "42       4.199995e+01              42                                 0   \n",
       "404      1.055185e+09       532000000                                 0   \n",
       "1337     2.927942e+10    314159265359                                 0   \n",
       "BTC      1.792718e+07        21000000                                 0   \n",
       "ETH      1.076842e+08               0                                 0   \n",
       "...               ...             ...                               ...   \n",
       "ZEPH     2.000000e+09      2000000000                                 0   \n",
       "GAP      1.493105e+07       250000000                                 0   \n",
       "BDX      9.802226e+08      1400222610                                 0   \n",
       "ZEN      7.296538e+06        21000000                                 0   \n",
       "XBC      1.283270e+05         1000000                                 0   \n",
       "\n",
       "      Algorithm_536  Algorithm_Argon2d  Algorithm_BLAKE256  Algorithm_Blake  \\\n",
       "42                0                  0                   0                0   \n",
       "404               0                  0                   0                0   \n",
       "1337              0                  0                   0                0   \n",
       "BTC               0                  0                   0                0   \n",
       "ETH               0                  0                   0                0   \n",
       "...             ...                ...                 ...              ...   \n",
       "ZEPH              0                  0                   0                0   \n",
       "GAP               0                  0                   0                0   \n",
       "BDX               0                  0                   0                0   \n",
       "ZEN               0                  0                   0                0   \n",
       "XBC               0                  0                   0                0   \n",
       "\n",
       "      Algorithm_Blake2S  Algorithm_Blake2b  Algorithm_C11  ...  \\\n",
       "42                    0                  0              0  ...   \n",
       "404                   0                  0              0  ...   \n",
       "1337                  0                  0              0  ...   \n",
       "BTC                   0                  0              0  ...   \n",
       "ETH                   0                  0              0  ...   \n",
       "...                 ...                ...            ...  ...   \n",
       "ZEPH                  0                  0              0  ...   \n",
       "GAP                   0                  0              0  ...   \n",
       "BDX                   0                  0              0  ...   \n",
       "ZEN                   0                  0              0  ...   \n",
       "XBC                   0                  0              0  ...   \n",
       "\n",
       "      ProofType_PoW/PoS  ProofType_PoW/PoS   ProofType_PoW/PoW  \\\n",
       "42                    1                   0                  0   \n",
       "404                   1                   0                  0   \n",
       "1337                  1                   0                  0   \n",
       "BTC                   0                   0                  0   \n",
       "ETH                   0                   0                  0   \n",
       "...                 ...                 ...                ...   \n",
       "ZEPH                  0                   0                  0   \n",
       "GAP                   1                   0                  0   \n",
       "BDX                   0                   0                  0   \n",
       "ZEN                   0                   0                  0   \n",
       "XBC                   0                   0                  0   \n",
       "\n",
       "      ProofType_PoW/nPoS  ProofType_Pos  ProofType_Proof of Authority  \\\n",
       "42                     0              0                             0   \n",
       "404                    0              0                             0   \n",
       "1337                   0              0                             0   \n",
       "BTC                    0              0                             0   \n",
       "ETH                    0              0                             0   \n",
       "...                  ...            ...                           ...   \n",
       "ZEPH                   0              0                             0   \n",
       "GAP                    0              0                             0   \n",
       "BDX                    0              0                             0   \n",
       "ZEN                    0              0                             0   \n",
       "XBC                    0              0                             0   \n",
       "\n",
       "      ProofType_Proof of Trust  ProofType_TPoS  \\\n",
       "42                           0               0   \n",
       "404                          0               0   \n",
       "1337                         0               0   \n",
       "BTC                          0               0   \n",
       "ETH                          0               0   \n",
       "...                        ...             ...   \n",
       "ZEPH                         0               0   \n",
       "GAP                          0               0   \n",
       "BDX                          0               0   \n",
       "ZEN                          0               0   \n",
       "XBC                          0               0   \n",
       "\n",
       "      ProofType_Zero-Knowledge Proof  ProofType_dPoW/PoW  \n",
       "42                                 0                   0  \n",
       "404                                0                   0  \n",
       "1337                               0                   0  \n",
       "BTC                                0                   0  \n",
       "ETH                                0                   0  \n",
       "...                              ...                 ...  \n",
       "ZEPH                               0                   0  \n",
       "GAP                                0                   0  \n",
       "BDX                                0                   0  \n",
       "ZEN                                0                   0  \n",
       "XBC                                0                   0  \n",
       "\n",
       "[532 rows x 98 columns]"
      ],
      "text/html": "<div>\n<style scoped>\n    .dataframe tbody tr th:only-of-type {\n        vertical-align: middle;\n    }\n\n    .dataframe tbody tr th {\n        vertical-align: top;\n    }\n\n    .dataframe thead th {\n        text-align: right;\n    }\n</style>\n<table border=\"1\" class=\"dataframe\">\n  <thead>\n    <tr style=\"text-align: right;\">\n      <th></th>\n      <th>TotalCoinsMined</th>\n      <th>TotalCoinSupply</th>\n      <th>Algorithm_1GB AES Pattern Search</th>\n      <th>Algorithm_536</th>\n      <th>Algorithm_Argon2d</th>\n      <th>Algorithm_BLAKE256</th>\n      <th>Algorithm_Blake</th>\n      <th>Algorithm_Blake2S</th>\n      <th>Algorithm_Blake2b</th>\n      <th>Algorithm_C11</th>\n      <th>...</th>\n      <th>ProofType_PoW/PoS</th>\n      <th>ProofType_PoW/PoS</th>\n      <th>ProofType_PoW/PoW</th>\n      <th>ProofType_PoW/nPoS</th>\n      <th>ProofType_Pos</th>\n      <th>ProofType_Proof of Authority</th>\n      <th>ProofType_Proof of Trust</th>\n      <th>ProofType_TPoS</th>\n      <th>ProofType_Zero-Knowledge Proof</th>\n      <th>ProofType_dPoW/PoW</th>\n    </tr>\n  </thead>\n  <tbody>\n    <tr>\n      <th>42</th>\n      <td>4.199995e+01</td>\n      <td>42</td>\n      <td>0</td>\n      <td>0</td>\n      <td>0</td>\n      <td>0</td>\n      <td>0</td>\n      <td>0</td>\n      <td>0</td>\n      <td>0</td>\n      <td>...</td>\n      <td>1</td>\n      <td>0</td>\n      <td>0</td>\n      <td>0</td>\n      <td>0</td>\n      <td>0</td>\n      <td>0</td>\n      <td>0</td>\n      <td>0</td>\n      <td>0</td>\n    </tr>\n    <tr>\n      <th>404</th>\n      <td>1.055185e+09</td>\n      <td>532000000</td>\n      <td>0</td>\n      <td>0</td>\n      <td>0</td>\n      <td>0</td>\n      <td>0</td>\n      <td>0</td>\n      <td>0</td>\n      <td>0</td>\n      <td>...</td>\n      <td>1</td>\n      <td>0</td>\n      <td>0</td>\n      <td>0</td>\n      <td>0</td>\n      <td>0</td>\n      <td>0</td>\n      <td>0</td>\n      <td>0</td>\n      <td>0</td>\n    </tr>\n    <tr>\n      <th>1337</th>\n      <td>2.927942e+10</td>\n      <td>314159265359</td>\n      <td>0</td>\n      <td>0</td>\n      <td>0</td>\n      <td>0</td>\n      <td>0</td>\n      <td>0</td>\n      <td>0</td>\n      <td>0</td>\n      <td>...</td>\n      <td>1</td>\n      <td>0</td>\n      <td>0</td>\n      <td>0</td>\n      <td>0</td>\n      <td>0</td>\n      <td>0</td>\n      <td>0</td>\n      <td>0</td>\n      <td>0</td>\n    </tr>\n    <tr>\n      <th>BTC</th>\n      <td>1.792718e+07</td>\n      <td>21000000</td>\n      <td>0</td>\n      <td>0</td>\n      <td>0</td>\n      <td>0</td>\n      <td>0</td>\n      <td>0</td>\n      <td>0</td>\n      <td>0</td>\n      <td>...</td>\n      <td>0</td>\n      <td>0</td>\n      <td>0</td>\n      <td>0</td>\n      <td>0</td>\n      <td>0</td>\n      <td>0</td>\n      <td>0</td>\n      <td>0</td>\n      <td>0</td>\n    </tr>\n    <tr>\n      <th>ETH</th>\n      <td>1.076842e+08</td>\n      <td>0</td>\n      <td>0</td>\n      <td>0</td>\n      <td>0</td>\n      <td>0</td>\n      <td>0</td>\n      <td>0</td>\n      <td>0</td>\n      <td>0</td>\n      <td>...</td>\n      <td>0</td>\n      <td>0</td>\n      <td>0</td>\n      <td>0</td>\n      <td>0</td>\n      <td>0</td>\n      <td>0</td>\n      <td>0</td>\n      <td>0</td>\n      <td>0</td>\n    </tr>\n    <tr>\n      <th>...</th>\n      <td>...</td>\n      <td>...</td>\n      <td>...</td>\n      <td>...</td>\n      <td>...</td>\n      <td>...</td>\n      <td>...</td>\n      <td>...</td>\n      <td>...</td>\n      <td>...</td>\n      <td>...</td>\n      <td>...</td>\n      <td>...</td>\n      <td>...</td>\n      <td>...</td>\n      <td>...</td>\n      <td>...</td>\n      <td>...</td>\n      <td>...</td>\n      <td>...</td>\n      <td>...</td>\n    </tr>\n    <tr>\n      <th>ZEPH</th>\n      <td>2.000000e+09</td>\n      <td>2000000000</td>\n      <td>0</td>\n      <td>0</td>\n      <td>0</td>\n      <td>0</td>\n      <td>0</td>\n      <td>0</td>\n      <td>0</td>\n      <td>0</td>\n      <td>...</td>\n      <td>0</td>\n      <td>0</td>\n      <td>0</td>\n      <td>0</td>\n      <td>0</td>\n      <td>0</td>\n      <td>0</td>\n      <td>0</td>\n      <td>0</td>\n      <td>0</td>\n    </tr>\n    <tr>\n      <th>GAP</th>\n      <td>1.493105e+07</td>\n      <td>250000000</td>\n      <td>0</td>\n      <td>0</td>\n      <td>0</td>\n      <td>0</td>\n      <td>0</td>\n      <td>0</td>\n      <td>0</td>\n      <td>0</td>\n      <td>...</td>\n      <td>1</td>\n      <td>0</td>\n      <td>0</td>\n      <td>0</td>\n      <td>0</td>\n      <td>0</td>\n      <td>0</td>\n      <td>0</td>\n      <td>0</td>\n      <td>0</td>\n    </tr>\n    <tr>\n      <th>BDX</th>\n      <td>9.802226e+08</td>\n      <td>1400222610</td>\n      <td>0</td>\n      <td>0</td>\n      <td>0</td>\n      <td>0</td>\n      <td>0</td>\n      <td>0</td>\n      <td>0</td>\n      <td>0</td>\n      <td>...</td>\n      <td>0</td>\n      <td>0</td>\n      <td>0</td>\n      <td>0</td>\n      <td>0</td>\n      <td>0</td>\n      <td>0</td>\n      <td>0</td>\n      <td>0</td>\n      <td>0</td>\n    </tr>\n    <tr>\n      <th>ZEN</th>\n      <td>7.296538e+06</td>\n      <td>21000000</td>\n      <td>0</td>\n      <td>0</td>\n      <td>0</td>\n      <td>0</td>\n      <td>0</td>\n      <td>0</td>\n      <td>0</td>\n      <td>0</td>\n      <td>...</td>\n      <td>0</td>\n      <td>0</td>\n      <td>0</td>\n      <td>0</td>\n      <td>0</td>\n      <td>0</td>\n      <td>0</td>\n      <td>0</td>\n      <td>0</td>\n      <td>0</td>\n    </tr>\n    <tr>\n      <th>XBC</th>\n      <td>1.283270e+05</td>\n      <td>1000000</td>\n      <td>0</td>\n      <td>0</td>\n      <td>0</td>\n      <td>0</td>\n      <td>0</td>\n      <td>0</td>\n      <td>0</td>\n      <td>0</td>\n      <td>...</td>\n      <td>0</td>\n      <td>0</td>\n      <td>0</td>\n      <td>0</td>\n      <td>0</td>\n      <td>0</td>\n      <td>0</td>\n      <td>0</td>\n      <td>0</td>\n      <td>0</td>\n    </tr>\n  </tbody>\n</table>\n<p>532 rows × 98 columns</p>\n</div>"
     },
     "metadata": {},
     "execution_count": 188
    }
   ],
   "source": [
    "# Use get_dummies() to create variables for text features.\n",
    "X = pd.get_dummies(crypto_df, columns=[\"Algorithm\", \"ProofType\"])\n",
    "X"
   ]
  },
  {
   "cell_type": "code",
   "execution_count": 189,
   "metadata": {},
   "outputs": [
    {
     "output_type": "execute_result",
     "data": {
      "text/plain": [
       "array([[-0.11710817, -0.1528703 , -0.0433963 , ..., -0.0433963 ,\n",
       "        -0.0433963 , -0.0433963 ],\n",
       "       [-0.09396955, -0.145009  , -0.0433963 , ..., -0.0433963 ,\n",
       "        -0.0433963 , -0.0433963 ],\n",
       "       [ 0.52494561,  4.48942416, -0.0433963 , ..., -0.0433963 ,\n",
       "        -0.0433963 , -0.0433963 ],\n",
       "       ...,\n",
       "       [-0.09561336, -0.13217937, -0.0433963 , ..., -0.0433963 ,\n",
       "        -0.0433963 , -0.0433963 ],\n",
       "       [-0.11694817, -0.15255998, -0.0433963 , ..., -0.0433963 ,\n",
       "        -0.0433963 , -0.0433963 ],\n",
       "       [-0.11710536, -0.15285552, -0.0433963 , ..., -0.0433963 ,\n",
       "        -0.0433963 , -0.0433963 ]])"
      ]
     },
     "metadata": {},
     "execution_count": 189
    }
   ],
   "source": [
    "# Standardize the data with StandardScaler().\n",
    "X_scaled = StandardScaler().fit_transform(X)\n",
    "X_scaled"
   ]
  },
  {
   "cell_type": "markdown",
   "metadata": {},
   "source": [
    "### Deliverable 2: Reducing Data Dimensions Using PCA"
   ]
  },
  {
   "cell_type": "code",
   "execution_count": 190,
   "metadata": {},
   "outputs": [],
   "source": [
    "# Using PCA to reduce dimension to three principal components.\n",
    "pca = PCA(n_components=3)"
   ]
  },
  {
   "cell_type": "code",
   "execution_count": 171,
   "metadata": {},
   "outputs": [
    {
     "output_type": "execute_result",
     "data": {
      "text/plain": [
       "          PC 1      PC 2      PC 3\n",
       "42   -0.346758  1.012134 -0.553112\n",
       "404  -0.330071  1.012374 -0.553533\n",
       "1337  2.296832  1.686099 -0.566931\n",
       "BTC  -0.142335 -1.296048  0.206597\n",
       "ETH  -0.142250 -2.024368  0.367623\n",
       "...        ...       ...       ...\n",
       "ZEPH  2.449444  0.766359 -0.141361\n",
       "GAP  -0.344799  1.012037 -0.553133\n",
       "BDX   0.330366 -2.297701  0.387804\n",
       "ZEN  -0.135540 -1.993730  0.296550\n",
       "XBC  -0.296682  0.834408 -0.283711\n",
       "\n",
       "[532 rows x 3 columns]"
      ],
      "text/html": "<div>\n<style scoped>\n    .dataframe tbody tr th:only-of-type {\n        vertical-align: middle;\n    }\n\n    .dataframe tbody tr th {\n        vertical-align: top;\n    }\n\n    .dataframe thead th {\n        text-align: right;\n    }\n</style>\n<table border=\"1\" class=\"dataframe\">\n  <thead>\n    <tr style=\"text-align: right;\">\n      <th></th>\n      <th>PC 1</th>\n      <th>PC 2</th>\n      <th>PC 3</th>\n    </tr>\n  </thead>\n  <tbody>\n    <tr>\n      <th>42</th>\n      <td>-0.346758</td>\n      <td>1.012134</td>\n      <td>-0.553112</td>\n    </tr>\n    <tr>\n      <th>404</th>\n      <td>-0.330071</td>\n      <td>1.012374</td>\n      <td>-0.553533</td>\n    </tr>\n    <tr>\n      <th>1337</th>\n      <td>2.296832</td>\n      <td>1.686099</td>\n      <td>-0.566931</td>\n    </tr>\n    <tr>\n      <th>BTC</th>\n      <td>-0.142335</td>\n      <td>-1.296048</td>\n      <td>0.206597</td>\n    </tr>\n    <tr>\n      <th>ETH</th>\n      <td>-0.142250</td>\n      <td>-2.024368</td>\n      <td>0.367623</td>\n    </tr>\n    <tr>\n      <th>...</th>\n      <td>...</td>\n      <td>...</td>\n      <td>...</td>\n    </tr>\n    <tr>\n      <th>ZEPH</th>\n      <td>2.449444</td>\n      <td>0.766359</td>\n      <td>-0.141361</td>\n    </tr>\n    <tr>\n      <th>GAP</th>\n      <td>-0.344799</td>\n      <td>1.012037</td>\n      <td>-0.553133</td>\n    </tr>\n    <tr>\n      <th>BDX</th>\n      <td>0.330366</td>\n      <td>-2.297701</td>\n      <td>0.387804</td>\n    </tr>\n    <tr>\n      <th>ZEN</th>\n      <td>-0.135540</td>\n      <td>-1.993730</td>\n      <td>0.296550</td>\n    </tr>\n    <tr>\n      <th>XBC</th>\n      <td>-0.296682</td>\n      <td>0.834408</td>\n      <td>-0.283711</td>\n    </tr>\n  </tbody>\n</table>\n<p>532 rows × 3 columns</p>\n</div>"
     },
     "metadata": {},
     "execution_count": 171
    }
   ],
   "source": [
    "# Create a DataFrame with the three principal components.\n",
    "pcs_df = pd.DataFrame(pca.fit_transform(X_scaled), columns=[\"PC 1\", \"PC 2\", \"PC 3\"], index=crypto_df.index)\n",
    "pcs_df"
   ]
  },
  {
   "cell_type": "markdown",
   "metadata": {},
   "source": [
    "### Deliverable 3: Clustering Crytocurrencies Using K-Means\n",
    "\n",
    "#### Finding the Best Value for `k` Using the Elbow Curve"
   ]
  },
  {
   "cell_type": "code",
   "execution_count": 172,
   "metadata": {},
   "outputs": [
    {
     "output_type": "stream",
     "name": "stderr",
     "text": [
      "C:\\ProgramData\\Anaconda3\\envs\\mlenv\\lib\\site-packages\\sklearn\\cluster\\_kmeans.py:882: UserWarning: KMeans is known to have a memory leak on Windows with MKL, when there are less chunks than available threads. You can avoid it by setting the environment variable OMP_NUM_THREADS=3.\n  f\"KMeans is known to have a memory leak on Windows \"\n"
     ]
    },
    {
     "output_type": "display_data",
     "data": {},
     "metadata": {}
    },
    {
     "output_type": "execute_result",
     "data": {
      "text/html": "<div id='2213'>\n\n\n\n\n\n  <div class=\"bk-root\" id=\"e420ac92-4372-4af3-8e73-d5671cd6e4a4\" data-root-id=\"2213\"></div>\n</div>\n<script type=\"application/javascript\">(function(root) {\n  function embed_document(root) {\n    var docs_json = {\"be22725b-4042-4c6f-bead-af0d27fecb29\":{\"roots\":{\"references\":[{\"attributes\":{\"ticks\":[1,2,3,4,5,6,7,8,9]},\"id\":\"2256\",\"type\":\"FixedTicker\"},{\"attributes\":{},\"id\":\"2249\",\"type\":\"Selection\"},{\"attributes\":{\"data\":{\"inertia\":{\"__ndarray__\":\"D+hKKpRurECZISIEqk2jQNpImWt3N5dAsdGQ0fA2gUCy/z2CKMh3QHCTJG92knFAuAZvf4hHa0Cf6fYS7eZlQE3aDurUgGFA\",\"dtype\":\"float64\",\"order\":\"little\",\"shape\":[9]},\"k\":[1,2,3,4,5,6,7,8,9]},\"selected\":{\"id\":\"2249\"},\"selection_policy\":{\"id\":\"2268\"}},\"id\":\"2248\",\"type\":\"ColumnDataSource\"},{\"attributes\":{\"children\":[{\"id\":\"2214\"},{\"id\":\"2218\"},{\"id\":\"2277\"}],\"margin\":[0,0,0,0],\"name\":\"Row03669\",\"tags\":[\"embedded\"]},\"id\":\"2213\",\"type\":\"Row\"},{\"attributes\":{\"line_alpha\":0.1,\"line_color\":\"#30a2da\",\"line_width\":2,\"x\":{\"field\":\"k\"},\"y\":{\"field\":\"inertia\"}},\"id\":\"2252\",\"type\":\"Line\"},{\"attributes\":{},\"id\":\"2235\",\"type\":\"SaveTool\"},{\"attributes\":{\"line_alpha\":0.2,\"line_color\":\"#30a2da\",\"line_width\":2,\"x\":{\"field\":\"k\"},\"y\":{\"field\":\"inertia\"}},\"id\":\"2253\",\"type\":\"Line\"},{\"attributes\":{},\"id\":\"2236\",\"type\":\"PanTool\"},{\"attributes\":{},\"id\":\"2239\",\"type\":\"ResetTool\"},{\"attributes\":{},\"id\":\"2237\",\"type\":\"WheelZoomTool\"},{\"attributes\":{\"margin\":[5,5,5,5],\"name\":\"HSpacer03673\",\"sizing_mode\":\"stretch_width\"},\"id\":\"2214\",\"type\":\"Spacer\"},{\"attributes\":{},\"id\":\"2223\",\"type\":\"LinearScale\"},{\"attributes\":{\"overlay\":{\"id\":\"2240\"}},\"id\":\"2238\",\"type\":\"BoxZoomTool\"},{\"attributes\":{},\"id\":\"2257\",\"type\":\"BasicTickFormatter\"},{\"attributes\":{\"end\":3989.215724632272,\"reset_end\":3989.215724632272,\"reset_start\":-209.9003489515043,\"start\":-209.9003489515043,\"tags\":[[[\"inertia\",\"inertia\",null]]]},\"id\":\"2216\",\"type\":\"Range1d\"},{\"attributes\":{\"axis_label\":\"k\",\"bounds\":\"auto\",\"formatter\":{\"id\":\"2257\"},\"major_label_orientation\":\"horizontal\",\"ticker\":{\"id\":\"2256\"}},\"id\":\"2227\",\"type\":\"LinearAxis\"},{\"attributes\":{},\"id\":\"2225\",\"type\":\"LinearScale\"},{\"attributes\":{\"axis_label\":\"inertia\",\"bounds\":\"auto\",\"formatter\":{\"id\":\"2261\"},\"major_label_orientation\":\"horizontal\",\"ticker\":{\"id\":\"2232\"}},\"id\":\"2231\",\"type\":\"LinearAxis\"},{\"attributes\":{\"axis\":{\"id\":\"2227\"},\"grid_line_color\":null,\"ticker\":null},\"id\":\"2230\",\"type\":\"Grid\"},{\"attributes\":{\"callback\":null,\"renderers\":[{\"id\":\"2254\"}],\"tags\":[\"hv_created\"],\"tooltips\":[[\"k\",\"@{k}\"],[\"inertia\",\"@{inertia}\"]]},\"id\":\"2217\",\"type\":\"HoverTool\"},{\"attributes\":{\"margin\":[5,5,5,5],\"name\":\"HSpacer03674\",\"sizing_mode\":\"stretch_width\"},\"id\":\"2277\",\"type\":\"Spacer\"},{\"attributes\":{},\"id\":\"2232\",\"type\":\"BasicTicker\"},{\"attributes\":{\"axis\":{\"id\":\"2231\"},\"dimension\":1,\"grid_line_color\":null,\"ticker\":null},\"id\":\"2234\",\"type\":\"Grid\"},{\"attributes\":{\"source\":{\"id\":\"2248\"}},\"id\":\"2255\",\"type\":\"CDSView\"},{\"attributes\":{},\"id\":\"2268\",\"type\":\"UnionRenderers\"},{\"attributes\":{\"active_drag\":\"auto\",\"active_inspect\":\"auto\",\"active_multi\":null,\"active_scroll\":\"auto\",\"active_tap\":\"auto\",\"tools\":[{\"id\":\"2217\"},{\"id\":\"2235\"},{\"id\":\"2236\"},{\"id\":\"2237\"},{\"id\":\"2238\"},{\"id\":\"2239\"}]},\"id\":\"2241\",\"type\":\"Toolbar\"},{\"attributes\":{\"line_color\":\"#30a2da\",\"line_width\":2,\"x\":{\"field\":\"k\"},\"y\":{\"field\":\"inertia\"}},\"id\":\"2251\",\"type\":\"Line\"},{\"attributes\":{\"bottom_units\":\"screen\",\"fill_alpha\":0.5,\"fill_color\":\"lightgrey\",\"left_units\":\"screen\",\"level\":\"overlay\",\"line_alpha\":1.0,\"line_color\":\"black\",\"line_dash\":[4,4],\"line_width\":2,\"right_units\":\"screen\",\"top_units\":\"screen\"},\"id\":\"2240\",\"type\":\"BoxAnnotation\"},{\"attributes\":{\"text\":\"Elbow Curve\",\"text_color\":{\"value\":\"black\"},\"text_font_size\":{\"value\":\"12pt\"}},\"id\":\"2219\",\"type\":\"Title\"},{\"attributes\":{},\"id\":\"2261\",\"type\":\"BasicTickFormatter\"},{\"attributes\":{\"below\":[{\"id\":\"2227\"}],\"center\":[{\"id\":\"2230\"},{\"id\":\"2234\"}],\"left\":[{\"id\":\"2231\"}],\"margin\":[5,5,5,5],\"min_border_bottom\":10,\"min_border_left\":10,\"min_border_right\":10,\"min_border_top\":10,\"plot_height\":300,\"plot_width\":700,\"renderers\":[{\"id\":\"2254\"}],\"sizing_mode\":\"fixed\",\"title\":{\"id\":\"2219\"},\"toolbar\":{\"id\":\"2241\"},\"x_range\":{\"id\":\"2215\"},\"x_scale\":{\"id\":\"2223\"},\"y_range\":{\"id\":\"2216\"},\"y_scale\":{\"id\":\"2225\"}},\"id\":\"2218\",\"subtype\":\"Figure\",\"type\":\"Plot\"},{\"attributes\":{\"data_source\":{\"id\":\"2248\"},\"glyph\":{\"id\":\"2251\"},\"hover_glyph\":null,\"muted_glyph\":{\"id\":\"2253\"},\"nonselection_glyph\":{\"id\":\"2252\"},\"selection_glyph\":null,\"view\":{\"id\":\"2255\"}},\"id\":\"2254\",\"type\":\"GlyphRenderer\"},{\"attributes\":{\"end\":9.0,\"reset_end\":9.0,\"reset_start\":1.0,\"start\":1.0,\"tags\":[[[\"k\",\"k\",null]]]},\"id\":\"2215\",\"type\":\"Range1d\"}],\"root_ids\":[\"2213\"]},\"title\":\"Bokeh Application\",\"version\":\"2.2.3\"}};\n    var render_items = [{\"docid\":\"be22725b-4042-4c6f-bead-af0d27fecb29\",\"root_ids\":[\"2213\"],\"roots\":{\"2213\":\"e420ac92-4372-4af3-8e73-d5671cd6e4a4\"}}];\n    root.Bokeh.embed.embed_items_notebook(docs_json, render_items);\n  }\n  if (root.Bokeh !== undefined && root.Bokeh.Panel !== undefined) {\n    embed_document(root);\n  } else {\n    var attempts = 0;\n    var timer = setInterval(function(root) {\n      if (root.Bokeh !== undefined && root.Bokeh.Panel !== undefined) {\n        clearInterval(timer);\n        embed_document(root);\n      } else if (document.readyState == \"complete\") {\n        attempts++;\n        if (attempts > 100) {\n          clearInterval(timer);\n          console.log(\"Bokeh: ERROR: Unable to run BokehJS code because BokehJS library is missing\");\n        }\n      }\n    }, 10, root)\n  }\n})(window);</script>",
      "application/vnd.holoviews_exec.v0+json": "",
      "text/plain": [
       ":Curve   [k]   (inertia)"
      ]
     },
     "metadata": {
      "application/vnd.holoviews_exec.v0+json": {
       "id": "2213"
      }
     },
     "execution_count": 172
    }
   ],
   "source": [
    "# Create an elbow curve to find the best value for K.\n",
    "inertia = []\n",
    "k = list(range(1, 10))\n",
    "# Calculate the inertia for the range of K values\n",
    "for i in k:\n",
    "   km = KMeans(n_clusters=i, random_state=0)\n",
    "   km.fit(pcs_df)\n",
    "   inertia.append(km.inertia_)\n",
    "\n",
    "elbow_data = {\"k\": k, \"inertia\": inertia}\n",
    "df_elbow = pd.DataFrame(elbow_data)\n",
    "df_elbow.hvplot.line(x=\"k\", y=\"inertia\", xticks=k, title=\"Elbow Curve\")"
   ]
  },
  {
   "cell_type": "markdown",
   "metadata": {},
   "source": [
    "Running K-Means with `k=4`"
   ]
  },
  {
   "cell_type": "code",
   "execution_count": 173,
   "metadata": {},
   "outputs": [
    {
     "output_type": "execute_result",
     "data": {
      "text/plain": [
       "array([0, 0, 0, 0, 0, 0, 3, 0, 0, 0, 3, 0, 0, 3, 0, 0, 3, 0, 0, 0, 0, 0,\n",
       "       0, 0, 0, 0, 0, 0, 0, 0, 0, 0, 0, 3, 0, 0, 0, 0, 0, 0, 0, 0, 3, 0,\n",
       "       0, 0, 0, 0, 0, 0, 3, 0, 3, 0, 0, 0, 0, 0, 0, 0, 0, 0, 0, 0, 0, 0,\n",
       "       0, 0, 0, 0, 0, 0, 0, 0, 0, 0, 3, 3, 0, 3, 0, 3, 3, 0, 0, 0, 3, 0,\n",
       "       0, 0, 0, 0, 0, 3, 3, 0, 0, 0, 0, 0, 0, 3, 0, 0, 0, 0, 0, 0, 0, 0,\n",
       "       0, 0, 0, 0, 0, 0, 3, 0, 0, 0, 0, 0, 0, 0, 0, 0, 3, 0, 3, 0, 0, 0,\n",
       "       3, 3, 0, 0, 0, 0, 0, 0, 0, 0, 3, 0, 0, 0, 0, 0, 3, 0, 0, 0, 0, 0,\n",
       "       0, 3, 0, 0, 0, 3, 0, 0, 0, 3, 0, 3, 3, 0, 0, 0, 3, 0, 3, 0, 0, 0,\n",
       "       3, 3, 3, 0, 3, 0, 0, 0, 0, 3, 0, 0, 0, 0, 0, 0, 0, 0, 0, 3, 0, 3,\n",
       "       0, 3, 3, 0, 3, 0, 0, 0, 0, 3, 0, 3, 0, 3, 3, 0, 0, 3, 3, 3, 0, 0,\n",
       "       3, 0, 0, 3, 0, 0, 0, 0, 0, 3, 0, 0, 0, 0, 0, 0, 3, 0, 3, 0, 0, 0,\n",
       "       0, 0, 3, 3, 0, 0, 0, 0, 0, 0, 3, 0, 3, 0, 3, 3, 0, 3, 3, 0, 0, 0,\n",
       "       3, 3, 0, 0, 0, 3, 0, 0, 3, 0, 3, 0, 0, 0, 0, 0, 0, 0, 3, 0, 0, 0,\n",
       "       0, 0, 3, 3, 0, 0, 0, 0, 0, 0, 3, 3, 0, 0, 3, 0, 0, 0, 3, 0, 0, 0,\n",
       "       0, 0, 0, 0, 0, 3, 3, 3, 0, 0, 3, 0, 0, 3, 0, 0, 0, 0, 0, 0, 0, 0,\n",
       "       0, 3, 0, 3, 3, 0, 0, 0, 3, 0, 0, 0, 0, 0, 0, 0, 0, 3, 3, 3, 0, 0,\n",
       "       0, 0, 3, 0, 3, 0, 3, 0, 0, 0, 0, 3, 3, 0, 0, 3, 3, 0, 0, 0, 0, 0,\n",
       "       0, 0, 0, 3, 2, 0, 0, 0, 3, 0, 0, 3, 0, 0, 3, 0, 0, 0, 0, 0, 0, 0,\n",
       "       0, 0, 0, 3, 3, 0, 0, 3, 0, 3, 0, 3, 0, 0, 0, 0, 0, 0, 0, 0, 0, 0,\n",
       "       0, 0, 0, 0, 0, 0, 3, 0, 3, 3, 3, 0, 0, 3, 0, 3, 0, 0, 0, 3, 0, 0,\n",
       "       0, 0, 0, 0, 3, 3, 0, 3, 0, 0, 3, 3, 0, 0, 0, 0, 0, 3, 0, 0, 0, 3,\n",
       "       0, 0, 0, 0, 3, 0, 0, 0, 0, 0, 0, 3, 0, 0, 3, 0, 0, 0, 3, 0, 0, 0,\n",
       "       3, 0, 0, 0, 3, 0, 0, 0, 0, 3, 0, 3, 0, 0, 0, 3, 0, 0, 0, 0, 0, 3,\n",
       "       0, 3, 0, 0, 3, 0, 0, 0, 0, 0, 0, 0, 0, 0, 0, 0, 3, 0, 3, 1, 3, 0,\n",
       "       0, 0, 0, 0])"
      ]
     },
     "metadata": {},
     "execution_count": 173
    }
   ],
   "source": [
    "# Initialize the K-Means model.\n",
    "model = KMeans(n_clusters=4, random_state=4)\n",
    "\n",
    "# Fit the model\n",
    "model.fit(X_scaled)\n",
    "\n",
    "# Predict clusters\n",
    "predictions = model.predict(X_scaled)\n",
    "predictions"
   ]
  },
  {
   "cell_type": "code",
   "execution_count": 174,
   "metadata": {},
   "outputs": [
    {
     "output_type": "stream",
     "name": "stdout",
     "text": [
      "Number of records:  (532, 9)\n"
     ]
    },
    {
     "output_type": "execute_result",
     "data": {
      "text/plain": [
       "           Algorithm ProofType  TotalCoinsMined TotalCoinSupply      PC 1  \\\n",
       "42            Scrypt   PoW/PoS     4.199995e+01              42 -0.346758   \n",
       "404           Scrypt   PoW/PoS     1.055185e+09       532000000 -0.330071   \n",
       "1337             X13   PoW/PoS     2.927942e+10    314159265359  2.296832   \n",
       "BTC          SHA-256       PoW     1.792718e+07        21000000 -0.142335   \n",
       "ETH           Ethash       PoW     1.076842e+08               0 -0.142250   \n",
       "LTC           Scrypt       PoW     6.303924e+07        84000000 -0.170596   \n",
       "DASH             X11   PoW/PoS     9.031294e+06        22000000 -0.391518   \n",
       "XMR   CryptoNight-V7       PoW     1.720114e+07               0 -0.141823   \n",
       "ETC           Ethash       PoW     1.133597e+08       210000000 -0.140688   \n",
       "ZEC         Equihash       PoW     7.383056e+06        21000000 -0.135538   \n",
       "\n",
       "          PC 2      PC 3          CoinName  Class  \n",
       "42    1.012134 -0.553112           42 Coin      0  \n",
       "404   1.012374 -0.553533           404Coin      0  \n",
       "1337  1.686099 -0.566931         EliteCoin      0  \n",
       "BTC  -1.296048  0.206597           Bitcoin      0  \n",
       "ETH  -2.024368  0.367623          Ethereum      0  \n",
       "LTC  -1.136693 -0.040329          Litecoin      0  \n",
       "DASH  1.209979 -0.467197              Dash      3  \n",
       "XMR  -2.185315  0.483592            Monero      0  \n",
       "ETC  -2.024453  0.367608  Ethereum Classic      0  \n",
       "ZEC  -1.993730  0.296550             ZCash      0  "
      ],
      "text/html": "<div>\n<style scoped>\n    .dataframe tbody tr th:only-of-type {\n        vertical-align: middle;\n    }\n\n    .dataframe tbody tr th {\n        vertical-align: top;\n    }\n\n    .dataframe thead th {\n        text-align: right;\n    }\n</style>\n<table border=\"1\" class=\"dataframe\">\n  <thead>\n    <tr style=\"text-align: right;\">\n      <th></th>\n      <th>Algorithm</th>\n      <th>ProofType</th>\n      <th>TotalCoinsMined</th>\n      <th>TotalCoinSupply</th>\n      <th>PC 1</th>\n      <th>PC 2</th>\n      <th>PC 3</th>\n      <th>CoinName</th>\n      <th>Class</th>\n    </tr>\n  </thead>\n  <tbody>\n    <tr>\n      <th>42</th>\n      <td>Scrypt</td>\n      <td>PoW/PoS</td>\n      <td>4.199995e+01</td>\n      <td>42</td>\n      <td>-0.346758</td>\n      <td>1.012134</td>\n      <td>-0.553112</td>\n      <td>42 Coin</td>\n      <td>0</td>\n    </tr>\n    <tr>\n      <th>404</th>\n      <td>Scrypt</td>\n      <td>PoW/PoS</td>\n      <td>1.055185e+09</td>\n      <td>532000000</td>\n      <td>-0.330071</td>\n      <td>1.012374</td>\n      <td>-0.553533</td>\n      <td>404Coin</td>\n      <td>0</td>\n    </tr>\n    <tr>\n      <th>1337</th>\n      <td>X13</td>\n      <td>PoW/PoS</td>\n      <td>2.927942e+10</td>\n      <td>314159265359</td>\n      <td>2.296832</td>\n      <td>1.686099</td>\n      <td>-0.566931</td>\n      <td>EliteCoin</td>\n      <td>0</td>\n    </tr>\n    <tr>\n      <th>BTC</th>\n      <td>SHA-256</td>\n      <td>PoW</td>\n      <td>1.792718e+07</td>\n      <td>21000000</td>\n      <td>-0.142335</td>\n      <td>-1.296048</td>\n      <td>0.206597</td>\n      <td>Bitcoin</td>\n      <td>0</td>\n    </tr>\n    <tr>\n      <th>ETH</th>\n      <td>Ethash</td>\n      <td>PoW</td>\n      <td>1.076842e+08</td>\n      <td>0</td>\n      <td>-0.142250</td>\n      <td>-2.024368</td>\n      <td>0.367623</td>\n      <td>Ethereum</td>\n      <td>0</td>\n    </tr>\n    <tr>\n      <th>LTC</th>\n      <td>Scrypt</td>\n      <td>PoW</td>\n      <td>6.303924e+07</td>\n      <td>84000000</td>\n      <td>-0.170596</td>\n      <td>-1.136693</td>\n      <td>-0.040329</td>\n      <td>Litecoin</td>\n      <td>0</td>\n    </tr>\n    <tr>\n      <th>DASH</th>\n      <td>X11</td>\n      <td>PoW/PoS</td>\n      <td>9.031294e+06</td>\n      <td>22000000</td>\n      <td>-0.391518</td>\n      <td>1.209979</td>\n      <td>-0.467197</td>\n      <td>Dash</td>\n      <td>3</td>\n    </tr>\n    <tr>\n      <th>XMR</th>\n      <td>CryptoNight-V7</td>\n      <td>PoW</td>\n      <td>1.720114e+07</td>\n      <td>0</td>\n      <td>-0.141823</td>\n      <td>-2.185315</td>\n      <td>0.483592</td>\n      <td>Monero</td>\n      <td>0</td>\n    </tr>\n    <tr>\n      <th>ETC</th>\n      <td>Ethash</td>\n      <td>PoW</td>\n      <td>1.133597e+08</td>\n      <td>210000000</td>\n      <td>-0.140688</td>\n      <td>-2.024453</td>\n      <td>0.367608</td>\n      <td>Ethereum Classic</td>\n      <td>0</td>\n    </tr>\n    <tr>\n      <th>ZEC</th>\n      <td>Equihash</td>\n      <td>PoW</td>\n      <td>7.383056e+06</td>\n      <td>21000000</td>\n      <td>-0.135538</td>\n      <td>-1.993730</td>\n      <td>0.296550</td>\n      <td>ZCash</td>\n      <td>0</td>\n    </tr>\n  </tbody>\n</table>\n</div>"
     },
     "metadata": {},
     "execution_count": 174
    }
   ],
   "source": [
    "# Create a new DataFrame including predicted clusters and cryptocurrencies features.\n",
    "# Concatentate the crypto_df and pcs_df DataFrames on the same columns.\n",
    "clustered_df = pd.concat([crypto_df, pcs_df], axis=1)\n",
    "\n",
    "#  Add a new column, \"CoinName\" to the clustered_df DataFrame that holds the names of the cryptocurrencies. \n",
    "clustered_df[\"CoinName\"] = names\n",
    "\n",
    "#  Add a new column, \"Class\" to the clustered_df DataFrame that holds the predictions.\n",
    "\n",
    "clustered_df[\"Class\"] = predictions\n",
    "\n",
    "# Print the shape of the clustered_df\n",
    "print(\"Number of records: \", clustered_df.shape)\n",
    "clustered_df.head(10)"
   ]
  },
  {
   "cell_type": "markdown",
   "metadata": {},
   "source": [
    "### Deliverable 4: Visualizing Cryptocurrencies Results\n",
    "\n",
    "#### 3D-Scatter with Clusters"
   ]
  },
  {
   "cell_type": "code",
   "execution_count": 203,
   "metadata": {},
   "outputs": [
    {
     "output_type": "display_data",
     "data": {
      "application/vnd.plotly.v1+json": {
       "config": {
        "plotlyServerURL": "https://plot.ly"
       },
       "data": [
        {
         "customdata": [
          [
           "Scrypt"
          ],
          [
           "Scrypt"
          ],
          [
           "X13"
          ],
          [
           "SHA-256"
          ],
          [
           "Ethash"
          ],
          [
           "Scrypt"
          ],
          [
           "CryptoNight-V7"
          ],
          [
           "Ethash"
          ],
          [
           "Equihash"
          ],
          [
           "Multiple"
          ],
          [
           "SHA-256"
          ],
          [
           "Scrypt"
          ],
          [
           "X15"
          ],
          [
           "Scrypt"
          ],
          [
           "Scrypt"
          ],
          [
           "Scrypt"
          ],
          [
           "Multiple"
          ],
          [
           "Scrypt"
          ],
          [
           "SHA-256"
          ],
          [
           "Scrypt"
          ],
          [
           "Scrypt"
          ],
          [
           "Scrypt"
          ],
          [
           "Quark"
          ],
          [
           "Groestl"
          ],
          [
           "Scrypt"
          ],
          [
           "Scrypt"
          ],
          [
           "Scrypt"
          ],
          [
           "Scrypt"
          ],
          [
           "Scrypt"
          ],
          [
           "Scrypt"
          ],
          [
           "Groestl"
          ],
          [
           "Multiple"
          ],
          [
           "SHA-256"
          ],
          [
           "Scrypt"
          ],
          [
           "Scrypt"
          ],
          [
           "Scrypt"
          ],
          [
           "Scrypt"
          ],
          [
           "Scrypt"
          ],
          [
           "Scrypt"
          ],
          [
           "NeoScrypt"
          ],
          [
           "Scrypt"
          ],
          [
           "Scrypt"
          ],
          [
           "Scrypt"
          ],
          [
           "Scrypt"
          ],
          [
           "Scrypt"
          ],
          [
           "SHA-256"
          ],
          [
           "Scrypt"
          ],
          [
           "Scrypt"
          ],
          [
           "Scrypt"
          ],
          [
           "SHA3"
          ],
          [
           "Scrypt"
          ],
          [
           "HybridScryptHash256"
          ],
          [
           "Scrypt"
          ],
          [
           "Scrypt"
          ],
          [
           "SHA-256"
          ],
          [
           "Scrypt"
          ],
          [
           "X13"
          ],
          [
           "Scrypt"
          ],
          [
           "SHA-256"
          ],
          [
           "Scrypt"
          ],
          [
           "X13"
          ],
          [
           "NeoScrypt"
          ],
          [
           "Scrypt"
          ],
          [
           "Scrypt"
          ],
          [
           "Scrypt"
          ],
          [
           "Scrypt"
          ],
          [
           "Scrypt"
          ],
          [
           "Scrypt"
          ],
          [
           "SHA-256"
          ],
          [
           "SHA-256"
          ],
          [
           "SHA-256"
          ],
          [
           "SHA-256"
          ],
          [
           "SHA-256"
          ],
          [
           "Scrypt"
          ],
          [
           "Scrypt"
          ],
          [
           "Scrypt"
          ],
          [
           "Scrypt"
          ],
          [
           "Lyra2REv2"
          ],
          [
           "Scrypt"
          ],
          [
           "SHA-256"
          ],
          [
           "X13"
          ],
          [
           "Scrypt"
          ],
          [
           "CryptoNight"
          ],
          [
           "CryptoNight"
          ],
          [
           "Shabal256"
          ],
          [
           "Scrypt"
          ],
          [
           "SHA-256"
          ],
          [
           "Groestl"
          ],
          [
           "Scrypt"
          ],
          [
           "Scrypt"
          ],
          [
           "Scrypt"
          ],
          [
           "X13"
          ],
          [
           "Scrypt"
          ],
          [
           "Scrypt"
          ],
          [
           "Scrypt"
          ],
          [
           "Scrypt"
          ],
          [
           "X13"
          ],
          [
           "Scrypt"
          ],
          [
           "Stanford Folding"
          ],
          [
           "Multiple"
          ],
          [
           "QuBit"
          ],
          [
           "Scrypt"
          ],
          [
           "Scrypt"
          ],
          [
           "Scrypt"
          ],
          [
           "M7 POW"
          ],
          [
           "Scrypt"
          ],
          [
           "SHA-256"
          ],
          [
           "Scrypt"
          ],
          [
           "SHA3"
          ],
          [
           "Lyra2RE"
          ],
          [
           "SHA-256"
          ],
          [
           "QUAIT"
          ],
          [
           "Scrypt"
          ],
          [
           "Scrypt"
          ],
          [
           "Scrypt"
          ],
          [
           "Ethash"
          ],
          [
           "X13"
          ],
          [
           "Blake2b"
          ],
          [
           "SHA-256"
          ],
          [
           "X15"
          ],
          [
           "SHA-256"
          ],
          [
           "BLAKE256"
          ],
          [
           "Scrypt"
          ],
          [
           "1GB AES Pattern Search"
          ],
          [
           "SHA-256"
          ],
          [
           "Scrypt"
          ],
          [
           "SHA-256"
          ],
          [
           "SHA-256"
          ],
          [
           "NIST5"
          ],
          [
           "Scrypt"
          ],
          [
           "Scrypt"
          ],
          [
           "Dagger"
          ],
          [
           "Scrypt"
          ],
          [
           "X11GOST"
          ],
          [
           "Scrypt"
          ],
          [
           "SHA-256"
          ],
          [
           "Scrypt"
          ],
          [
           "Scrypt"
          ],
          [
           "SHA-256"
          ],
          [
           "SHA-256"
          ],
          [
           "NIST5"
          ],
          [
           "Scrypt"
          ],
          [
           "Scrypt"
          ],
          [
           "Scrypt"
          ],
          [
           "Scrypt"
          ],
          [
           "Equihash"
          ],
          [
           "Scrypt"
          ],
          [
           "CryptoNight"
          ],
          [
           "SHA-256"
          ],
          [
           "SHA-256"
          ],
          [
           "Scrypt"
          ],
          [
           "Multiple"
          ],
          [
           "Scrypt"
          ],
          [
           "Scrypt"
          ],
          [
           "Scrypt"
          ],
          [
           "SHA-256"
          ],
          [
           "Scrypt"
          ],
          [
           "Scrypt"
          ],
          [
           "SHA-256D"
          ],
          [
           "Scrypt"
          ],
          [
           "Lyra2Z"
          ],
          [
           "X14"
          ],
          [
           "SHA-256D"
          ],
          [
           "Ethash"
          ],
          [
           "Equihash"
          ],
          [
           "DPoS"
          ],
          [
           "Scrypt"
          ],
          [
           "X13"
          ],
          [
           "Scrypt"
          ],
          [
           "Scrypt"
          ],
          [
           "SHA-256"
          ],
          [
           "Scrypt"
          ],
          [
           "Scrypt"
          ],
          [
           "Scrypt"
          ],
          [
           "CryptoNight"
          ],
          [
           "Scrypt"
          ],
          [
           "Scrypt"
          ],
          [
           "Scrypt"
          ],
          [
           "Scrypt"
          ],
          [
           "QuBit"
          ],
          [
           "Scrypt"
          ],
          [
           "CryptoNight"
          ],
          [
           "Lyra2RE"
          ],
          [
           "Scrypt"
          ],
          [
           "SHA-256"
          ],
          [
           "Scrypt"
          ],
          [
           "Scrypt"
          ],
          [
           "CryptoNight-V7"
          ],
          [
           "Scrypt"
          ],
          [
           "Scrypt"
          ],
          [
           "Scrypt"
          ],
          [
           "Equihash"
          ],
          [
           "Scrypt"
          ],
          [
           "Scrypt"
          ],
          [
           "Lyra2RE"
          ],
          [
           "Scrypt"
          ],
          [
           "Dagger-Hashimoto"
          ],
          [
           "Blake2S"
          ],
          [
           "Scrypt"
          ],
          [
           "NIST5"
          ],
          [
           "Scrypt"
          ],
          [
           "Scrypt"
          ],
          [
           "Scrypt"
          ],
          [
           "Scrypt"
          ],
          [
           "Scrypt"
          ],
          [
           "SHA-256"
          ],
          [
           "Scrypt"
          ],
          [
           "X15"
          ],
          [
           "Scrypt"
          ],
          [
           "CryptoNight-V7"
          ],
          [
           "536"
          ],
          [
           "Argon2d"
          ],
          [
           "Blake2b"
          ],
          [
           "Cloverhash"
          ],
          [
           "CryptoNight"
          ],
          [
           "NIST5"
          ],
          [
           "NIST5"
          ],
          [
           "Skein"
          ],
          [
           "Scrypt"
          ],
          [
           "X13"
          ],
          [
           "Scrypt"
          ],
          [
           "Scrypt"
          ],
          [
           "CryptoNight"
          ],
          [
           "X13"
          ],
          [
           "Time Travel"
          ],
          [
           "Scrypt"
          ],
          [
           "Keccak"
          ],
          [
           "Skein"
          ],
          [
           "SHA-256"
          ],
          [
           "Scrypt"
          ],
          [
           "VeChainThor Authority"
          ],
          [
           "Scrypt"
          ],
          [
           "Scrypt"
          ],
          [
           "Scrypt"
          ],
          [
           "Scrypt"
          ],
          [
           "Scrypt"
          ],
          [
           "Scrypt"
          ],
          [
           "Scrypt"
          ],
          [
           "Scrypt"
          ],
          [
           "CryptoNight"
          ],
          [
           "Equihash"
          ],
          [
           "NeoScrypt"
          ],
          [
           "Scrypt"
          ],
          [
           "NeoScrypt"
          ],
          [
           "Equihash"
          ],
          [
           "Scrypt"
          ],
          [
           "SHA-256"
          ],
          [
           "NIST5"
          ],
          [
           "PHI1612"
          ],
          [
           "Dagger"
          ],
          [
           "Scrypt"
          ],
          [
           "Quark"
          ],
          [
           "Scrypt"
          ],
          [
           "Scrypt"
          ],
          [
           "NeoScrypt"
          ],
          [
           "Ethash"
          ],
          [
           "NeoScrypt"
          ],
          [
           "DPoS"
          ],
          [
           "NIST5"
          ],
          [
           "X13"
          ],
          [
           "Multiple"
          ],
          [
           "Scrypt"
          ],
          [
           "CryptoNight"
          ],
          [
           "CryptoNight"
          ],
          [
           "Ethash"
          ],
          [
           "CryptoNight-V7"
          ],
          [
           "Scrypt"
          ],
          [
           "Scrypt"
          ],
          [
           "Scrypt"
          ],
          [
           "BLAKE256"
          ],
          [
           "NeoScrypt"
          ],
          [
           "NeoScrypt"
          ],
          [
           "Scrypt"
          ],
          [
           "Scrypt"
          ],
          [
           "Scrypt"
          ],
          [
           "SHA-256"
          ],
          [
           "C11"
          ],
          [
           "Scrypt"
          ],
          [
           "CryptoNight"
          ],
          [
           "SkunkHash"
          ],
          [
           "Scrypt"
          ],
          [
           "CryptoNight"
          ],
          [
           "Scrypt"
          ],
          [
           "Dagger"
          ],
          [
           "Lyra2REv2"
          ],
          [
           "SHA-256 + Hive"
          ],
          [
           "Scrypt"
          ],
          [
           "Scrypt"
          ],
          [
           "C11"
          ],
          [
           "Proof-of-Authority"
          ],
          [
           "XEVAN"
          ],
          [
           "Scrypt"
          ],
          [
           "Ethash"
          ],
          [
           "CryptoNight"
          ],
          [
           "Scrypt"
          ],
          [
           "IMesh"
          ],
          [
           "NIST5"
          ],
          [
           "Scrypt"
          ],
          [
           "Scrypt"
          ],
          [
           "Equihash"
          ],
          [
           "Scrypt"
          ],
          [
           "Lyra2Z"
          ],
          [
           "Scrypt"
          ],
          [
           "Semux BFT consensus"
          ],
          [
           "Quark"
          ],
          [
           "CryptoNight"
          ],
          [
           "Scrypt"
          ],
          [
           "NIST5"
          ],
          [
           "Lyra2RE"
          ],
          [
           "XEVAN"
          ],
          [
           "Tribus"
          ],
          [
           "Scrypt"
          ],
          [
           "Lyra2Z"
          ],
          [
           "CryptoNight"
          ],
          [
           "CryptoNight Heavy"
          ],
          [
           "CryptoNight"
          ],
          [
           "Scrypt"
          ],
          [
           "Scrypt"
          ],
          [
           "Jump Consistent Hash"
          ],
          [
           "SHA-256D"
          ],
          [
           "CryptoNight"
          ],
          [
           "Scrypt"
          ],
          [
           "Scrypt"
          ],
          [
           "X16R"
          ],
          [
           "HMQ1725"
          ],
          [
           "X16R"
          ],
          [
           "Quark"
          ],
          [
           "Scrypt"
          ],
          [
           "Lyra2REv2"
          ],
          [
           "Scrypt"
          ],
          [
           "Scrypt"
          ],
          [
           "CryptoNight-V7"
          ],
          [
           "Cryptonight-GPU"
          ],
          [
           "XEVAN"
          ],
          [
           "CryptoNight Heavy"
          ],
          [
           "Scrypt"
          ],
          [
           "SHA-256"
          ],
          [
           "Keccak"
          ],
          [
           "Scrypt"
          ],
          [
           "SHA-512"
          ],
          [
           "X16R"
          ],
          [
           "ECC 256K1"
          ],
          [
           "Equihash"
          ],
          [
           "Lyra2Z"
          ],
          [
           "SHA-256"
          ],
          [
           "XEVAN"
          ],
          [
           "CryptoNight"
          ],
          [
           "Quark"
          ],
          [
           "Blake"
          ],
          [
           "Blake"
          ],
          [
           "Exosis"
          ],
          [
           "Scrypt"
          ],
          [
           "Scrypt"
          ],
          [
           "Equihash"
          ],
          [
           "Quark"
          ],
          [
           "Equihash"
          ],
          [
           "Scrypt"
          ],
          [
           "QuBit"
          ],
          [
           "Scrypt"
          ],
          [
           "XEVAN"
          ],
          [
           "SHA-256D"
          ],
          [
           "SHA-256"
          ],
          [
           "X13"
          ],
          [
           "SHA-256"
          ],
          [
           "DPoS"
          ],
          [
           "Scrypt"
          ],
          [
           "Scrypt"
          ],
          [
           "NeoScrypt"
          ],
          [
           "Scrypt"
          ],
          [
           "Blake"
          ],
          [
           "Scrypt"
          ],
          [
           "Scrypt"
          ],
          [
           "Scrypt"
          ],
          [
           "Scrypt"
          ],
          [
           "SHA-256"
          ],
          [
           "SHA-256"
          ],
          [
           "Scrypt"
          ],
          [
           "Scrypt"
          ],
          [
           "Scrypt"
          ],
          [
           "Groestl"
          ],
          [
           "Scrypt"
          ],
          [
           "Scrypt"
          ],
          [
           "Scrypt"
          ],
          [
           "SHA-256"
          ],
          [
           "DPoS"
          ],
          [
           "Scrypt"
          ],
          [
           "Scrypt"
          ],
          [
           "NeoScrypt"
          ],
          [
           "Multiple"
          ],
          [
           "X13"
          ],
          [
           "Equihash+Scrypt"
          ],
          [
           "DPoS"
          ],
          [
           "Ethash"
          ],
          [
           "DPoS"
          ],
          [
           "Leased POS"
          ],
          [
           "SHA-256"
          ],
          [
           "Scrypt"
          ],
          [
           "CryptoNight"
          ],
          [
           "Equihash"
          ],
          [
           "Scrypt"
          ]
         ],
         "hovertemplate": "<b>%{hovertext}</b><br><br>Class=%{marker.color}<br>PC 1=%{x}<br>PC 2=%{y}<br>PC 3=%{z}<br>Algorithm=%{customdata[0]}<extra></extra>",
         "hovertext": [
          "42 Coin",
          "404Coin",
          "EliteCoin",
          "Bitcoin",
          "Ethereum",
          "Litecoin",
          "Monero",
          "Ethereum Classic",
          "ZCash",
          "DigiByte",
          "BitcoinDark",
          "ProsperCoin",
          "KoboCoin",
          "Argentum",
          "Aurora Coin",
          "BlueCoin",
          "MyriadCoin",
          "MoonCoin",
          "ZetaCoin",
          "SexCoin",
          "Quatloo",
          "EnergyCoin",
          "QuarkCoin",
          "Riecoin",
          "Digitalcoin ",
          "BitBar",
          "Catcoin",
          "CryptoBullion",
          "CannaCoin",
          "CasinoCoin",
          "Diamond",
          "Verge",
          "DevCoin",
          "EarthCoin",
          "E-Gulden",
          "Einsteinium",
          "Emerald",
          "FlutterCoin",
          "Franko",
          "FeatherCoin",
          "GrandCoin",
          "GlobalCoin",
          "GoldCoin",
          "HoboNickels",
          "Infinite Coin",
          "IXcoin",
          "KrugerCoin",
          "LuckyCoin",
          "Litebar ",
          "MaxCoin",
          "MegaCoin",
          "MediterraneanCoin",
          "MintCoin",
          "MinCoin",
          "MazaCoin",
          "Nautilus Coin",
          "NavCoin",
          "NobleCoin",
          "Namecoin",
          "NyanCoin",
          "OpalCoin",
          "Orbitcoin",
          "PotCoin",
          "PhoenixCoin",
          "Reddcoin",
          "RonPaulCoin",
          "StableCoin",
          "SmartCoin",
          "SysCoin",
          "TigerCoin",
          "TerraCoin",
          "UnbreakableCoin",
          "Unobtanium",
          "UnitaryStatus Dollar",
          "UltraCoin",
          "ViaCoin",
          "VeriCoin",
          "Vertcoin",
          "WorldCoin",
          "JouleCoin",
          "StealthCoin",
          "ZCC Coin",
          "ByteCoin",
          "DigitalNote ",
          "BurstCoin",
          "MonaCoin",
          "Neutron",
          "FairCoin",
          "Gulden",
          "RubyCoin",
          "PesetaCoin",
          "Kore",
          "Wild Beast Coin",
          "Dnotes",
          "Flo",
          "8BIT Coin",
          "Sativa Coin",
          "ArtByte",
          "Folding Coin",
          "Unitus",
          "CypherPunkCoin",
          "OmniCron",
          "Vtorrent",
          "GreenCoin",
          "Cryptonite",
          "MasterCoin",
          "SoonCoin",
          "1Credit",
          "Nexus",
          "Crypto",
          "Anarchists Prime",
          "Droidz",
          "Song Coin",
          "BitZeny",
          "Diggits",
          "Expanse",
          "Paycon",
          "Siacoin",
          "Emercoin",
          "EverGreenCoin",
          "I0coin",
          "Decred",
          "Revolution VR",
          "HOdlcoin",
          "EDRCoin",
          "Gamecredits",
          "DubaiCoin",
          "CarpeDiemCoin",
          "PWR Coin",
          "BillaryCoin",
          "GPU Coin",
          "SoilCoin",
          "YoCoin",
          "SibCoin",
          "ZeitCoin",
          "SwingCoin",
          "SafeExchangeCoin",
          "Francs",
          "Revenu",
          "Clockcoin",
          "VIP Tokens",
          "Omni",
          "PutinCoin",
          "iBankCoin",
          "Frankywillcoin",
          "Komodo",
          "CarterCoin",
          "Karbo",
          "BitTokens",
          "ZayedCoin",
          "ZoneCoin",
          "Circuits of Value",
          "RootCoin",
          "DopeCoin",
          "BitCurrency",
          "DollarCoin",
          "Swiscoin",
          "Shilling",
          "BuzzCoin",
          "PesoBit",
          "ZCoin",
          "GanjaCoin V2",
          "LanaCoin",
          "Elementrem",
          "ZClassic",
          "ARK",
          "KiloCoin",
          "EmberCoin",
          "PLNCoin",
          "AquariusCoin",
          "Eurocoin",
          "BitcoinFast",
          "BitConnect Coin",
          "MoneyCoin",
          "Cannabis Industry Coin",
          "Russiacoin",
          "PandaCoin",
          "GameUnits",
          "GAKHcoin",
          "LiteCreed",
          "OsmiumCoin",
          "Bikercoins",
          "HexxCoin",
          "Klingon Empire Darsek",
          "Internet of People",
          "Printerium",
          "Impeach",
          "Citadel",
          "Zilbercoin",
          "FirstCoin",
          "BeaverCoin",
          "Zero",
          "OpenChat",
          "Canada eCoin",
          "Zoin",
          "RenosCoin",
          "DubaiCoin",
          "TajCoin",
          "EB3coin",
          "Coinonat",
          "Independent Money System",
          "ArgusCoin",
          "LomoCoin",
          "BenjiRolls",
          "GrowthCoin",
          "ILCoin",
          "Degas Coin",
          "HTML5 Coin",
          "EquiTrader",
          "Quantum Resistant Ledger",
          "Espers",
          "Dynamic",
          "Nano",
          "ChanCoin",
          "Dinastycoin",
          "Denarius",
          "Virta Unique Coin",
          "Bitcoin Planet",
          "Unify",
          "BritCoin",
          "SocialCoin",
          "Linda",
          "LeviarCoin",
          "DeepOnion",
          "Bitcore",
          "gCn Coin",
          "SmartCash",
          "Cream",
          "Bitcoin Cash",
          "Draftcoin",
          "Vechain",
          "Sojourn Coin",
          "NewYorkCoin",
          "FrazCoin",
          "Kronecoin",
          "AdCoin",
          "Linx",
          "CoinonatX",
          "Ethereum Dark",
          "Sumokoin",
          "BitcoinZ",
          "TrezarCoin",
          "TerraNovaCoin",
          "VIVO Coin",
          "Bitcoin Gold",
          "WomenCoin",
          "Theresa May Coin",
          "NamoCoin",
          "LUXCoin",
          "Pirl",
          "Xios",
          "Bitcloud 2.0",
          "eBoost",
          "BlackholeCoin",
          "Innova",
          "Ellaism",
          "GoByte",
          "Lamden Tau",
          "Electra",
          "Bitcoin Diamond",
          "SHIELD",
          "Cash & Back Coin",
          "UltraNote",
          "BitCoal",
          "DaxxCoin",
          "Lethean",
          "GermanCoin",
          "LiteCoin Ultra",
          "PopularCoin",
          "Photon",
          "SparksPay",
          "GunCoin",
          "IrishCoin",
          "Trollcoin",
          "Litecoin Plus",
          "UnitedBitcoin",
          "Interzone",
          "My Big Coin",
          "TurtleCoin",
          "MUNcoin",
          "Unified Society USDEX",
          "Niobio Cash",
          "ShareChain",
          "Travelflex",
          "KREDS",
          "LitecoinCash",
          "BitFlip",
          "LottoCoin",
          "Stipend",
          "Poa Network",
          "Ellerium",
          "Velox",
          "Callisto Network",
          "BitTube",
          "Poseidon",
          "Aidos Kuneen",
          "Bitspace",
          "Briacoin",
          "Ignition",
          "Bitrolium",
          "MedicCoin",
          "Alpenschillling",
          "Abjcoin",
          "Semux",
          "Carebit",
          "Monero Classic",
          "iDealCash",
          "Jumpcoin",
          "Infinex",
          "Bitcoin Incognito",
          "KEYCO",
          "HollyWoodCoin",
          "GINcoin",
          "PlatinCoin",
          "Loki",
          "Newton Coin",
          "Swisscoin",
          "Xt3ch",
          "MassGrid",
          "TheVig",
          "PluraCoin",
          "EmaratCoin",
          "Lynx",
          "Motion",
          "PlusOneCoin",
          "Trivechain",
          "Giant",
          "Peony Coin",
          "Absolute Coin",
          "HexCoin",
          "TPCash",
          "Webchain",
          "Ryo",
          "Urals Coin",
          "Qwertycoin",
          "MMOCoin",
          "Project Pai",
          "XDNA",
          "ThunderStake",
          "Kcash",
          "Xchange",
          "Acute Angle Cloud",
          "CrypticCoin",
          "Actinium",
          "Bitcoin SV",
          "BitMoney",
          "FREDEnergy",
          "HerbCoin",
          "Universal Molecule",
          "Lithium",
          "Exosis",
          "Block-Logic",
          "Oduwa",
          "Beam",
          "Galilel",
          "Bithereum",
          "Credit",
          "SLICE",
          "Nasdacoin",
          "Beetle Coin",
          "Titan Coin",
          "BLAST",
          "Bitcoin Rhodium",
          "GlobalToken",
          "ALAX",
          "LiteDoge",
          "SolarCoin",
          "UFO Coin",
          "OrangeCoin",
          "BlakeCoin",
          "BitstarCoin",
          "HyperCoin",
          "Crypto Escudo",
          "AudioCoin",
          "IncaKoin",
          "Crown Coin",
          "Genstake",
          "SmileyCoin",
          "XiaoMiCoin",
          "Groestlcoin",
          " ClubCoin",
          "Bata",
          "Pakcoin",
          "OKCash",
          "Lisk",
          "HiCoin",
          "WhiteCoin",
          "FriendshipCoin",
          "JoinCoin",
          "Triangles Coin",
          "Vollar",
          "EOS",
          "Reality Clash",
          "Oxycoin",
          "Waves",
          "ZEPHYR",
          "Gapcoin",
          "Beldex",
          "Horizen",
          "BitcoinPlus"
         ],
         "legendgroup": "0",
         "marker": {
          "color": [
           0,
           0,
           0,
           0,
           0,
           0,
           0,
           0,
           0,
           0,
           0,
           0,
           0,
           0,
           0,
           0,
           0,
           0,
           0,
           0,
           0,
           0,
           0,
           0,
           0,
           0,
           0,
           0,
           0,
           0,
           0,
           0,
           0,
           0,
           0,
           0,
           0,
           0,
           0,
           0,
           0,
           0,
           0,
           0,
           0,
           0,
           0,
           0,
           0,
           0,
           0,
           0,
           0,
           0,
           0,
           0,
           0,
           0,
           0,
           0,
           0,
           0,
           0,
           0,
           0,
           0,
           0,
           0,
           0,
           0,
           0,
           0,
           0,
           0,
           0,
           0,
           0,
           0,
           0,
           0,
           0,
           0,
           0,
           0,
           0,
           0,
           0,
           0,
           0,
           0,
           0,
           0,
           0,
           0,
           0,
           0,
           0,
           0,
           0,
           0,
           0,
           0,
           0,
           0,
           0,
           0,
           0,
           0,
           0,
           0,
           0,
           0,
           0,
           0,
           0,
           0,
           0,
           0,
           0,
           0,
           0,
           0,
           0,
           0,
           0,
           0,
           0,
           0,
           0,
           0,
           0,
           0,
           0,
           0,
           0,
           0,
           0,
           0,
           0,
           0,
           0,
           0,
           0,
           0,
           0,
           0,
           0,
           0,
           0,
           0,
           0,
           0,
           0,
           0,
           0,
           0,
           0,
           0,
           0,
           0,
           0,
           0,
           0,
           0,
           0,
           0,
           0,
           0,
           0,
           0,
           0,
           0,
           0,
           0,
           0,
           0,
           0,
           0,
           0,
           0,
           0,
           0,
           0,
           0,
           0,
           0,
           0,
           0,
           0,
           0,
           0,
           0,
           0,
           0,
           0,
           0,
           0,
           0,
           0,
           0,
           0,
           0,
           0,
           0,
           0,
           0,
           0,
           0,
           0,
           0,
           0,
           0,
           0,
           0,
           0,
           0,
           0,
           0,
           0,
           0,
           0,
           0,
           0,
           0,
           0,
           0,
           0,
           0,
           0,
           0,
           0,
           0,
           0,
           0,
           0,
           0,
           0,
           0,
           0,
           0,
           0,
           0,
           0,
           0,
           0,
           0,
           0,
           0,
           0,
           0,
           0,
           0,
           0,
           0,
           0,
           0,
           0,
           0,
           0,
           0,
           0,
           0,
           0,
           0,
           0,
           0,
           0,
           0,
           0,
           0,
           0,
           0,
           0,
           0,
           0,
           0,
           0,
           0,
           0,
           0,
           0,
           0,
           0,
           0,
           0,
           0,
           0,
           0,
           0,
           0,
           0,
           0,
           0,
           0,
           0,
           0,
           0,
           0,
           0,
           0,
           0,
           0,
           0,
           0,
           0,
           0,
           0,
           0,
           0,
           0,
           0,
           0,
           0,
           0,
           0,
           0,
           0,
           0,
           0,
           0,
           0,
           0,
           0,
           0,
           0,
           0,
           0,
           0,
           0,
           0,
           0,
           0,
           0,
           0,
           0,
           0,
           0,
           0,
           0,
           0,
           0,
           0,
           0,
           0,
           0,
           0,
           0,
           0,
           0,
           0,
           0,
           0,
           0,
           0,
           0,
           0,
           0,
           0,
           0,
           0,
           0,
           0,
           0,
           0,
           0,
           0,
           0,
           0,
           0,
           0,
           0,
           0,
           0,
           0,
           0,
           0,
           0,
           0,
           0,
           0,
           0,
           0,
           0,
           0,
           0,
           0,
           0,
           0,
           0,
           0,
           0,
           0,
           0,
           0,
           0,
           0,
           0,
           0,
           0,
           0
          ],
          "coloraxis": "coloraxis",
          "symbol": "circle"
         },
         "mode": "markers",
         "name": "0",
         "scene": "scene",
         "showlegend": true,
         "type": "scatter3d",
         "x": [
          -0.32596885994790836,
          -0.30932449767456194,
          2.2990095639694257,
          -0.14948406550440027,
          -0.1623820868649699,
          -0.1601351978866398,
          -0.143142836297012,
          -0.16082623006652658,
          -0.12989239745159675,
          0.14847677556086938,
          -0.31414969907938706,
          -0.1612801557269238,
          -0.23818055442909414,
          -0.1608971906818307,
          -0.32562882048680575,
          -0.31821362834102,
          -0.1046300808623336,
          2.556834225008836,
          -0.14657222698971437,
          -0.15815576670875342,
          -0.16070151588263787,
          -0.3244669017905644,
          -0.23174686919707707,
          -0.20183617233296752,
          -0.1607500834093349,
          -0.3259648015864352,
          -0.1612624386452578,
          -0.3259490995359201,
          -0.1613487877937563,
          0.6582902926426274,
          -0.36743384753108743,
          0.17221683963163378,
          0.22793883289644126,
          0.08710357994722422,
          -0.16109534832766328,
          -0.15670569550034807,
          -0.1610347332592133,
          -0.2651030246232542,
          -0.16140573067278258,
          -0.18192165073409228,
          -0.1406521361510085,
          -0.16020216268635162,
          -0.16047935275095226,
          -0.3240298949681661,
          1.5855621667242226,
          -0.14944547174941974,
          -0.15777191283048148,
          -0.16112176169977513,
          -0.16147618079463172,
          -0.40951287053528035,
          -0.1607362598567965,
          -0.14409729435076765,
          -0.02832390515083269,
          -0.16135758656304297,
          -0.2774990923193204,
          -0.28790035636952344,
          -0.28146521932002977,
          -0.026436909495703525,
          -0.14952300832936152,
          -0.1550285301810342,
          -0.28208681958225557,
          -0.35125061075328806,
          -0.320277948764636,
          -0.32437245999900083,
          0.03182227178651535,
          -0.16133708085560117,
          -0.159433925560153,
          -0.16082440441814966,
          -0.13668995677942683,
          -0.14898736616980252,
          -0.14927428222361644,
          -0.1492573983841305,
          -0.14984730041459896,
          -0.30122995614163606,
          -0.3246478498656384,
          -0.16105384650591453,
          -0.26590542701628495,
          -0.19749017692817364,
          -0.15816052285452956,
          -0.14905459072853047,
          -0.28186789737279416,
          -0.31708367365301615,
          3.8509758255847872,
          0.4537136523468057,
          -0.037335927577808285,
          -0.15992276844857592,
          -0.31336232259494634,
          -0.3668559632172447,
          -0.14454111222112478,
          -0.28788058669023514,
          -0.15864299256386402,
          -0.2821621685014693,
          -0.16147839186930027,
          -0.2825413478941378,
          -0.1585081412225877,
          -0.32595094602703506,
          -0.2821143947417205,
          -0.14474745032054787,
          -0.13821810407080867,
          -0.13859820576262047,
          -0.19181607460549,
          -0.1613515926959132,
          -0.32568564738283073,
          -0.03444091860075842,
          -0.12650814871597862,
          -0.161487269858598,
          -0.14955075939815943,
          0.4897692474609826,
          -0.407025049028171,
          -0.15624445356083633,
          -0.14929096869576203,
          -0.38320261007620665,
          -0.15961347466958112,
          -0.15880660628669171,
          -0.2862839873874672,
          -0.16344857987763206,
          -0.28163661980364835,
          0.35573327878050537,
          -0.30671663700938395,
          -0.24061864273639583,
          -0.14944659303200228,
          -0.06976899927204931,
          -0.1574496155850649,
          -0.14580218783428356,
          -0.3141206414868219,
          -0.16005224349444264,
          -0.3141842391502996,
          0.26857314864717335,
          -0.22818831778233392,
          -0.32556171502337194,
          -0.28615352342233197,
          -0.15140945757547475,
          -0.16029969011556314,
          -0.156619720761857,
          0.8638351417073206,
          -0.31398458604421214,
          -0.07165042035545216,
          -0.16127744038321254,
          -0.31272990730372024,
          -0.3104013290891742,
          -0.349428494208783,
          -0.16148732828854329,
          -0.30188723089651165,
          -0.3255997824330076,
          -0.3240404797245915,
          -0.1617716950247411,
          -0.32480492432969243,
          0.2987963424369015,
          -0.31416524129558615,
          -0.14970639625091903,
          -0.32578868942649286,
          -0.11869329269894455,
          -0.32594518476758,
          -0.1586573424633091,
          -0.2861424483489996,
          -0.14966506803612958,
          -0.2106661396837671,
          -0.161151138153695,
          0.02786363825869471,
          -0.32555971920234744,
          -0.15910082288883465,
          -0.3999818066679732,
          -0.2863170182644059,
          -0.16319101045289172,
          -0.12991399395155784,
          3.7564908295784574,
          -0.08831350161611458,
          0.8489418741274095,
          -0.3254874609141893,
          -0.3256416463937779,
          -0.31402804562156195,
          -0.3254881793739767,
          -0.32563541075567787,
          -0.3212296356639266,
          0.2987906780843888,
          -0.32484723531112875,
          0.35464374404155713,
          -0.3258344467225438,
          -0.3259049197116469,
          -0.35543640873480253,
          -0.1614690899186354,
          0.2989212575236858,
          -0.15678421381320023,
          -0.3221368711119702,
          -0.31414167807205,
          -0.3256829988643129,
          -0.32580983357145976,
          -0.14190928080958098,
          -0.2877873538188169,
          -0.2681023144951147,
          -0.16143740918346056,
          -0.12992634475617393,
          -0.30668505042549066,
          -0.15957274589447032,
          -0.1565028953270621,
          -0.28752867589421965,
          -0.15172563004427175,
          -0.3900240482745508,
          -0.1324009618396841,
          -0.18614932811318213,
          -0.32575317343774324,
          -0.3257523864642382,
          -0.3188837650168001,
          -0.16100030100053303,
          -0.2704523073985501,
          -0.11607117183381187,
          -0.3249648866519476,
          0.8923753543508011,
          -0.1608226468116402,
          -0.14176690684951337,
          0.5632604089548978,
          -0.13270777181680782,
          -0.04419024568597113,
          -0.15623868282936296,
          0.3348722831562142,
          -0.3509623996186142,
          -0.34946642479901946,
          -0.4122279863380062,
          -0.16114144308958578,
          -0.28179985726452295,
          -0.1609052195067444,
          0.13837253280661815,
          0.2991851889976403,
          -0.2818705268966502,
          -0.172080008312379,
          3.244357076623711,
          -0.13219666833749158,
          -0.41173335634350877,
          -0.14948323051615348,
          -0.2878613701042125,
          4.4213233739683,
          -0.08716386381526507,
          1.5838710181945697,
          -0.16123919983143603,
          -0.16069156049748345,
          -0.16039286904333622,
          -0.16037981239190327,
          -0.3253888080757523,
          -0.3258878687544291,
          0.29936851725179503,
          0.0821337486198521,
          -0.3462559400083183,
          -0.3258435621375146,
          -0.18660498289563798,
          -0.12977255463297124,
          0.4424449657636641,
          -0.3124898047556122,
          -0.33574773698993193,
          -0.400264457159584,
          -0.15017012063785554,
          -0.3257939653491952,
          -0.39934224573145805,
          -0.15957095675156413,
          -0.3256644727834065,
          -0.18645059701762295,
          -0.16155854583870005,
          -0.1865506663614258,
          3.7613409580995687,
          0.2078921307085997,
          -0.2785452124484451,
          -0.12884133269016262,
          -0.32312781845893707,
          1.1356756161829953,
          0.29877349023683736,
          -0.08654903091976796,
          -0.13089207176404802,
          0.08792476785109579,
          -0.3248042544933705,
          -0.07772189830642,
          1.0987738179116469,
          -0.186602525435036,
          -0.17964848476795123,
          -0.16049104788778767,
          -0.3123844422764881,
          -0.3259099779884071,
          -0.14946264493541875,
          -0.2042991929815782,
          -0.2903470245242354,
          8.026185377852924,
          -0.1603269120315743,
          -0.3214602786077192,
          0.3026432441629257,
          0.03133888756848753,
          -0.14967363526323718,
          -0.18306507435113667,
          -0.37220103335160437,
          -0.1610641536486588,
          0.14566385095432957,
          -0.36880286209977586,
          -0.39358592625401356,
          -0.31386617720085763,
          -0.2870224959164746,
          -0.11466083175947213,
          0.30668605888407363,
          -0.16130088070043933,
          -0.15425028775181887,
          -0.35056187259670735,
          -0.3259373029230659,
          -0.32591903782402903,
          -0.12876475509001434,
          -0.2814105525305699,
          -0.15688729901470794,
          -0.3256359012345352,
          3.931686436808552,
          -0.3980115783824584,
          0.2989558175150309,
          -0.2725731165359593,
          -0.18620864912761817,
          -0.15662964944863492,
          -0.2816522842783339,
          -0.15422346442498416,
          -0.2875559050678693,
          -0.1591850856739347,
          0.3028785096761883,
          0.574151809898121,
          2.105156914230752,
          -0.12927399536801532,
          -0.28780776996017304,
          -0.17315492564211846,
          -0.35154597386610514,
          0.31254482102946907,
          -0.3251106093298697,
          2.2446847797167,
          -0.20578652270120376,
          -0.14938021109385485,
          -0.3694766296264158,
          -0.40102416306794675,
          -0.16870624339638413,
          -0.36264465399339607,
          -0.1613254426319934,
          -0.31882391500473417,
          -0.13077438128798058,
          -0.16592452070743807,
          -0.14815982627730298,
          3.09374559014152,
          -0.28505659186711724,
          -0.10935552055667881,
          -0.3567644478281434,
          -0.18561043519246934,
          -0.295792976468158,
          -0.20521502901867406,
          -0.35728656862678837,
          -0.024642054954712556,
          -0.1585836365448028,
          -0.14948326804596557,
          0.514762629899208,
          0.37861541032751755,
          -0.40031962884713296,
          -0.15541786371640087,
          -0.1558092693004442,
          -0.13820242252504927,
          -0.160219093038954,
          -0.3256398446117815,
          -0.12783524606344554,
          -0.4007751964221673,
          -0.1296055626151032,
          0.5797619899546045,
          -0.19102810550412735,
          -0.3251234587011572,
          -0.30832853366759505,
          -0.306324648465297,
          -0.14876022997503893,
          -0.11777300614052662,
          -0.14762956397343002,
          3.773569179110007,
          0.10876011934507891,
          0.5336281917547403,
          -0.11185140660402298,
          -0.32450989182286905,
          -0.10634325146316123,
          -0.32533364924562463,
          -0.32585131372442055,
          -0.14489789360753685,
          -0.23966976972435305,
          -0.09402509731917755,
          -0.14927365327173947,
          -0.3251303868378487,
          0.5535176266819642,
          -0.31820265483077476,
          -0.2013976537223734,
          -0.32357153578882514,
          -0.16140215526780977,
          -0.15936035294197481,
          -0.31266646525066893,
          3.7568821562714754,
          -0.09530873144954943,
          -0.3207694809641635,
          -0.3508770015992252,
          -0.13933240280726555,
          -0.28226923258937625,
          -0.13855927339336627,
          3.7667409279219264,
          -0.16322413222793,
          3.767983839150032,
          -0.4086336240912259,
          2.4828424192261105,
          -0.32401688173876025,
          0.3205056850549755,
          -0.1298934533971074,
          -0.2882037232198617
         ],
         "y": [
          0.9683906927663253,
          0.9688540458787449,
          1.6961871274449214,
          -1.2857223094223797,
          -2.0230510721879913,
          -1.1778438976608365,
          -2.2207572651141376,
          -2.0231171145108635,
          -2.007891082804664,
          -1.8574731155681599,
          0.8605122735147341,
          -1.177857755678759,
          1.8420269103560734,
          -1.1778680821087,
          0.9683961333194007,
          0.9687757176891518,
          -1.8570751583758265,
          -1.3049058030730152,
          -1.285679270479808,
          -1.1778588888813601,
          -1.1778829307552017,
          0.9684652606879764,
          -0.45053924964792225,
          -1.1929908189995222,
          -1.1778499748826168,
          0.9683905531234875,
          -1.1778568760767256,
          0.9683909915275853,
          -1.1778558000679622,
          0.8654972140226125,
          0.9532524989845607,
          -1.8532616001099844,
          -1.2812986346600292,
          -1.174723141664266,
          -1.177848580524109,
          -1.177820871161586,
          -1.1778530766245374,
          0.18733228886345596,
          -1.1778573278626094,
          -1.631056163915926,
          -1.1777886084561482,
          -1.1778376698615742,
          -1.1778529638238178,
          0.9684050790295571,
          -1.1529354706969803,
          -1.2857203933536996,
          -1.1778503534843336,
          -1.1778492095570003,
          -1.1778540802706183,
          1.7707238624060961,
          -1.1778450814294361,
          -2.3238776990225385,
          0.8089987376544523,
          -1.1778540944327227,
          0.8606962252247384,
          0.7961004752477234,
          1.782429539159675,
          -1.1813835720179744,
          -1.285724242821388,
          -1.1777629919981805,
          1.7823986784984707,
          0.5151742660982511,
          0.9683866578746525,
          0.9684030825909465,
          0.986153991122112,
          -1.1778605818473067,
          -1.17792234578393,
          -1.1778557348498602,
          -1.2856786858185671,
          -1.2857153980854237,
          -1.285726222900014,
          -1.2857513126320756,
          -1.2857261849545416,
          0.9685272042244081,
          0.9683880456481123,
          -1.1778478847080822,
          0.07189946176029155,
          -1.2793280350180425,
          -1.177869646851826,
          -1.2857173627952487,
          1.7824095473551085,
          0.9681495017868715,
          -2.232070774171451,
          -2.2816933146076037,
          2.1218228029310406,
          -1.177847761642171,
          0.8605199780023205,
          0.9532841778141837,
          -1.1781586708318015,
          0.7961124966103191,
          -1.1778260271629364,
          1.782386749863087,
          -1.1778550620425385,
          0.7960364169780595,
          -1.177814974919641,
          0.9683915821695198,
          1.7823904863223374,
          -1.1777049407948141,
          -2.160230677996697,
          -1.8573969480704076,
          -1.521057166774965,
          -1.1778492740189965,
          0.9683911071845512,
          -1.1783693735210585,
          -2.209967735816461,
          -1.1778541323646368,
          -1.2857256205819592,
          -1.2082936712752281,
          1.6495829466164302,
          -2.2626029385355704,
          -1.2857350753584251,
          1.8930153584220855,
          -1.1779041310394085,
          -1.177891201190304,
          0.7961235316738331,
          -2.023115555978314,
          1.7823869138749717,
          -2.204157449347305,
          0.8602139996524228,
          1.8421267329958677,
          -1.2857204490221477,
          0.8748435084374978,
          -1.1777965379177953,
          -2.317042158981684,
          0.8605137161404438,
          -1.177839779214385,
          0.8605184053210746,
          -1.2797085781875497,
          1.5082039582476663,
          0.9683822491412554,
          0.7960474128196935,
          -2.2424346678692277,
          -1.17790961837427,
          -2.2383135810782817,
          0.7857426879668336,
          0.8605081892328619,
          0.855085097472764,
          -1.1778569385548756,
          0.860445804426356,
          0.8603551648873912,
          1.5021233246326735,
          -1.1778541331981014,
          0.9682216464693395,
          0.9683787671362376,
          0.9684181998248188,
          -1.2772869344394295,
          0.9683870705027063,
          -2.282568186677725,
          0.8605121842033968,
          -1.2857256619080808,
          0.9683853091292157,
          -1.8572275043888251,
          0.9683918681994446,
          -1.1778496749269713,
          0.7961987901686294,
          -1.285724225732714,
          0.17665320642293209,
          -1.1778574911622106,
          1.9457480995968375,
          0.9684110054536208,
          -2.201018986489907,
          1.914938433280896,
          1.9386747779555193,
          -2.0231091133419423,
          -2.0078921550086326,
          1.3431155267799426,
          -1.1810439919754503,
          1.8379710251933215,
          0.9683882964532707,
          0.9683782807791238,
          0.860519677888029,
          0.9683920408083333,
          0.9683881427691153,
          0.9681820267236074,
          -2.282575973360349,
          0.968348124880094,
          0.8058265653793834,
          0.968388495930529,
          0.9683916048311793,
          0.6251762041501239,
          -1.1778546591017247,
          -2.282572219727175,
          -2.262591670341585,
          0.9682397825469822,
          0.8605133540495224,
          0.9683912386758609,
          0.9683836225563598,
          -2.2208222508956554,
          0.7960795980343893,
          0.18040700708911953,
          -1.1778535268248254,
          -2.0078900389308987,
          0.9686657634551986,
          -1.1778268905790648,
          -2.2625852091542034,
          0.7961064783057221,
          -2.2213725671987903,
          1.9346932594483317,
          -1.1791389179175917,
          -0.6441522894508314,
          0.9683869276623616,
          0.9683819258734407,
          0.9680601324395764,
          -1.1778537691835054,
          0.7956131306479511,
          -1.2857549141927278,
          0.9683688941110808,
          1.8369862219350643,
          -1.177869839739587,
          -2.220760597247316,
          1.9379074613129823,
          -2.1882386835047165,
          -2.224244679250986,
          -2.259055439995493,
          -2.2821349268547353,
          1.502101755842316,
          1.5021009720413456,
          1.9359510472187598,
          -1.1778496932311386,
          1.7823924559034923,
          -1.1778759861805619,
          0.957328159674114,
          -2.282578903422265,
          1.78239652229192,
          -2.109992477932336,
          -1.1452263345895584,
          -1.2239465301041177,
          1.9359756041721725,
          -1.285722267967625,
          0.7961015743595913,
          2.7066961854694944,
          -1.1813280732202411,
          -1.0912017018280322,
          -1.1778550400217118,
          -1.1778715194607003,
          -1.1778676073293313,
          -1.1778669591042243,
          0.9683865676400599,
          0.9683918480517187,
          -2.2825936069108694,
          -2.0116788800252015,
          0.5151518834721904,
          0.9683861783826319,
          -1.6310778425549795,
          -2.007885132954176,
          0.9894823518393888,
          0.8605414619212851,
          1.502045165258801,
          1.8132625033723238,
          -2.2424593193278803,
          0.9683850471948622,
          1.695582631111474,
          -1.177826801753277,
          0.968395714479297,
          -1.6310824594092828,
          -2.023201233920664,
          -1.631078421007125,
          1.3431004535943523,
          1.509384648615659,
          1.7824312229556556,
          -1.8573628752783093,
          0.9683884561873467,
          -2.299009486067861,
          -2.282571027010824,
          -2.0261093285090577,
          -2.220831011094943,
          0.954823573564063,
          0.9683461648644276,
          -1.1771065749249006,
          -1.2829461603786008,
          -1.6310736266597723,
          -1.6310552074211386,
          -1.1778479182897166,
          0.9684510365683151,
          0.9683908868549623,
          -1.2857206769022587,
          -1.2393624593025567,
          0.09225241358057423,
          -2.581233668127508,
          -2.1828306249027998,
          0.9684562338064356,
          -2.282599633751936,
          -1.175103595760664,
          -2.2423962513377553,
          -1.279305102190356,
          3.4408208490964225,
          -1.1778599957812292,
          -1.1751638984497517,
          0.9068833438850826,
          3.977965899451618,
          1.5768752112355224,
          0.7960704912966933,
          -2.0251168962523622,
          -2.2828519767453,
          -1.1778587846139525,
          -2.279691274048054,
          1.502094348258586,
          0.9683902125656185,
          0.9683897547453437,
          -2.007868532041808,
          0.7960925577082465,
          -2.2010991843400705,
          0.968386753788463,
          1.2829919801180718,
          1.6956486949095895,
          -2.282566000644918,
          0.9675468539269463,
          -0.644136640122672,
          -2.262595104753608,
          1.374465468345318,
          -2.185298713599849,
          0.7961108759296681,
          -2.201015732661933,
          -2.2827680849831857,
          -2.140827661788661,
          -2.3184267088719075,
          0.9711964138990822,
          0.796086089895671,
          -2.2203417535414065,
          1.9404895724528801,
          -2.282561106093164,
          0.9683759880129829,
          0.20363048053158309,
          -1.2667806713275047,
          -2.1595595844621607,
          0.8794617658393894,
          1.6956320771390314,
          0.7905116837911574,
          0.8669044534830178,
          -1.1778607581804608,
          0.9680631038201534,
          -2.2213372580429267,
          -2.2439475590911284,
          -0.5694107326343946,
          -2.141501375054415,
          0.7960752979400902,
          -1.2851485755071166,
          0.9224766135012792,
          0.9630774158726786,
          1.8595149860162496,
          -1.2668054672241464,
          3.2906462312328912,
          -2.0078369712846382,
          -2.201036022591208,
          -1.2857222698308721,
          1.4549465946609657,
          -2.2841116812476976,
          1.6956337248318918,
          -2.145849673520594,
          -2.145814594722831,
          -2.11163541615278,
          -1.177872626149545,
          0.9683926988452078,
          -2.0079539349098514,
          1.6956349636736872,
          -2.007883587646912,
          0.9623204644740708,
          -1.521086277870005,
          0.9683753500787372,
          1.5768499207202649,
          1.9393913379174907,
          -1.2857157126153693,
          -0.3638554864702887,
          -1.2857305390567473,
          1.3433663920709555,
          0.9660927121362848,
          -1.21027832197982,
          -1.6300773800548864,
          0.9683266633777248,
          -2.148117739808638,
          0.9683852094171488,
          0.9683965286261458,
          -1.177712409870347,
          0.9655108874589315,
          0.8713261965617487,
          -1.285726191674366,
          0.9684220858445008,
          -1.1764715224024203,
          0.9685033365341635,
          -1.1929833764273758,
          0.9684005426457379,
          -1.1778528955659644,
          -1.177872295702633,
          0.8605292796624677,
          1.3431111296777782,
          0.7988439564793486,
          0.9684441325052712,
          0.5151543334213866,
          -1.8574353093189955,
          1.782389540340701,
          -2.2532856311234672,
          1.343709703977833,
          -2.0231095858019446,
          1.3437714109375105,
          2.613183898559959,
          0.6127754226410912,
          0.96831702416249,
          -2.282438949990426,
          -2.0078911352293143,
          0.7960957714981965
         ],
         "z": [
          -0.5764339670964742,
          -0.5768477634194531,
          -0.728676743661525,
          0.20954127816404416,
          0.3881402063617185,
          -0.002812852779373606,
          0.4624539417145795,
          0.3881185472607118,
          0.4231500739600206,
          0.29156814453946545,
          -0.36410381226170374,
          -0.0027871920939783524,
          -0.70035116732867,
          -0.0027934462836739465,
          -0.5764417942461745,
          -0.5766530956464481,
          0.296701976831858,
          -0.03880954233379264,
          0.20947480495367307,
          -0.0028511531302079897,
          -0.002795151897061069,
          -0.5764764057956304,
          0.06647714257925907,
          0.13882561549206565,
          -0.0027992844954009086,
          -0.5764340286710196,
          -0.002787692700347183,
          -0.5764344192402564,
          -0.0027860876071847925,
          -0.43582319635944733,
          -0.4348017016074572,
          0.2904252850886147,
          0.2011049991512319,
          -0.008373914040900512,
          -0.0027924139337183705,
          -0.0028868376442890737,
          -0.00279295841965663,
          -0.23642904208489407,
          -0.002784680882742848,
          0.18872763774480564,
          -0.0032214066146160295,
          -0.002812447485699994,
          -0.0028043768214085106,
          -0.5764760093722748,
          -0.042525511431864935,
          0.20954018767523314,
          -0.0028603614151607843,
          -0.002791773811171053,
          -0.002783740172217968,
          -0.6503438272017393,
          -0.0028003299326451723,
          0.29231620370006756,
          -0.26074688404218144,
          -0.0027861724688181674,
          -0.3648848076107651,
          -0.25341068322393623,
          -0.6891284473664143,
          -0.00500645818196632,
          0.20954237851605487,
          -0.0029302753834517924,
          -0.6891108836922065,
          -0.38482107756895284,
          -0.5765501620195199,
          -0.5764686664552116,
          -0.5865435620515149,
          -0.0027855836416093194,
          -0.002815038014085465,
          -0.0027968622939272543,
          0.209271850828896,
          0.20953000617441675,
          0.20953758086945787,
          0.20954113950289477,
          0.20954933787365265,
          -0.576963055062782,
          -0.5764606727505143,
          -0.0027933741865913816,
          -0.42666569014186867,
          0.16509532800334603,
          -0.002849381014618627,
          0.20953169196703864,
          -0.6891170694656007,
          -0.5765788206403015,
          0.3100582907267389,
          0.3875210111171198,
          -0.51788739438095,
          -0.002816612098373524,
          -0.3641211747224674,
          -0.43481849522938293,
          -0.0030839734362141393,
          -0.2534129601845404,
          -0.0028462663006196113,
          -0.6891074802346637,
          -0.002783541970195907,
          -0.25351072219458515,
          -0.0028507548124508285,
          -0.5764344732691121,
          -0.6891090425148777,
          -0.003150360953211449,
          0.5394544132635971,
          0.2974493607517507,
          0.2335747034423861,
          -0.0027870458097620223,
          -0.576439845384877,
          -0.005311312925076731,
          0.574432052748999,
          -0.002783504427597977,
          0.20954316263852213,
          -0.011414566447548293,
          -0.4783857664901516,
          0.3585066926796763,
          0.20953930129709034,
          -0.6870067242230641,
          -0.002814187362876576,
          -0.002832763282257179,
          -0.25344745276661723,
          0.38817213623949665,
          -0.6891182942204097,
          0.32268644821116693,
          -0.3642099716485193,
          -0.7003166557069854,
          0.20954021935771988,
          -0.4848024992789452,
          -0.002875353938934449,
          0.28467967270728883,
          -0.3641046333007541,
          -0.002815196703610431,
          -0.36410405764113596,
          0.20002336562413342,
          -0.5721228245091832,
          -0.5764410107096116,
          -0.253438283005708,
          0.3479490260337956,
          -0.002799246635192642,
          0.40466968828751476,
          -0.2754413026007476,
          -0.3641065659803131,
          -0.419218333109999,
          -0.0027873750201101227,
          -0.3641226117954041,
          -0.3641563047477757,
          -0.5686875551147347,
          -0.0027835030984195864,
          -0.5769020023739578,
          -0.5764396872871159,
          -0.5764778343444339,
          0.5623190455048583,
          -0.5764572965461469,
          0.390837325874078,
          -0.36410347930994164,
          0.20954636398235726,
          -0.5764368276699274,
          0.297014378977369,
          -0.5764346360568232,
          -0.0028422909441488033,
          -0.2534620722866564,
          0.20954529205612146,
          -0.2299567567152002,
          -0.002789881737228464,
          -0.7763900909854222,
          -0.5764455276088665,
          0.4471987221086313,
          -0.6132644629801736,
          -0.7688396295705918,
          0.3881658460591162,
          0.423150684181595,
          -0.186047375445431,
          -0.003789111995762276,
          -0.7209784801340303,
          -0.5764434762630749,
          -0.5764387522026028,
          -0.36410746205543143,
          -0.5764440443245844,
          -0.5764404152295503,
          -0.5764987748994576,
          0.39083865415143654,
          -0.576450366088427,
          -0.2681146896507923,
          -0.5764363843913409,
          -0.576435421624046,
          -0.34009165622756404,
          -0.0027837956383899164,
          0.39083538936411893,
          0.35851601897360025,
          -0.5764891408933464,
          -0.36410414510242406,
          -0.5764399202202968,
          -0.576436131107583,
          0.4624387343599467,
          -0.2534097533940934,
          -0.30345294700770514,
          -0.002784622219389631,
          0.4231506083505964,
          -0.5768726397418659,
          -0.002827045944622925,
          0.3585092383853076,
          -0.2534192474540555,
          0.4376227421463592,
          -0.6584480686207662,
          -0.0031806105275931237,
          0.0049923832093360385,
          -0.5764378086669039,
          -0.5764370462918676,
          -0.5765279580197727,
          -0.002793557447620639,
          -0.25369300121966837,
          0.20886045363400213,
          -0.5764511836804768,
          -0.7227746204653589,
          -0.00279470294352956,
          0.46242621529927724,
          -0.8863990236792397,
          0.4941884265686784,
          0.33402265708559553,
          0.46791219084744584,
          0.3900293223762688,
          -0.5686527099342292,
          -0.5686832972881705,
          -0.7433047219964752,
          -0.002791294507810135,
          -0.689115805902291,
          -0.002792051196782545,
          -0.5842440747750445,
          0.3908310117012912,
          -0.6891149881315846,
          0.49108782911394677,
          -0.07777716252445947,
          0.12425724221240211,
          -0.7433186980524787,
          0.2095412545709821,
          -0.2534116546106221,
          7.422553069481377,
          -0.003768494411373642,
          -0.052099676098597066,
          -0.0027884555289736934,
          -0.002797132432664289,
          -0.0028038728916619424,
          -0.002804241814884605,
          -0.5764452323170164,
          -0.5764358095032408,
          0.39082953694375716,
          0.4193871756542197,
          -0.3849201242461617,
          -0.5764358365431541,
          0.18882715141715453,
          0.4231466877320075,
          -0.5954908800864284,
          -0.3641424297367517,
          -0.5689562280005543,
          -0.6705864920341791,
          0.3479274219475839,
          -0.5764366785956866,
          -0.5070902639894324,
          -0.002827096497888068,
          -0.5764409971836713,
          0.18882470080056232,
          0.388146673442527,
          0.18882612644426253,
          -0.18614459267834738,
          -0.5812584534521233,
          -0.6891886513151528,
          0.2972437683397841,
          -0.5764919398372101,
          0.376216971794778,
          0.39083823708250204,
          0.38705952487465956,
          0.46221393675511396,
          -0.5828186440568768,
          -0.5764509433210732,
          -0.004619396501476389,
          0.07003356534532551,
          0.18882644476501803,
          0.1886808253429264,
          -0.002804922082752492,
          -0.5767222203881338,
          -0.5764352060345785,
          0.20954058434060788,
          0.11543568958117885,
          -0.40331919001157523,
          0.27869695435244984,
          0.4140212129691398,
          -0.5765367206826217,
          0.39076325146946506,
          -0.007169959317665677,
          0.34790741354938165,
          0.16479564017214096,
          16.192900990500576,
          -0.0027912775093463845,
          -0.009507434635963694,
          -0.45821447208449406,
          8.645974717116978,
          -0.4623122109116128,
          -0.25342403692117554,
          0.38748213118571695,
          0.39071953788458336,
          -0.002786606497888854,
          0.23026348155799925,
          -0.5686597789553005,
          -0.5764345401553056,
          -0.5764348438411648,
          0.4231234156980773,
          -0.253542673470298,
          0.4471657657382071,
          -0.5764401889657305,
          -0.2621950665033826,
          -0.5071278627634631,
          0.3908337119149296,
          -0.5773987304837197,
          0.004991165127544533,
          0.35851338064552557,
          -0.149390001622925,
          0.48109809473218473,
          -0.25341937298546235,
          0.4471999453947064,
          0.39078464142901603,
          0.4752808958810258,
          0.359337768397067,
          -0.5809084282489474,
          -0.25341034475204366,
          0.2548720942132121,
          -0.7677830837017553,
          0.3905539951783831,
          -0.5764492964551887,
          -0.497039983625488,
          0.23750156343459933,
          0.35204051219655574,
          -0.3361647751036378,
          -0.5070634339006524,
          -0.2549876013697715,
          -0.40853940144959167,
          -0.0027857951046103982,
          -0.5765296491164105,
          0.4622903183031561,
          0.4031425699046642,
          0.11131951002648484,
          0.4236635692426147,
          -0.25346514113102564,
          0.20862821801953849,
          -0.4481875272216042,
          -0.578488229904239,
          0.2750364926084571,
          0.23749369130838263,
          14.038683447026191,
          0.4209810737407635,
          0.4471907569882101,
          0.20954125563140888,
          -0.07517785769183626,
          0.3894390464394939,
          -0.5070781530344367,
          0.44277876666324506,
          0.44278134140638364,
          0.6912289875380948,
          -0.002806658982410416,
          -0.5764410333660828,
          0.4231176277314175,
          -0.5070689939749407,
          0.42314301919434416,
          -0.5940819659680916,
          0.23356305917340578,
          -0.5764489333887858,
          -0.462421951113713,
          -0.768540445965889,
          0.20952539248207197,
          -0.11545552315766597,
          0.2095044899244769,
          -0.18643700685730158,
          -0.5850003968611669,
          -0.012005990813408026,
          0.1871368886140235,
          -0.5764539505818351,
          0.4421243888539856,
          -0.576446153208984,
          -0.5764372884373318,
          -0.00314611009129886,
          -0.577757271163674,
          -0.3703057179195654,
          0.20953756309805935,
          -0.5764560656047226,
          -0.01767631987875347,
          -0.5766109246980797,
          0.1388154551486923,
          -0.576484712474337,
          -0.0027854441669795988,
          -0.002824338622789671,
          -0.3641369070798519,
          -0.18605472418466984,
          -0.2577912254626401,
          -0.5765490177968716,
          -0.38482564448567663,
          0.2974704032801176,
          -0.6891057167630946,
          0.3178003509058775,
          -0.1863502732066798,
          0.3881665995210575,
          -0.18638539238086188,
          16.37698251617957,
          -0.09419763924114488,
          -0.5764625707399322,
          0.3903715610231691,
          0.4231501037963728,
          -0.2534037235728476
         ]
        },
        {
         "customdata": [
          [
           "X11"
          ],
          [
           "SHA-512"
          ],
          [
           "SHA-256"
          ],
          [
           "X11"
          ],
          [
           "X11"
          ],
          [
           "PoS"
          ],
          [
           "X11"
          ],
          [
           "X11"
          ],
          [
           "X11"
          ],
          [
           "X11"
          ],
          [
           "Multiple"
          ],
          [
           "PHI1612"
          ],
          [
           "X11"
          ],
          [
           "X11"
          ],
          [
           "X11"
          ],
          [
           "Multiple"
          ],
          [
           "Counterparty"
          ],
          [
           "X11"
          ],
          [
           "X11"
          ],
          [
           "X11"
          ],
          [
           "X11"
          ],
          [
           "X11"
          ],
          [
           "X11"
          ],
          [
           "X11"
          ],
          [
           "X11"
          ],
          [
           "X11"
          ],
          [
           "PoS"
          ],
          [
           "X11"
          ],
          [
           "X11"
          ],
          [
           "X11"
          ],
          [
           "POS 3.0"
          ],
          [
           "X13"
          ],
          [
           "X11"
          ],
          [
           "X11"
          ],
          [
           "X11"
          ],
          [
           "X11"
          ],
          [
           "PoS"
          ],
          [
           "X11"
          ],
          [
           "PoS"
          ],
          [
           "X13"
          ],
          [
           "PoS"
          ],
          [
           "X11"
          ],
          [
           "X11"
          ],
          [
           "X11"
          ],
          [
           "PoS"
          ],
          [
           "X11"
          ],
          [
           "PoS"
          ],
          [
           "X11"
          ],
          [
           "X11"
          ],
          [
           "X11"
          ],
          [
           "Quark"
          ],
          [
           "X11"
          ],
          [
           "X11"
          ],
          [
           "X13"
          ],
          [
           "X11"
          ],
          [
           "X11"
          ],
          [
           "X11"
          ],
          [
           "PoS"
          ],
          [
           "X11"
          ],
          [
           "PoS"
          ],
          [
           "X11"
          ],
          [
           "SHA-256"
          ],
          [
           "X11"
          ],
          [
           "PoS"
          ],
          [
           "SHA-256"
          ],
          [
           "POS 3.0"
          ],
          [
           "X11"
          ],
          [
           "X11"
          ],
          [
           "X11"
          ],
          [
           "SkunkHash v2 Raptor"
          ],
          [
           "X11"
          ],
          [
           "X11"
          ],
          [
           "PoS"
          ],
          [
           "SHA-512"
          ],
          [
           "Ouroboros"
          ],
          [
           "X11"
          ],
          [
           "X11"
          ],
          [
           "Lyra2REv2"
          ],
          [
           "POS 2.0"
          ],
          [
           "SHA-256"
          ],
          [
           "X11"
          ],
          [
           "X11"
          ],
          [
           "NIST5"
          ],
          [
           "Quark"
          ],
          [
           "X11"
          ],
          [
           "X11"
          ],
          [
           "X11"
          ],
          [
           "Quark"
          ],
          [
           "X11"
          ],
          [
           "X11"
          ],
          [
           "POS 3.0"
          ],
          [
           "Ethash"
          ],
          [
           "X13"
          ],
          [
           "X11"
          ],
          [
           "X11"
          ],
          [
           "VBFT"
          ],
          [
           "Green Protocol"
          ],
          [
           "PoS"
          ],
          [
           "X11"
          ],
          [
           "PoS"
          ],
          [
           "X16R"
          ],
          [
           "X15"
          ],
          [
           "Quark"
          ],
          [
           "SHA-256"
          ],
          [
           "DPoS"
          ],
          [
           "X11"
          ],
          [
           "Quark"
          ],
          [
           "Quark"
          ],
          [
           "X11"
          ],
          [
           "X11"
          ],
          [
           "PoS"
          ],
          [
           "X11"
          ],
          [
           "X11"
          ],
          [
           "XEVAN"
          ],
          [
           "X11"
          ],
          [
           "Equihash"
          ],
          [
           "Quark"
          ],
          [
           "X11"
          ],
          [
           "X11"
          ],
          [
           "X11"
          ],
          [
           "X11"
          ],
          [
           "SHA-256"
          ],
          [
           "X11"
          ],
          [
           "X11"
          ],
          [
           "X11"
          ],
          [
           "PoS"
          ],
          [
           "X11"
          ],
          [
           "SHA-256"
          ],
          [
           "PoS"
          ],
          [
           "PoS"
          ]
         ],
         "hovertemplate": "<b>%{hovertext}</b><br><br>Class=%{marker.color}<br>PC 1=%{x}<br>PC 2=%{y}<br>PC 3=%{z}<br>Algorithm=%{customdata[0]}<extra></extra>",
         "hovertext": [
          "Dash",
          "Bitshares",
          "PayCoin",
          "Spreadcoin",
          "CryptCoin",
          "Exclusive Coin",
          "HyperStake",
          "IOCoin",
          "SuperCoin",
          "SyncCoin",
          "TeslaCoin",
          "TittieCoin",
          "TorCoin",
          "UroCoin",
          "X11 Coin",
          "Crypti",
          "StorjCoin",
          "Ucoin",
          "IslaCoin",
          "MarsCoin ",
          "BowsCoin",
          "Squall Coin",
          "MindCoin",
          "Hitcoin",
          "Adzcoin",
          "EuropeCoin",
          "Nebuchadnezzar",
          "BolivarCoin",
          "Ratecoin",
          "BitSend",
          "Let it Ride",
          "MudraCoin",
          "PizzaCoin",
          "Lutetium Coin",
          "GoldBlocks",
          "MustangCoin",
          "Opair",
          "Halloween Coin",
          "CoffeeCoin",
          "RoyalCoin",
          "TeamUP",
          "InsaneCoin",
          "ArtexCoin",
          "XenixCoin",
          "FreeCoin",
          "Kurrent",
          "Creatio",
          "Eternity",
          "Stakenet",
          "Enigma",
          "Allsafe",
          "KushCoin",
          "PacCoin",
          "FindCoin",
          "VaultCoin",
          "VirtacoinPlus",
          "Impact",
          "Atmos",
          "HappyCoin",
          "MacronCoin",
          "Condensate",
          "ProCurrency",
          "GoldReserve",
          "Phreak",
          "Ultimate Secure Cash",
          "QTUM",
          "DigitalPrice",
          "ArcticCoin",
          "DAS",
          "Signatum",
          "Onix",
          "Monoeci",
          "Stakecoin",
          "Obsidian",
          "Cardano",
          "Regalcoin",
          "Elements",
          "Rupee",
          "KekCoin",
          "Infinity Economics",
          "Pura",
          "Magnet",
          "Bulwark",
          "Kalkulus",
          "AC3",
          "PhantomX",
          "Sucre",
          "Digiwage",
          "Monkey Project",
          "Pioneer Coin",
          "TokenPay",
          "1717 Masonic Commemorative Token",
          "Tokyo Coin",
          "Crypto Improvement Fund",
          "Pushi",
          "Ontology",
          "Bitcoin Green",
          "Deviant Coin",
          "FuturoCoin",
          "Zealium",
          "Proton",
          "Dekado",
          "Poseidon Quark",
          "BitcoinWSpectrum",
          "Muse",
          "Axe",
          "Dystem",
          "Vitae",
          "ARENON",
          "EUNO",
          "Ketan",
          "PAXEX",
          "Azart",
          "Bettex coin",
          "Junson Ming Chan Coin",
          "PirateCash",
          "Crypto Sports",
          "Dash Platinum",
          "Award",
          "Insane Coin",
          "TruckCoin",
          "NeosCoin",
          "PinkCoin",
          "Piggy Coin",
          "CapriCoin",
          "Radium",
          "Creditbit ",
          "TigerCash",
          "Particl",
          "Nxt"
         ],
         "legendgroup": "3",
         "marker": {
          "color": [
           3,
           3,
           3,
           3,
           3,
           3,
           3,
           3,
           3,
           3,
           3,
           3,
           3,
           3,
           3,
           3,
           3,
           3,
           3,
           3,
           3,
           3,
           3,
           3,
           3,
           3,
           3,
           3,
           3,
           3,
           3,
           3,
           3,
           3,
           3,
           3,
           3,
           3,
           3,
           3,
           3,
           3,
           3,
           3,
           3,
           3,
           3,
           3,
           3,
           3,
           3,
           3,
           3,
           3,
           3,
           3,
           3,
           3,
           3,
           3,
           3,
           3,
           3,
           3,
           3,
           3,
           3,
           3,
           3,
           3,
           3,
           3,
           3,
           3,
           3,
           3,
           3,
           3,
           3,
           3,
           3,
           3,
           3,
           3,
           3,
           3,
           3,
           3,
           3,
           3,
           3,
           3,
           3,
           3,
           3,
           3,
           3,
           3,
           3,
           3,
           3,
           3,
           3,
           3,
           3,
           3,
           3,
           3,
           3,
           3,
           3,
           3,
           3,
           3,
           3,
           3,
           3,
           3,
           3,
           3,
           3,
           3,
           3,
           3,
           3,
           3,
           3,
           3,
           3,
           3
          ],
          "coloraxis": "coloraxis",
          "symbol": "diamond"
         },
         "mode": "markers",
         "name": "3",
         "scene": "scene",
         "showlegend": true,
         "type": "scatter3d",
         "x": [
          -0.3991997672396999,
          -0.27030711314736394,
          -0.2763297866366501,
          -0.2347184250554836,
          -0.23480767620299442,
          -0.3652148419009621,
          -0.3412232075126507,
          -0.39909456635988994,
          -0.3610903603188781,
          -0.3994657089440789,
          -0.26441859075819396,
          -0.3269521922953504,
          -0.3993774649753902,
          -0.23498135038755966,
          -0.3993419623032766,
          -0.2648855726636483,
          -0.3605420359305542,
          -0.36153482952114274,
          -0.39944725590782987,
          -0.2343692201810624,
          -0.23465381129158638,
          -0.36709971479933945,
          -0.23468915917816752,
          -0.07731040733961483,
          -0.2338508866960175,
          -0.39662037812521966,
          -0.36489848545445336,
          -0.23465246497366032,
          -0.3972925874550321,
          -0.3981841026003433,
          -0.36867757242175697,
          -0.24303848514666515,
          -0.2348022933270325,
          -0.3490397746626738,
          -0.3989218264997421,
          -0.3994364670768949,
          -0.36385674709076143,
          -0.3856168882421498,
          -0.36318594112578206,
          -0.24446709598114585,
          -0.36293591091300337,
          -0.3990294899122393,
          -0.22139981951106638,
          -0.3993914235654241,
          -0.3643199711444833,
          -0.23263312859246343,
          -0.36489848545445336,
          -0.39896691387015426,
          -0.4149080062168307,
          -0.39942039251100897,
          -0.3631418285233155,
          -0.3993304452417614,
          0.47945701581269345,
          -0.2442352134170716,
          -0.22754624209750618,
          -0.39859718211108264,
          -0.3973368174832311,
          -0.36314702672273513,
          -0.3984951672581643,
          -0.35755328958907795,
          -0.39444132914936647,
          0.25558696743679626,
          -0.3989729970798969,
          -0.36493277623752174,
          -0.2750220444013094,
          -0.367457319217987,
          -0.23385932129248335,
          -0.23425350349379853,
          -0.23483028056754557,
          -0.32165199425155216,
          -0.22571439996591242,
          -0.3992450229310487,
          -0.364799276651582,
          -0.32830382570207955,
          0.6385184322061868,
          -0.399185961280254,
          -0.18926603857138058,
          -0.3249597195203561,
          -0.3631792502573341,
          -0.10301038205146607,
          -0.23037996022422855,
          -0.39798014848865676,
          -0.31296972653899546,
          -0.3630278590404583,
          -0.23012239444372912,
          -0.39856043770521893,
          -0.23480430665175234,
          -0.36219371411637435,
          -0.36150678948690235,
          -0.2347297948265523,
          -0.3689591874194759,
          -0.2903783039209864,
          -0.2360413569972714,
          -0.22887773970851896,
          -0.39926229762178583,
          -0.3215055116201032,
          -0.36457844558085034,
          -0.3643942105087163,
          -0.2339000550378079,
          -0.3645826707450665,
          -0.33238282152263904,
          -0.20220672925631955,
          -0.35874188373201443,
          -0.27514934675193553,
          1.0337959620868282,
          -0.23478648749925282,
          -0.3631412827535463,
          -0.3618623060930294,
          -0.36108471257523467,
          -0.3987362247600993,
          -0.36368373712699414,
          -0.3609463604231196,
          -0.23475789263760635,
          -0.2761027529382166,
          -0.15166526836611904,
          -0.2559365523904364,
          -0.3632581220940791,
          -0.361561047389838,
          -0.3963043520478394,
          -0.3989631793434565,
          -0.3965051578249924,
          -0.27636240935232914,
          -0.39060061758777154,
          -0.38635462017287414,
          -0.3955356850084342,
          -0.3651738131161207,
          -0.4038806968943701,
          -0.257280864588092,
          -0.3651097416465544,
          -0.38004255719564617
         ],
         "y": [
          1.289252863375618,
          1.6488276179950712,
          0.6882272359806842,
          -0.8569901867829214,
          -0.8569932532153305,
          1.6575323485250526,
          1.117977074212169,
          1.2892580862960505,
          1.1169907273441042,
          1.2892546703819787,
          0.11652947115008336,
          1.6412046914691774,
          1.2892522289740145,
          -0.8569895939698471,
          1.289257061996375,
          0.11657451833412763,
          1.6104471517896395,
          1.1169550144315255,
          1.2892555872043514,
          -0.8569817198611586,
          -0.8569876612106937,
          1.0868258692804085,
          -0.8569860045568929,
          1.2871332926772892,
          -0.8569907841574297,
          1.2891339246177271,
          1.6575344084127905,
          -0.8569903236294709,
          1.2893113866648656,
          1.2892234573544672,
          1.583960239826185,
          1.6100316836047583,
          -0.8569977621753232,
          1.1171407232988488,
          1.2892475575151006,
          1.289254075894021,
          1.657549282715299,
          1.2889187527487138,
          1.6576057850738433,
          1.6100955143021443,
          1.6574401140958914,
          1.2892558586349254,
          -0.8566564675594261,
          1.2892557299369538,
          1.6575426605338035,
          -0.85702857932281,
          1.6575344084127905,
          1.2892384959081737,
          0.9751815342377678,
          1.2892535093200905,
          1.523336936571494,
          1.289255004143674,
          -0.8897512780524414,
          1.6100988219523547,
          -0.8573027771709292,
          1.289229559428415,
          1.289285309750125,
          1.6575597570577205,
          1.2892346241717954,
          1.657639796554119,
          1.2891629595902232,
          0.6634702813100283,
          1.2892518401922521,
          1.6575258828253032,
          0.688164170119198,
          1.5839754479397279,
          -0.8570021199491562,
          -0.8569943973633735,
          -0.8569949895402773,
          1.6065070243075232,
          -0.8572800629790716,
          1.2892591405360772,
          1.6575109495681093,
          1.6483426152433471,
          1.5435422004365282,
          1.2892501372272316,
          -0.8559481273280909,
          0.6946256786648698,
          1.5361615421343493,
          0.6906997396884111,
          -0.8569999584255097,
          1.2892301715137202,
          1.3298067254111379,
          1.5233391832533139,
          -0.8571236340060331,
          1.2892654994270139,
          -0.856994314093636,
          1.5233123646547657,
          1.1169557242235024,
          -0.8569927982039667,
          1.5839520581299384,
          -0.04916554927576396,
          1.6099696819103482,
          -0.8570277247414861,
          1.289247711977712,
          1.62123385654966,
          1.6768701166005051,
          1.657513046797348,
          -0.8570041422621931,
          1.6575091488090274,
          0.7071598159063482,
          1.6698211397918579,
          1.5231221111886184,
          0.6882259599585215,
          1.4190951858424632,
          -0.856994248201954,
          1.523332869778017,
          1.5233424644057196,
          1.116953480419052,
          1.2892567721064605,
          1.6574650773355166,
          1.1169296450343023,
          -0.8569955578090818,
          1.4045877103836102,
          1.1273880794738484,
          -0.033964856078494234,
          1.5233322751042109,
          1.1169539174843885,
          1.2891250510652643,
          1.2892591507635198,
          1.289401653893315,
          0.6882198166802781,
          1.2893536398480774,
          1.2892232839326025,
          1.2893078639258364,
          1.6575282446518926,
          1.0172571866698414,
          0.688499174091094,
          1.6575316752473932,
          1.9262048211773153
         ],
         "z": [
          -0.5187985733885874,
          0.023385656727466522,
          -0.041076231579595064,
          0.054851618094266794,
          0.05485392753190075,
          -0.051486570590189074,
          -0.19634185794187564,
          -0.5188015459001717,
          -0.19578050007166053,
          -0.5187933954016412,
          0.046814402518011514,
          -0.3483228656696288,
          -0.5187948268668338,
          0.05485692315072807,
          -0.5187963079267036,
          0.04681697710849185,
          -0.2146993867978764,
          -0.19576581728723355,
          -0.5187939169090344,
          0.054843131741837706,
          0.05484989859759954,
          -0.20587134202838997,
          0.054850366359897956,
          -0.5250764023877769,
          0.05483390225895881,
          -0.5188330102017208,
          -0.05149338537363068,
          0.05485028536672182,
          -0.5188468331202745,
          -0.5188148458834478,
          -0.09331007235188926,
          -0.366095763352938,
          0.0548545188533301,
          -0.19605122126423738,
          -0.5188034530938426,
          -0.5187939031460952,
          -0.05151708535588955,
          -0.5190253981384337,
          -0.05153965026241891,
          -0.36607637211531857,
          -0.051518996139739426,
          -0.5188025350525389,
          0.05452627042035386,
          -0.5187950852510509,
          -0.051506545553544496,
          0.054814786964875614,
          -0.05149338537363068,
          -0.5188011170988852,
          -0.2741211510177802,
          -0.5187941449371768,
          -0.18403556207834845,
          -0.5187962240433813,
          0.045290307535782795,
          -0.3660816470345549,
          0.05475304240240154,
          -0.5188073159820302,
          -0.518841866286814,
          -0.05153328482162114,
          -0.5188101984705843,
          -0.05166057116191141,
          -0.5188822609950616,
          -0.04814198442292096,
          -0.5188030692648447,
          -0.051491354442480375,
          -0.04109326067503732,
          -0.09333748884239641,
          0.05483583982379985,
          0.054842729568303654,
          0.05485466181354404,
          -0.12409097957453215,
          0.05471190289840995,
          -0.5187986214223101,
          -0.05149177055416889,
          0.024651703364676328,
          -0.25929923026377305,
          -0.5187984324713019,
          0.05375637517822343,
          -0.08551002473507113,
          -0.13348798833400324,
          -0.04501897617802666,
          0.054764079100488715,
          -0.5188200777119587,
          -0.24562712028278083,
          -0.18403825133923082,
          0.05477804193630632,
          -0.5188136643428319,
          0.054854023487836065,
          -0.18405120033273595,
          -0.1957665033720582,
          0.05485225796129525,
          -0.09330301787906473,
          0.1375562791051671,
          -0.3662297497308151,
          0.05473756337192183,
          -0.5187964879489655,
          -0.05534623825694606,
          -0.043465848183687754,
          -0.051500412181389475,
          0.05483699077928637,
          -0.05149593674885274,
          -0.013119656540312526,
          -0.3772980281184392,
          -0.18409244645281853,
          -0.041100265021867664,
          -0.13375693349285536,
          0.05485364744043025,
          -0.1840349402842192,
          -0.18406268850829155,
          -0.19577481851287276,
          -0.5188086973781287,
          -0.051507530308460274,
          -0.19577394861902614,
          0.05485326428622139,
          -0.13928308722463267,
          -0.2016979269286835,
          0.17251973923474578,
          -0.18403244924650058,
          -0.19576510834697858,
          -0.5188381164099422,
          -0.5188044086959356,
          -0.5188770475885962,
          -0.04107440708444463,
          -0.5189907825171618,
          -0.519057654360942,
          -0.5188823504767831,
          -0.05148677405943457,
          -0.10660770842087797,
          -0.04150959487096945,
          -0.05148862329104735,
          0.13934606782150458
         ]
        },
        {
         "customdata": [
          [
           "Proof-of-BibleHash"
          ]
         ],
         "hovertemplate": "<b>%{hovertext}</b><br><br>Class=%{marker.color}<br>PC 1=%{x}<br>PC 2=%{y}<br>PC 3=%{z}<br>Algorithm=%{customdata[0]}<extra></extra>",
         "hovertext": [
          "BiblePay"
         ],
         "legendgroup": "2",
         "marker": {
          "color": [
           2
          ],
          "coloraxis": "coloraxis",
          "symbol": "square"
         },
         "mode": "markers",
         "name": "2",
         "scene": "scene",
         "showlegend": true,
         "type": "scatter3d",
         "x": [
          -0.17949097753808893
         ],
         "y": [
          2.449602786996853
         ],
         "z": [
          11.576483424152155
         ]
        },
        {
         "customdata": [
          [
           "TRC10"
          ]
         ],
         "hovertemplate": "<b>%{hovertext}</b><br><br>Class=%{marker.color}<br>PC 1=%{x}<br>PC 2=%{y}<br>PC 3=%{z}<br>Algorithm=%{customdata[0]}<extra></extra>",
         "hovertext": [
          "BitTorrent"
         ],
         "legendgroup": "1",
         "marker": {
          "color": [
           1
          ],
          "coloraxis": "coloraxis",
          "symbol": "x"
         },
         "mode": "markers",
         "name": "1",
         "scene": "scene",
         "showlegend": true,
         "type": "scatter3d",
         "x": [
          34.04029431680135
         ],
         "y": [
          2.0453634503790683
         ],
         "z": [
          -1.0230515833092093
         ]
        }
       ],
       "layout": {
        "coloraxis": {
         "colorbar": {
          "title": {
           "text": "Class"
          }
         },
         "colorscale": [
          [
           0,
           "#0d0887"
          ],
          [
           0.1111111111111111,
           "#46039f"
          ],
          [
           0.2222222222222222,
           "#7201a8"
          ],
          [
           0.3333333333333333,
           "#9c179e"
          ],
          [
           0.4444444444444444,
           "#bd3786"
          ],
          [
           0.5555555555555556,
           "#d8576b"
          ],
          [
           0.6666666666666666,
           "#ed7953"
          ],
          [
           0.7777777777777778,
           "#fb9f3a"
          ],
          [
           0.8888888888888888,
           "#fdca26"
          ],
          [
           1,
           "#f0f921"
          ]
         ]
        },
        "legend": {
         "title": {
          "text": "Class"
         },
         "tracegroupgap": 0,
         "x": 0,
         "y": 1
        },
        "margin": {
         "t": 60
        },
        "scene": {
         "domain": {
          "x": [
           0,
           1
          ],
          "y": [
           0,
           1
          ]
         },
         "xaxis": {
          "title": {
           "text": "PC 1"
          }
         },
         "yaxis": {
          "title": {
           "text": "PC 2"
          }
         },
         "zaxis": {
          "title": {
           "text": "PC 3"
          }
         }
        },
        "template": {
         "data": {
          "bar": [
           {
            "error_x": {
             "color": "#2a3f5f"
            },
            "error_y": {
             "color": "#2a3f5f"
            },
            "marker": {
             "line": {
              "color": "#E5ECF6",
              "width": 0.5
             }
            },
            "type": "bar"
           }
          ],
          "barpolar": [
           {
            "marker": {
             "line": {
              "color": "#E5ECF6",
              "width": 0.5
             }
            },
            "type": "barpolar"
           }
          ],
          "carpet": [
           {
            "aaxis": {
             "endlinecolor": "#2a3f5f",
             "gridcolor": "white",
             "linecolor": "white",
             "minorgridcolor": "white",
             "startlinecolor": "#2a3f5f"
            },
            "baxis": {
             "endlinecolor": "#2a3f5f",
             "gridcolor": "white",
             "linecolor": "white",
             "minorgridcolor": "white",
             "startlinecolor": "#2a3f5f"
            },
            "type": "carpet"
           }
          ],
          "choropleth": [
           {
            "colorbar": {
             "outlinewidth": 0,
             "ticks": ""
            },
            "type": "choropleth"
           }
          ],
          "contour": [
           {
            "colorbar": {
             "outlinewidth": 0,
             "ticks": ""
            },
            "colorscale": [
             [
              0,
              "#0d0887"
             ],
             [
              0.1111111111111111,
              "#46039f"
             ],
             [
              0.2222222222222222,
              "#7201a8"
             ],
             [
              0.3333333333333333,
              "#9c179e"
             ],
             [
              0.4444444444444444,
              "#bd3786"
             ],
             [
              0.5555555555555556,
              "#d8576b"
             ],
             [
              0.6666666666666666,
              "#ed7953"
             ],
             [
              0.7777777777777778,
              "#fb9f3a"
             ],
             [
              0.8888888888888888,
              "#fdca26"
             ],
             [
              1,
              "#f0f921"
             ]
            ],
            "type": "contour"
           }
          ],
          "contourcarpet": [
           {
            "colorbar": {
             "outlinewidth": 0,
             "ticks": ""
            },
            "type": "contourcarpet"
           }
          ],
          "heatmap": [
           {
            "colorbar": {
             "outlinewidth": 0,
             "ticks": ""
            },
            "colorscale": [
             [
              0,
              "#0d0887"
             ],
             [
              0.1111111111111111,
              "#46039f"
             ],
             [
              0.2222222222222222,
              "#7201a8"
             ],
             [
              0.3333333333333333,
              "#9c179e"
             ],
             [
              0.4444444444444444,
              "#bd3786"
             ],
             [
              0.5555555555555556,
              "#d8576b"
             ],
             [
              0.6666666666666666,
              "#ed7953"
             ],
             [
              0.7777777777777778,
              "#fb9f3a"
             ],
             [
              0.8888888888888888,
              "#fdca26"
             ],
             [
              1,
              "#f0f921"
             ]
            ],
            "type": "heatmap"
           }
          ],
          "heatmapgl": [
           {
            "colorbar": {
             "outlinewidth": 0,
             "ticks": ""
            },
            "colorscale": [
             [
              0,
              "#0d0887"
             ],
             [
              0.1111111111111111,
              "#46039f"
             ],
             [
              0.2222222222222222,
              "#7201a8"
             ],
             [
              0.3333333333333333,
              "#9c179e"
             ],
             [
              0.4444444444444444,
              "#bd3786"
             ],
             [
              0.5555555555555556,
              "#d8576b"
             ],
             [
              0.6666666666666666,
              "#ed7953"
             ],
             [
              0.7777777777777778,
              "#fb9f3a"
             ],
             [
              0.8888888888888888,
              "#fdca26"
             ],
             [
              1,
              "#f0f921"
             ]
            ],
            "type": "heatmapgl"
           }
          ],
          "histogram": [
           {
            "marker": {
             "colorbar": {
              "outlinewidth": 0,
              "ticks": ""
             }
            },
            "type": "histogram"
           }
          ],
          "histogram2d": [
           {
            "colorbar": {
             "outlinewidth": 0,
             "ticks": ""
            },
            "colorscale": [
             [
              0,
              "#0d0887"
             ],
             [
              0.1111111111111111,
              "#46039f"
             ],
             [
              0.2222222222222222,
              "#7201a8"
             ],
             [
              0.3333333333333333,
              "#9c179e"
             ],
             [
              0.4444444444444444,
              "#bd3786"
             ],
             [
              0.5555555555555556,
              "#d8576b"
             ],
             [
              0.6666666666666666,
              "#ed7953"
             ],
             [
              0.7777777777777778,
              "#fb9f3a"
             ],
             [
              0.8888888888888888,
              "#fdca26"
             ],
             [
              1,
              "#f0f921"
             ]
            ],
            "type": "histogram2d"
           }
          ],
          "histogram2dcontour": [
           {
            "colorbar": {
             "outlinewidth": 0,
             "ticks": ""
            },
            "colorscale": [
             [
              0,
              "#0d0887"
             ],
             [
              0.1111111111111111,
              "#46039f"
             ],
             [
              0.2222222222222222,
              "#7201a8"
             ],
             [
              0.3333333333333333,
              "#9c179e"
             ],
             [
              0.4444444444444444,
              "#bd3786"
             ],
             [
              0.5555555555555556,
              "#d8576b"
             ],
             [
              0.6666666666666666,
              "#ed7953"
             ],
             [
              0.7777777777777778,
              "#fb9f3a"
             ],
             [
              0.8888888888888888,
              "#fdca26"
             ],
             [
              1,
              "#f0f921"
             ]
            ],
            "type": "histogram2dcontour"
           }
          ],
          "mesh3d": [
           {
            "colorbar": {
             "outlinewidth": 0,
             "ticks": ""
            },
            "type": "mesh3d"
           }
          ],
          "parcoords": [
           {
            "line": {
             "colorbar": {
              "outlinewidth": 0,
              "ticks": ""
             }
            },
            "type": "parcoords"
           }
          ],
          "pie": [
           {
            "automargin": true,
            "type": "pie"
           }
          ],
          "scatter": [
           {
            "marker": {
             "colorbar": {
              "outlinewidth": 0,
              "ticks": ""
             }
            },
            "type": "scatter"
           }
          ],
          "scatter3d": [
           {
            "line": {
             "colorbar": {
              "outlinewidth": 0,
              "ticks": ""
             }
            },
            "marker": {
             "colorbar": {
              "outlinewidth": 0,
              "ticks": ""
             }
            },
            "type": "scatter3d"
           }
          ],
          "scattercarpet": [
           {
            "marker": {
             "colorbar": {
              "outlinewidth": 0,
              "ticks": ""
             }
            },
            "type": "scattercarpet"
           }
          ],
          "scattergeo": [
           {
            "marker": {
             "colorbar": {
              "outlinewidth": 0,
              "ticks": ""
             }
            },
            "type": "scattergeo"
           }
          ],
          "scattergl": [
           {
            "marker": {
             "colorbar": {
              "outlinewidth": 0,
              "ticks": ""
             }
            },
            "type": "scattergl"
           }
          ],
          "scattermapbox": [
           {
            "marker": {
             "colorbar": {
              "outlinewidth": 0,
              "ticks": ""
             }
            },
            "type": "scattermapbox"
           }
          ],
          "scatterpolar": [
           {
            "marker": {
             "colorbar": {
              "outlinewidth": 0,
              "ticks": ""
             }
            },
            "type": "scatterpolar"
           }
          ],
          "scatterpolargl": [
           {
            "marker": {
             "colorbar": {
              "outlinewidth": 0,
              "ticks": ""
             }
            },
            "type": "scatterpolargl"
           }
          ],
          "scatterternary": [
           {
            "marker": {
             "colorbar": {
              "outlinewidth": 0,
              "ticks": ""
             }
            },
            "type": "scatterternary"
           }
          ],
          "surface": [
           {
            "colorbar": {
             "outlinewidth": 0,
             "ticks": ""
            },
            "colorscale": [
             [
              0,
              "#0d0887"
             ],
             [
              0.1111111111111111,
              "#46039f"
             ],
             [
              0.2222222222222222,
              "#7201a8"
             ],
             [
              0.3333333333333333,
              "#9c179e"
             ],
             [
              0.4444444444444444,
              "#bd3786"
             ],
             [
              0.5555555555555556,
              "#d8576b"
             ],
             [
              0.6666666666666666,
              "#ed7953"
             ],
             [
              0.7777777777777778,
              "#fb9f3a"
             ],
             [
              0.8888888888888888,
              "#fdca26"
             ],
             [
              1,
              "#f0f921"
             ]
            ],
            "type": "surface"
           }
          ],
          "table": [
           {
            "cells": {
             "fill": {
              "color": "#EBF0F8"
             },
             "line": {
              "color": "white"
             }
            },
            "header": {
             "fill": {
              "color": "#C8D4E3"
             },
             "line": {
              "color": "white"
             }
            },
            "type": "table"
           }
          ]
         },
         "layout": {
          "annotationdefaults": {
           "arrowcolor": "#2a3f5f",
           "arrowhead": 0,
           "arrowwidth": 1
          },
          "autotypenumbers": "strict",
          "coloraxis": {
           "colorbar": {
            "outlinewidth": 0,
            "ticks": ""
           }
          },
          "colorscale": {
           "diverging": [
            [
             0,
             "#8e0152"
            ],
            [
             0.1,
             "#c51b7d"
            ],
            [
             0.2,
             "#de77ae"
            ],
            [
             0.3,
             "#f1b6da"
            ],
            [
             0.4,
             "#fde0ef"
            ],
            [
             0.5,
             "#f7f7f7"
            ],
            [
             0.6,
             "#e6f5d0"
            ],
            [
             0.7,
             "#b8e186"
            ],
            [
             0.8,
             "#7fbc41"
            ],
            [
             0.9,
             "#4d9221"
            ],
            [
             1,
             "#276419"
            ]
           ],
           "sequential": [
            [
             0,
             "#0d0887"
            ],
            [
             0.1111111111111111,
             "#46039f"
            ],
            [
             0.2222222222222222,
             "#7201a8"
            ],
            [
             0.3333333333333333,
             "#9c179e"
            ],
            [
             0.4444444444444444,
             "#bd3786"
            ],
            [
             0.5555555555555556,
             "#d8576b"
            ],
            [
             0.6666666666666666,
             "#ed7953"
            ],
            [
             0.7777777777777778,
             "#fb9f3a"
            ],
            [
             0.8888888888888888,
             "#fdca26"
            ],
            [
             1,
             "#f0f921"
            ]
           ],
           "sequentialminus": [
            [
             0,
             "#0d0887"
            ],
            [
             0.1111111111111111,
             "#46039f"
            ],
            [
             0.2222222222222222,
             "#7201a8"
            ],
            [
             0.3333333333333333,
             "#9c179e"
            ],
            [
             0.4444444444444444,
             "#bd3786"
            ],
            [
             0.5555555555555556,
             "#d8576b"
            ],
            [
             0.6666666666666666,
             "#ed7953"
            ],
            [
             0.7777777777777778,
             "#fb9f3a"
            ],
            [
             0.8888888888888888,
             "#fdca26"
            ],
            [
             1,
             "#f0f921"
            ]
           ]
          },
          "colorway": [
           "#636efa",
           "#EF553B",
           "#00cc96",
           "#ab63fa",
           "#FFA15A",
           "#19d3f3",
           "#FF6692",
           "#B6E880",
           "#FF97FF",
           "#FECB52"
          ],
          "font": {
           "color": "#2a3f5f"
          },
          "geo": {
           "bgcolor": "white",
           "lakecolor": "white",
           "landcolor": "#E5ECF6",
           "showlakes": true,
           "showland": true,
           "subunitcolor": "white"
          },
          "hoverlabel": {
           "align": "left"
          },
          "hovermode": "closest",
          "mapbox": {
           "style": "light"
          },
          "paper_bgcolor": "white",
          "plot_bgcolor": "#E5ECF6",
          "polar": {
           "angularaxis": {
            "gridcolor": "white",
            "linecolor": "white",
            "ticks": ""
           },
           "bgcolor": "#E5ECF6",
           "radialaxis": {
            "gridcolor": "white",
            "linecolor": "white",
            "ticks": ""
           }
          },
          "scene": {
           "xaxis": {
            "backgroundcolor": "#E5ECF6",
            "gridcolor": "white",
            "gridwidth": 2,
            "linecolor": "white",
            "showbackground": true,
            "ticks": "",
            "zerolinecolor": "white"
           },
           "yaxis": {
            "backgroundcolor": "#E5ECF6",
            "gridcolor": "white",
            "gridwidth": 2,
            "linecolor": "white",
            "showbackground": true,
            "ticks": "",
            "zerolinecolor": "white"
           },
           "zaxis": {
            "backgroundcolor": "#E5ECF6",
            "gridcolor": "white",
            "gridwidth": 2,
            "linecolor": "white",
            "showbackground": true,
            "ticks": "",
            "zerolinecolor": "white"
           }
          },
          "shapedefaults": {
           "line": {
            "color": "#2a3f5f"
           }
          },
          "ternary": {
           "aaxis": {
            "gridcolor": "white",
            "linecolor": "white",
            "ticks": ""
           },
           "baxis": {
            "gridcolor": "white",
            "linecolor": "white",
            "ticks": ""
           },
           "bgcolor": "#E5ECF6",
           "caxis": {
            "gridcolor": "white",
            "linecolor": "white",
            "ticks": ""
           }
          },
          "title": {
           "x": 0.05
          },
          "xaxis": {
           "automargin": true,
           "gridcolor": "white",
           "linecolor": "white",
           "ticks": "",
           "title": {
            "standoff": 15
           },
           "zerolinecolor": "white",
           "zerolinewidth": 2
          },
          "yaxis": {
           "automargin": true,
           "gridcolor": "white",
           "linecolor": "white",
           "ticks": "",
           "title": {
            "standoff": 15
           },
           "zerolinecolor": "white",
           "zerolinewidth": 2
          }
         }
        },
        "width": 800
       }
      }
     },
     "metadata": {}
    }
   ],
   "source": [
    "# Creating a 3D-Scatter with the PCA data and the clusters\n",
    "fig = px.scatter_3d(\n",
    "    clustered_df,\n",
    "    x=\"PC 1\",\n",
    "    y=\"PC 2\",\n",
    "    z=\"PC 3\",\n",
    "    color=\"Class\",\n",
    "    symbol=\"Class\",\n",
    "    width=800,\n",
    "    hover_name = clustered_df[\"CoinName\"],\n",
    "    hover_data = [\"Algorithm\"]\n",
    ")\n",
    "fig.update_layout(legend=dict(x=0, y=1))\n",
    "fig.show()"
   ]
  },
  {
   "cell_type": "code",
   "execution_count": 208,
   "metadata": {},
   "outputs": [
    {
     "output_type": "display_data",
     "data": {},
     "metadata": {}
    },
    {
     "output_type": "execute_result",
     "data": {
      "text/html": "<div id='2638'>\n\n\n\n\n\n  <div class=\"bk-root\" id=\"8eaf5257-c572-465a-aa49-c3aab2443ea4\" data-root-id=\"2638\"></div>\n</div>\n<script type=\"application/javascript\">(function(root) {\n  function embed_document(root) {\n    var docs_json = {\"aac71985-c18f-4761-9d2c-a7d877c1e7cb\":{\"roots\":{\"references\":[{\"attributes\":{\"editor\":{\"id\":\"2648\"},\"field\":\"Algorithm\",\"formatter\":{\"id\":\"2647\"},\"title\":\"Algorithm\"},\"id\":\"2649\",\"type\":\"TableColumn\"},{\"attributes\":{\"columns\":[{\"id\":\"2644\"},{\"id\":\"2649\"},{\"id\":\"2654\"},{\"id\":\"2659\"},{\"id\":\"2664\"},{\"id\":\"2669\"}],\"height\":300,\"reorderable\":false,\"source\":{\"id\":\"2640\"},\"view\":{\"id\":\"2673\"},\"width\":700},\"id\":\"2672\",\"type\":\"DataTable\"},{\"attributes\":{},\"id\":\"2652\",\"type\":\"StringFormatter\"},{\"attributes\":{},\"id\":\"2667\",\"type\":\"NumberFormatter\"},{\"attributes\":{},\"id\":\"2663\",\"type\":\"NumberEditor\"},{\"attributes\":{},\"id\":\"2658\",\"type\":\"StringEditor\"},{\"attributes\":{\"data\":{\"Algorithm\":[\"Scrypt\",\"Scrypt\",\"X13\",\"SHA-256\",\"Ethash\",\"Scrypt\",\"X11\",\"CryptoNight-V7\",\"Ethash\",\"Equihash\",\"SHA-512\",\"Multiple\",\"SHA-256\",\"SHA-256\",\"Scrypt\",\"X15\",\"X11\",\"Scrypt\",\"Scrypt\",\"Scrypt\",\"Multiple\",\"Scrypt\",\"SHA-256\",\"Scrypt\",\"Scrypt\",\"Scrypt\",\"Quark\",\"Groestl\",\"Scrypt\",\"Scrypt\",\"Scrypt\",\"Scrypt\",\"Scrypt\",\"X11\",\"Scrypt\",\"Groestl\",\"Multiple\",\"SHA-256\",\"Scrypt\",\"Scrypt\",\"Scrypt\",\"Scrypt\",\"PoS\",\"Scrypt\",\"Scrypt\",\"NeoScrypt\",\"Scrypt\",\"Scrypt\",\"Scrypt\",\"Scrypt\",\"X11\",\"Scrypt\",\"X11\",\"SHA-256\",\"Scrypt\",\"Scrypt\",\"Scrypt\",\"SHA3\",\"Scrypt\",\"HybridScryptHash256\",\"Scrypt\",\"Scrypt\",\"SHA-256\",\"Scrypt\",\"X13\",\"Scrypt\",\"SHA-256\",\"Scrypt\",\"X13\",\"NeoScrypt\",\"Scrypt\",\"Scrypt\",\"Scrypt\",\"Scrypt\",\"Scrypt\",\"Scrypt\",\"X11\",\"X11\",\"SHA-256\",\"Multiple\",\"SHA-256\",\"PHI1612\",\"X11\",\"SHA-256\",\"SHA-256\",\"SHA-256\",\"X11\",\"Scrypt\",\"Scrypt\",\"Scrypt\",\"Scrypt\",\"Lyra2REv2\",\"Scrypt\",\"X11\",\"Multiple\",\"SHA-256\",\"X13\",\"Scrypt\",\"CryptoNight\",\"CryptoNight\",\"Shabal256\",\"Counterparty\",\"Scrypt\",\"SHA-256\",\"Groestl\",\"Scrypt\",\"Scrypt\",\"Scrypt\",\"X13\",\"Scrypt\",\"Scrypt\",\"Scrypt\",\"Scrypt\",\"X13\",\"Scrypt\",\"Stanford Folding\",\"X11\",\"Multiple\",\"QuBit\",\"Scrypt\",\"Scrypt\",\"Scrypt\",\"M7 POW\",\"Scrypt\",\"SHA-256\",\"Scrypt\",\"X11\",\"SHA3\",\"X11\",\"Lyra2RE\",\"SHA-256\",\"QUAIT\",\"X11\",\"X11\",\"Scrypt\",\"Scrypt\",\"Scrypt\",\"Ethash\",\"X13\",\"Blake2b\",\"SHA-256\",\"X15\",\"X11\",\"SHA-256\",\"BLAKE256\",\"Scrypt\",\"1GB AES Pattern Search\",\"SHA-256\",\"X11\",\"Scrypt\",\"SHA-256\",\"SHA-256\",\"NIST5\",\"Scrypt\",\"Scrypt\",\"X11\",\"Dagger\",\"Scrypt\",\"X11GOST\",\"X11\",\"Scrypt\",\"SHA-256\",\"Scrypt\",\"PoS\",\"Scrypt\",\"X11\",\"X11\",\"SHA-256\",\"SHA-256\",\"NIST5\",\"X11\",\"Scrypt\",\"POS 3.0\",\"Scrypt\",\"Scrypt\",\"Scrypt\",\"X13\",\"X11\",\"X11\",\"Equihash\",\"X11\",\"Scrypt\",\"CryptoNight\",\"SHA-256\",\"SHA-256\",\"X11\",\"Scrypt\",\"Multiple\",\"Scrypt\",\"Scrypt\",\"Scrypt\",\"SHA-256\",\"Scrypt\",\"Scrypt\",\"SHA-256D\",\"PoS\",\"Scrypt\",\"X11\",\"Lyra2Z\",\"PoS\",\"X13\",\"X14\",\"PoS\",\"SHA-256D\",\"Ethash\",\"Equihash\",\"DPoS\",\"X11\",\"Scrypt\",\"X11\",\"X13\",\"X11\",\"PoS\",\"Scrypt\",\"Scrypt\",\"X11\",\"PoS\",\"X11\",\"SHA-256\",\"Scrypt\",\"X11\",\"Scrypt\",\"Scrypt\",\"X11\",\"CryptoNight\",\"Scrypt\",\"Scrypt\",\"Scrypt\",\"Scrypt\",\"Quark\",\"QuBit\",\"Scrypt\",\"CryptoNight\",\"Lyra2RE\",\"Scrypt\",\"SHA-256\",\"X11\",\"Scrypt\",\"X11\",\"Scrypt\",\"CryptoNight-V7\",\"Scrypt\",\"Scrypt\",\"Scrypt\",\"X13\",\"X11\",\"Equihash\",\"Scrypt\",\"Scrypt\",\"Lyra2RE\",\"Scrypt\",\"Dagger-Hashimoto\",\"X11\",\"Blake2S\",\"X11\",\"Scrypt\",\"PoS\",\"X11\",\"NIST5\",\"PoS\",\"X11\",\"Scrypt\",\"Scrypt\",\"Scrypt\",\"SHA-256\",\"X11\",\"Scrypt\",\"Scrypt\",\"SHA-256\",\"PoS\",\"Scrypt\",\"X15\",\"SHA-256\",\"Scrypt\",\"POS 3.0\",\"CryptoNight-V7\",\"536\",\"Argon2d\",\"Blake2b\",\"Cloverhash\",\"CryptoNight\",\"NIST5\",\"X11\",\"NIST5\",\"Skein\",\"Scrypt\",\"X13\",\"Scrypt\",\"X11\",\"X11\",\"Scrypt\",\"CryptoNight\",\"X13\",\"Time Travel\",\"Scrypt\",\"Keccak\",\"SkunkHash v2 Raptor\",\"X11\",\"Skein\",\"SHA-256\",\"X11\",\"Scrypt\",\"VeChainThor Authority\",\"Scrypt\",\"PoS\",\"Scrypt\",\"Scrypt\",\"Scrypt\",\"Scrypt\",\"Scrypt\",\"Scrypt\",\"Scrypt\",\"CryptoNight\",\"SHA-512\",\"Ouroboros\",\"X11\",\"Equihash\",\"NeoScrypt\",\"X11\",\"Scrypt\",\"NeoScrypt\",\"Lyra2REv2\",\"Equihash\",\"Scrypt\",\"SHA-256\",\"NIST5\",\"PHI1612\",\"Dagger\",\"Scrypt\",\"Quark\",\"Scrypt\",\"POS 2.0\",\"Scrypt\",\"SHA-256\",\"X11\",\"NeoScrypt\",\"Ethash\",\"NeoScrypt\",\"X11\",\"DPoS\",\"NIST5\",\"X13\",\"Multiple\",\"Scrypt\",\"CryptoNight\",\"CryptoNight\",\"Ethash\",\"NIST5\",\"Quark\",\"X11\",\"CryptoNight-V7\",\"Scrypt\",\"Scrypt\",\"Scrypt\",\"X11\",\"BLAKE256\",\"X11\",\"NeoScrypt\",\"Quark\",\"NeoScrypt\",\"Scrypt\",\"Scrypt\",\"Scrypt\",\"X11\",\"X11\",\"SHA-256\",\"C11\",\"POS 3.0\",\"Ethash\",\"Scrypt\",\"CryptoNight\",\"SkunkHash\",\"Scrypt\",\"CryptoNight\",\"Scrypt\",\"Dagger\",\"Lyra2REv2\",\"X13\",\"Proof-of-BibleHash\",\"SHA-256 + Hive\",\"Scrypt\",\"Scrypt\",\"X11\",\"C11\",\"Proof-of-Authority\",\"X11\",\"XEVAN\",\"Scrypt\",\"VBFT\",\"Ethash\",\"CryptoNight\",\"Scrypt\",\"IMesh\",\"NIST5\",\"Scrypt\",\"Scrypt\",\"Equihash\",\"Scrypt\",\"Lyra2Z\",\"Green Protocol\",\"PoS\",\"Scrypt\",\"Semux BFT consensus\",\"X11\",\"Quark\",\"PoS\",\"CryptoNight\",\"X16R\",\"Scrypt\",\"NIST5\",\"Lyra2RE\",\"XEVAN\",\"Tribus\",\"Scrypt\",\"Lyra2Z\",\"CryptoNight\",\"CryptoNight Heavy\",\"CryptoNight\",\"Scrypt\",\"Scrypt\",\"Jump Consistent Hash\",\"SHA-256D\",\"CryptoNight\",\"Scrypt\",\"X15\",\"Scrypt\",\"Quark\",\"SHA-256\",\"DPoS\",\"X16R\",\"HMQ1725\",\"X11\",\"X16R\",\"Quark\",\"Quark\",\"Scrypt\",\"Lyra2REv2\",\"Quark\",\"Scrypt\",\"Scrypt\",\"CryptoNight-V7\",\"Cryptonight-GPU\",\"XEVAN\",\"CryptoNight Heavy\",\"X11\",\"X11\",\"Scrypt\",\"PoS\",\"SHA-256\",\"Keccak\",\"X11\",\"X11\",\"Scrypt\",\"SHA-512\",\"X16R\",\"ECC 256K1\",\"Equihash\",\"XEVAN\",\"Lyra2Z\",\"SHA-256\",\"XEVAN\",\"X11\",\"CryptoNight\",\"Quark\",\"Blake\",\"Blake\",\"Equihash\",\"Exosis\",\"Scrypt\",\"Scrypt\",\"Equihash\",\"Quark\",\"Equihash\",\"Quark\",\"Scrypt\",\"QuBit\",\"X11\",\"Scrypt\",\"XEVAN\",\"SHA-256D\",\"X11\",\"SHA-256\",\"X13\",\"SHA-256\",\"X11\",\"DPoS\",\"Scrypt\",\"Scrypt\",\"X11\",\"NeoScrypt\",\"Scrypt\",\"Blake\",\"Scrypt\",\"SHA-256\",\"Scrypt\",\"X11\",\"Scrypt\",\"Scrypt\",\"SHA-256\",\"X11\",\"SHA-256\",\"Scrypt\",\"Scrypt\",\"Scrypt\",\"Groestl\",\"X11\",\"Scrypt\",\"PoS\",\"Scrypt\",\"Scrypt\",\"X11\",\"SHA-256\",\"DPoS\",\"Scrypt\",\"Scrypt\",\"NeoScrypt\",\"Multiple\",\"X13\",\"Equihash+Scrypt\",\"DPoS\",\"Ethash\",\"DPoS\",\"SHA-256\",\"Leased POS\",\"PoS\",\"TRC10\",\"PoS\",\"SHA-256\",\"Scrypt\",\"CryptoNight\",\"Equihash\",\"Scrypt\"],\"Class\":{\"__ndarray__\":\"AAAAAAAAAAAAAAAAAAAAAAAAAAAAAAAAAwAAAAAAAAAAAAAAAAAAAAMAAAAAAAAAAAAAAAMAAAAAAAAAAAAAAAMAAAAAAAAAAAAAAAAAAAAAAAAAAAAAAAAAAAAAAAAAAAAAAAAAAAAAAAAAAAAAAAAAAAAAAAAAAAAAAAAAAAAAAAAAAwAAAAAAAAAAAAAAAAAAAAAAAAAAAAAAAAAAAAAAAAAAAAAAAwAAAAAAAAAAAAAAAAAAAAAAAAAAAAAAAAAAAAAAAAADAAAAAAAAAAMAAAAAAAAAAAAAAAAAAAAAAAAAAAAAAAAAAAAAAAAAAAAAAAAAAAAAAAAAAAAAAAAAAAAAAAAAAAAAAAAAAAAAAAAAAAAAAAAAAAAAAAAAAAAAAAAAAAAAAAAAAAAAAAMAAAADAAAAAAAAAAMAAAAAAAAAAwAAAAMAAAAAAAAAAAAAAAAAAAADAAAAAAAAAAAAAAAAAAAAAAAAAAAAAAAAAAAAAwAAAAMAAAAAAAAAAAAAAAAAAAAAAAAAAAAAAAAAAAADAAAAAAAAAAAAAAAAAAAAAAAAAAAAAAAAAAAAAAAAAAAAAAAAAAAAAAAAAAAAAAAAAAAAAAAAAAAAAAADAAAAAAAAAAAAAAAAAAAAAAAAAAAAAAAAAAAAAAAAAAAAAAAAAAAAAwAAAAAAAAADAAAAAAAAAAAAAAAAAAAAAwAAAAMAAAAAAAAAAAAAAAAAAAAAAAAAAAAAAAAAAAAAAAAAAAAAAAMAAAAAAAAAAAAAAAAAAAAAAAAAAAAAAAMAAAAAAAAAAAAAAAAAAAAAAAAAAAAAAAAAAAADAAAAAAAAAAAAAAAAAAAAAwAAAAAAAAAAAAAAAAAAAAMAAAAAAAAAAwAAAAMAAAAAAAAAAAAAAAAAAAADAAAAAAAAAAMAAAAAAAAAAAAAAAAAAAADAAAAAwAAAAMAAAAAAAAAAwAAAAAAAAAAAAAAAAAAAAAAAAADAAAAAAAAAAAAAAAAAAAAAAAAAAAAAAAAAAAAAAAAAAAAAAAAAAAAAwAAAAAAAAADAAAAAAAAAAMAAAADAAAAAAAAAAMAAAAAAAAAAAAAAAAAAAAAAAAAAwAAAAAAAAADAAAAAAAAAAMAAAADAAAAAAAAAAAAAAADAAAAAwAAAAMAAAAAAAAAAAAAAAMAAAAAAAAAAAAAAAMAAAAAAAAAAAAAAAAAAAAAAAAAAAAAAAMAAAAAAAAAAAAAAAAAAAAAAAAAAAAAAAAAAAADAAAAAAAAAAMAAAAAAAAAAAAAAAAAAAAAAAAAAAAAAAMAAAADAAAAAAAAAAAAAAAAAAAAAAAAAAAAAAAAAAAAAwAAAAAAAAADAAAAAAAAAAMAAAADAAAAAAAAAAMAAAADAAAAAAAAAAAAAAAAAAAAAwAAAAMAAAAAAAAAAAAAAAAAAAADAAAAAAAAAAAAAAADAAAAAAAAAAMAAAAAAAAAAAAAAAAAAAAAAAAAAAAAAAAAAAAAAAAAAwAAAAAAAAAAAAAAAAAAAAAAAAAAAAAAAwAAAAMAAAAAAAAAAAAAAAAAAAAAAAAAAAAAAAAAAAADAAAAAwAAAAAAAAAAAAAAAwAAAAAAAAAAAAAAAAAAAAMAAAAAAAAAAAAAAAAAAAAAAAAAAAAAAAAAAAAAAAAAAAAAAAMAAAADAAAAAwAAAAAAAAAAAAAAAwAAAAAAAAAAAAAAAwAAAAAAAAAAAAAAAAAAAAAAAAAAAAAAAAAAAAAAAAAAAAAAAAAAAAMAAAAAAAAAAwAAAAMAAAAAAAAAAAAAAAAAAAADAAAAAAAAAAAAAAAAAAAAAAAAAAAAAAAAAAAAAAAAAAAAAAADAAAAAwAAAAMAAAAAAAAAAAAAAAAAAAAAAAAAAwAAAAAAAAADAAAAAAAAAAMAAAAAAAAAAAAAAAAAAAAAAAAAAwAAAAMAAAAAAAAAAAAAAAMAAAADAAAAAAAAAAAAAAAAAAAAAAAAAAAAAAAAAAAAAAAAAAAAAAADAAAAAgAAAAAAAAAAAAAAAAAAAAMAAAAAAAAAAAAAAAMAAAAAAAAAAAAAAAMAAAAAAAAAAAAAAAAAAAAAAAAAAAAAAAAAAAAAAAAAAAAAAAAAAAAAAAAAAwAAAAMAAAAAAAAAAAAAAAMAAAAAAAAAAwAAAAAAAAADAAAAAAAAAAAAAAAAAAAAAAAAAAAAAAAAAAAAAAAAAAAAAAAAAAAAAAAAAAAAAAAAAAAAAAAAAAAAAAAAAAAAAAAAAAMAAAAAAAAAAwAAAAMAAAADAAAAAAAAAAAAAAADAAAAAAAAAAMAAAAAAAAAAAAAAAAAAAADAAAAAAAAAAAAAAAAAAAAAAAAAAAAAAAAAAAAAwAAAAMAAAAAAAAAAwAAAAAAAAAAAAAAAwAAAAMAAAAAAAAAAAAAAAAAAAAAAAAAAAAAAAMAAAAAAAAAAAAAAAAAAAADAAAAAAAAAAAAAAAAAAAAAAAAAAMAAAAAAAAAAAAAAAAAAAAAAAAAAAAAAAAAAAADAAAAAAAAAAAAAAADAAAAAAAAAAAAAAAAAAAAAwAAAAAAAAAAAAAAAAAAAAMAAAAAAAAAAAAAAAAAAAADAAAAAAAAAAAAAAAAAAAAAAAAAAMAAAAAAAAAAwAAAAAAAAAAAAAAAAAAAAMAAAAAAAAAAAAAAAAAAAAAAAAAAAAAAAMAAAAAAAAAAwAAAAAAAAAAAAAAAwAAAAAAAAAAAAAAAAAAAAAAAAAAAAAAAAAAAAAAAAAAAAAAAAAAAAAAAAAAAAAAAwAAAAAAAAADAAAAAQAAAAMAAAAAAAAAAAAAAAAAAAAAAAAAAAAAAA==\",\"dtype\":\"int32\",\"order\":\"little\",\"shape\":[532]},\"CoinName\":[\"42 Coin\",\"404Coin\",\"EliteCoin\",\"Bitcoin\",\"Ethereum\",\"Litecoin\",\"Dash\",\"Monero\",\"Ethereum Classic\",\"ZCash\",\"Bitshares\",\"DigiByte\",\"BitcoinDark\",\"PayCoin\",\"ProsperCoin\",\"KoboCoin\",\"Spreadcoin\",\"Argentum\",\"Aurora Coin\",\"BlueCoin\",\"MyriadCoin\",\"MoonCoin\",\"ZetaCoin\",\"SexCoin\",\"Quatloo\",\"EnergyCoin\",\"QuarkCoin\",\"Riecoin\",\"Digitalcoin \",\"BitBar\",\"Catcoin\",\"CryptoBullion\",\"CannaCoin\",\"CryptCoin\",\"CasinoCoin\",\"Diamond\",\"Verge\",\"DevCoin\",\"EarthCoin\",\"E-Gulden\",\"Einsteinium\",\"Emerald\",\"Exclusive Coin\",\"FlutterCoin\",\"Franko\",\"FeatherCoin\",\"GrandCoin\",\"GlobalCoin\",\"GoldCoin\",\"HoboNickels\",\"HyperStake\",\"Infinite Coin\",\"IOCoin\",\"IXcoin\",\"KrugerCoin\",\"LuckyCoin\",\"Litebar \",\"MaxCoin\",\"MegaCoin\",\"MediterraneanCoin\",\"MintCoin\",\"MinCoin\",\"MazaCoin\",\"Nautilus Coin\",\"NavCoin\",\"NobleCoin\",\"Namecoin\",\"NyanCoin\",\"OpalCoin\",\"Orbitcoin\",\"PotCoin\",\"PhoenixCoin\",\"Reddcoin\",\"RonPaulCoin\",\"StableCoin\",\"SmartCoin\",\"SuperCoin\",\"SyncCoin\",\"SysCoin\",\"TeslaCoin\",\"TigerCoin\",\"TittieCoin\",\"TorCoin\",\"TerraCoin\",\"UnbreakableCoin\",\"Unobtanium\",\"UroCoin\",\"UnitaryStatus Dollar\",\"UltraCoin\",\"ViaCoin\",\"VeriCoin\",\"Vertcoin\",\"WorldCoin\",\"X11 Coin\",\"Crypti\",\"JouleCoin\",\"StealthCoin\",\"ZCC Coin\",\"ByteCoin\",\"DigitalNote \",\"BurstCoin\",\"StorjCoin\",\"MonaCoin\",\"Neutron\",\"FairCoin\",\"Gulden\",\"RubyCoin\",\"PesetaCoin\",\"Kore\",\"Wild Beast Coin\",\"Dnotes\",\"Flo\",\"8BIT Coin\",\"Sativa Coin\",\"ArtByte\",\"Folding Coin\",\"Ucoin\",\"Unitus\",\"CypherPunkCoin\",\"OmniCron\",\"Vtorrent\",\"GreenCoin\",\"Cryptonite\",\"MasterCoin\",\"SoonCoin\",\"1Credit\",\"IslaCoin\",\"Nexus\",\"MarsCoin \",\"Crypto\",\"Anarchists Prime\",\"Droidz\",\"BowsCoin\",\"Squall Coin\",\"Song Coin\",\"BitZeny\",\"Diggits\",\"Expanse\",\"Paycon\",\"Siacoin\",\"Emercoin\",\"EverGreenCoin\",\"MindCoin\",\"I0coin\",\"Decred\",\"Revolution VR\",\"HOdlcoin\",\"EDRCoin\",\"Hitcoin\",\"Gamecredits\",\"DubaiCoin\",\"CarpeDiemCoin\",\"PWR Coin\",\"BillaryCoin\",\"GPU Coin\",\"Adzcoin\",\"SoilCoin\",\"YoCoin\",\"SibCoin\",\"EuropeCoin\",\"ZeitCoin\",\"SwingCoin\",\"SafeExchangeCoin\",\"Nebuchadnezzar\",\"Francs\",\"BolivarCoin\",\"Ratecoin\",\"Revenu\",\"Clockcoin\",\"VIP Tokens\",\"BitSend\",\"Omni\",\"Let it Ride\",\"PutinCoin\",\"iBankCoin\",\"Frankywillcoin\",\"MudraCoin\",\"PizzaCoin\",\"Lutetium Coin\",\"Komodo\",\"GoldBlocks\",\"CarterCoin\",\"Karbo\",\"BitTokens\",\"ZayedCoin\",\"MustangCoin\",\"ZoneCoin\",\"Circuits of Value\",\"RootCoin\",\"DopeCoin\",\"BitCurrency\",\"DollarCoin\",\"Swiscoin\",\"Shilling\",\"BuzzCoin\",\"Opair\",\"PesoBit\",\"Halloween Coin\",\"ZCoin\",\"CoffeeCoin\",\"RoyalCoin\",\"GanjaCoin V2\",\"TeamUP\",\"LanaCoin\",\"Elementrem\",\"ZClassic\",\"ARK\",\"InsaneCoin\",\"KiloCoin\",\"ArtexCoin\",\"EmberCoin\",\"XenixCoin\",\"FreeCoin\",\"PLNCoin\",\"AquariusCoin\",\"Kurrent\",\"Creatio\",\"Eternity\",\"Eurocoin\",\"BitcoinFast\",\"Stakenet\",\"BitConnect Coin\",\"MoneyCoin\",\"Enigma\",\"Cannabis Industry Coin\",\"Russiacoin\",\"PandaCoin\",\"GameUnits\",\"GAKHcoin\",\"Allsafe\",\"LiteCreed\",\"OsmiumCoin\",\"Bikercoins\",\"HexxCoin\",\"Klingon Empire Darsek\",\"Internet of People\",\"KushCoin\",\"Printerium\",\"PacCoin\",\"Impeach\",\"Citadel\",\"Zilbercoin\",\"FirstCoin\",\"BeaverCoin\",\"FindCoin\",\"VaultCoin\",\"Zero\",\"OpenChat\",\"Canada eCoin\",\"Zoin\",\"RenosCoin\",\"DubaiCoin\",\"VirtacoinPlus\",\"TajCoin\",\"Impact\",\"EB3coin\",\"Atmos\",\"HappyCoin\",\"Coinonat\",\"MacronCoin\",\"Condensate\",\"Independent Money System\",\"ArgusCoin\",\"LomoCoin\",\"ProCurrency\",\"GoldReserve\",\"BenjiRolls\",\"GrowthCoin\",\"ILCoin\",\"Phreak\",\"Degas Coin\",\"HTML5 Coin\",\"Ultimate Secure Cash\",\"EquiTrader\",\"QTUM\",\"Quantum Resistant Ledger\",\"Espers\",\"Dynamic\",\"Nano\",\"ChanCoin\",\"Dinastycoin\",\"Denarius\",\"DigitalPrice\",\"Virta Unique Coin\",\"Bitcoin Planet\",\"Unify\",\"BritCoin\",\"SocialCoin\",\"ArcticCoin\",\"DAS\",\"Linda\",\"LeviarCoin\",\"DeepOnion\",\"Bitcore\",\"gCn Coin\",\"SmartCash\",\"Signatum\",\"Onix\",\"Cream\",\"Bitcoin Cash\",\"Monoeci\",\"Draftcoin\",\"Vechain\",\"Sojourn Coin\",\"Stakecoin\",\"NewYorkCoin\",\"FrazCoin\",\"Kronecoin\",\"AdCoin\",\"Linx\",\"CoinonatX\",\"Ethereum Dark\",\"Sumokoin\",\"Obsidian\",\"Cardano\",\"Regalcoin\",\"BitcoinZ\",\"TrezarCoin\",\"Elements\",\"TerraNovaCoin\",\"VIVO Coin\",\"Rupee\",\"Bitcoin Gold\",\"WomenCoin\",\"Theresa May Coin\",\"NamoCoin\",\"LUXCoin\",\"Pirl\",\"Xios\",\"Bitcloud 2.0\",\"eBoost\",\"KekCoin\",\"BlackholeCoin\",\"Infinity Economics\",\"Pura\",\"Innova\",\"Ellaism\",\"GoByte\",\"Magnet\",\"Lamden Tau\",\"Electra\",\"Bitcoin Diamond\",\"SHIELD\",\"Cash & Back Coin\",\"UltraNote\",\"BitCoal\",\"DaxxCoin\",\"Bulwark\",\"Kalkulus\",\"AC3\",\"Lethean\",\"GermanCoin\",\"LiteCoin Ultra\",\"PopularCoin\",\"PhantomX\",\"Photon\",\"Sucre\",\"SparksPay\",\"Digiwage\",\"GunCoin\",\"IrishCoin\",\"Trollcoin\",\"Litecoin Plus\",\"Monkey Project\",\"Pioneer Coin\",\"UnitedBitcoin\",\"Interzone\",\"TokenPay\",\"1717 Masonic Commemorative Token\",\"My Big Coin\",\"TurtleCoin\",\"MUNcoin\",\"Unified Society USDEX\",\"Niobio Cash\",\"ShareChain\",\"Travelflex\",\"KREDS\",\"Tokyo Coin\",\"BiblePay\",\"LitecoinCash\",\"BitFlip\",\"LottoCoin\",\"Crypto Improvement Fund\",\"Stipend\",\"Poa Network\",\"Pushi\",\"Ellerium\",\"Velox\",\"Ontology\",\"Callisto Network\",\"BitTube\",\"Poseidon\",\"Aidos Kuneen\",\"Bitspace\",\"Briacoin\",\"Ignition\",\"Bitrolium\",\"MedicCoin\",\"Alpenschillling\",\"Bitcoin Green\",\"Deviant Coin\",\"Abjcoin\",\"Semux\",\"FuturoCoin\",\"Carebit\",\"Zealium\",\"Monero Classic\",\"Proton\",\"iDealCash\",\"Jumpcoin\",\"Infinex\",\"Bitcoin Incognito\",\"KEYCO\",\"HollyWoodCoin\",\"GINcoin\",\"PlatinCoin\",\"Loki\",\"Newton Coin\",\"Swisscoin\",\"Xt3ch\",\"MassGrid\",\"TheVig\",\"PluraCoin\",\"EmaratCoin\",\"Dekado\",\"Lynx\",\"Poseidon Quark\",\"BitcoinWSpectrum\",\"Muse\",\"Motion\",\"PlusOneCoin\",\"Axe\",\"Trivechain\",\"Dystem\",\"Giant\",\"Peony Coin\",\"Absolute Coin\",\"Vitae\",\"HexCoin\",\"TPCash\",\"Webchain\",\"Ryo\",\"Urals Coin\",\"Qwertycoin\",\"ARENON\",\"EUNO\",\"MMOCoin\",\"Ketan\",\"Project Pai\",\"XDNA\",\"PAXEX\",\"Azart\",\"ThunderStake\",\"Kcash\",\"Xchange\",\"Acute Angle Cloud\",\"CrypticCoin\",\"Bettex coin\",\"Actinium\",\"Bitcoin SV\",\"BitMoney\",\"Junson Ming Chan Coin\",\"FREDEnergy\",\"HerbCoin\",\"Universal Molecule\",\"Lithium\",\"PirateCash\",\"Exosis\",\"Block-Logic\",\"Oduwa\",\"Beam\",\"Galilel\",\"Bithereum\",\"Crypto Sports\",\"Credit\",\"SLICE\",\"Dash Platinum\",\"Nasdacoin\",\"Beetle Coin\",\"Titan Coin\",\"Award\",\"BLAST\",\"Bitcoin Rhodium\",\"GlobalToken\",\"Insane Coin\",\"ALAX\",\"LiteDoge\",\"SolarCoin\",\"TruckCoin\",\"UFO Coin\",\"OrangeCoin\",\"BlakeCoin\",\"BitstarCoin\",\"NeosCoin\",\"HyperCoin\",\"PinkCoin\",\"Crypto Escudo\",\"AudioCoin\",\"IncaKoin\",\"Piggy Coin\",\"Crown Coin\",\"Genstake\",\"SmileyCoin\",\"XiaoMiCoin\",\"Groestlcoin\",\"CapriCoin\",\" ClubCoin\",\"Radium\",\"Bata\",\"Pakcoin\",\"Creditbit \",\"OKCash\",\"Lisk\",\"HiCoin\",\"WhiteCoin\",\"FriendshipCoin\",\"JoinCoin\",\"Triangles Coin\",\"Vollar\",\"EOS\",\"Reality Clash\",\"Oxycoin\",\"TigerCash\",\"Waves\",\"Particl\",\"BitTorrent\",\"Nxt\",\"ZEPHYR\",\"Gapcoin\",\"Beldex\",\"Horizen\",\"BitcoinPlus\"],\"ProofType\":[\"PoW/PoS\",\"PoW/PoS\",\"PoW/PoS\",\"PoW\",\"PoW\",\"PoW\",\"PoW/PoS\",\"PoW\",\"PoW\",\"PoW\",\"PoS\",\"PoW\",\"PoW/PoS\",\"PoS\",\"PoW\",\"PoW/PoS\",\"PoW\",\"PoW\",\"PoW/PoS\",\"PoW/PoS\",\"PoW\",\"PoW\",\"PoW\",\"PoW\",\"PoW\",\"PoW/PoS\",\"PoW\",\"PoW\",\"PoW\",\"PoW/PoS\",\"PoW\",\"PoW/PoS\",\"PoW\",\"PoW\",\"PoC\",\"PoW/PoS\",\"PoW\",\"PoW\",\"PoW\",\"PoW\",\"PoW\",\"PoW\",\"PoS\",\"PoS/PoW/PoT\",\"PoW\",\"PoW\",\"PoW\",\"PoW\",\"PoW\",\"PoW/PoS\",\"PoS\",\"PoW\",\"PoW/PoS\",\"PoW\",\"PoW\",\"PoW\",\"PoW\",\"PoW/PoS\",\"PoW\",\"PoW\",\"PoS\",\"PoW\",\"PoW/PoS\",\"PoS\",\"PoW/PoS\",\"PoW\",\"PoW\",\"PoW\",\"PoW/PoS\",\"PoW/PoS\",\"PoW/PoS\",\"PoW/PoS\",\"PoW/PoS\",\"PoW\",\"PoW\",\"PoW\",\"PoS\",\"PoW/PoS\",\"PoW\",\"PoS\",\"PoW\",\"PoS\",\"PoW/PoS\",\"PoW\",\"PoW\",\"PoW\",\"PoW\",\"PoW/PoS\",\"PoW/PoS\",\"PoW\",\"PoST\",\"PoW\",\"PoW\",\"PoW/PoS\",\"PoS\",\"PoW\",\"PoW/PoS\",\"PoW/PoS\",\"PoW\",\"PoW\",\"PoC\",\"PoS\",\"PoW\",\"PoW/PoS\",\"PoW/PoS\",\"PoW\",\"PoS\",\"PoW\",\"PoW/PoS\",\"PoW\",\"PoS\",\"PoW\",\"PoW/PoS\",\"PoW/PoS\",\"PoW\",\"PoW\",\"PoS\",\"PoW\",\"PoW\",\"PoW\",\"PoW/PoS\",\"PoW\",\"PoW\",\"PoW\",\"PoW\",\"PoW\",\"PoW/PoS\",\"PoW/nPoS\",\"PoW\",\"PoW\",\"PoW\",\"PoW/PoS\",\"PoW\",\"PoS/PoW\",\"PoW\",\"PoW\",\"PoS\",\"PoW\",\"PoW/PoS\",\"PoW\",\"PoW/PoS\",\"PoW/PoS\",\"PoW\",\"PoW\",\"PoW/PoS\",\"PoW\",\"PoW\",\"PoW/PoS\",\"PoW/PoS\",\"PoW\",\"PoW/PoS\",\"PoW\",\"PoW/PoS\",\"PoW/PoS\",\"PoS\",\"PoW\",\"PoW\",\"PoW\",\"PoW\",\"PoW/PoS\",\"PoS\",\"PoW/PoS\",\"PoC\",\"PoS\",\"PoW\",\"PoW\",\"PoW/PoS\",\"PoW/PoS\",\"PoW/PoS\",\"PoW/PoS\",\"PoW/PoS\",\"PoW\",\"PoS\",\"PoW/PoS\",\"PoW/PoS\",\"PoW/PoS\",\"PoS\",\"PoW\",\"PoS\",\"dPoW/PoW\",\"PoW/PoS\",\"PoW/PoS\",\"PoW\",\"PoW/PoS\",\"PoW\",\"PoW/PoS\",\"PoW/PoS\",\"PoW\",\"PoW/PoS\",\"PoW\",\"PoS\",\"PoW\",\"PoW/PoW\",\"PoW\",\"PoW/PoS\",\"PoS\",\"PoW/PoS\",\"PoW/PoS\",\"PoW\",\"PoS\",\"PoS\",\"PoW/PoS\",\"PoS\",\"PoW/PoS\",\"PoW\",\"PoW\",\"DPoS\",\"PoW/PoS\",\"PoW\",\"PoW\",\"PoW/PoS\",\"PoW/PoS\",\"PoS\",\"PoW/PoS\",\"PoW/PoS\",\"PoW\",\"PoS\",\"PoW/PoS\",\"PoW/PoS\",\"PoW/PoS\",\"TPoS\",\"PoW/PoS\",\"PoW/PoS\",\"PoW/PoS\",\"PoW\",\"PoW/PoS\",\"PoS\",\"PoW/PoS\",\"PoW/PoS\",\"PoS\",\"PoW/PoS\",\"PoW\",\"PoW\",\"PoW\",\"PoW/PoS\",\"PoW/PoS\",\"PoW/PoS\",\"PoW/PoS\",\"PoW\",\"PoW/PoS\",\"PoW\",\"PoS\",\"PoW/PoS \",\"PoW\",\"PoS\",\"PoW\",\"PoW\",\"PoW/PoS\",\"PoW\",\"PoW\",\"PoS\",\"PoW\",\"PoW/PoS\",\"PoW/PoS\",\"PoW/PoS\",\"PoW\",\"PoS\",\"PoW/PoS\",\"PoW\",\"PoS\",\"PoW/PoS\",\"PoW/PoS\",\"PoW/PoS\",\"PoW/PoS\",\"PoS\",\"PoW/PoS\",\"PoW\",\"PoS\",\"PoW\",\"PoS\",\"PoW/PoS\",\"PoW/PoS\",\"PoS\",\"PoW\",\"PoS\",\"PoW\",\"PoW/PoS\",\"PoW\",\"PoW\",\"PoW\",\"PoW\",\"PoW/PoS\",\"PoW\",\"PoW/PoS\",\"PoW/PoS\",\"PoW\",\"PoW/PoS\",\"PoW\",\"PoW\",\"PoW\",\"PoW/PoS\",\"PoW\",\"PoW/PoS\",\"PoW\",\"PoW\",\"PoW\",\"PoS\",\"PoW\",\"PoW/PoS\",\"PoW\",\"PoW/PoS\",\"PoS\",\"Proof of Authority\",\"PoW\",\"PoS\",\"PoW\",\"PoW\",\"PoW\",\"PoW\",\"PoW\",\"PoW/PoS\",\"PoW/PoS\",\"PoW\",\"PoS\",\"PoS\",\"PoW/PoS\",\"PoW\",\"PoW/PoS\",\"PoW\",\"PoW/PoS\",\"PoW\",\"PoS\",\"PoW\",\"PoW/PoS\",\"PoW/PoS\",\"PoW/PoS\",\"PoW/PoS\",\"PoW\",\"PoW/PoS\",\"PoW/PoS\",\"PoW\",\"PoS\",\"PoW/PoS\",\"PoS\",\"PoW\",\"PoW\",\"PoW\",\"PoW\",\"PoW/PoS\",\"DPoS\",\"PoW/PoS\",\"PoW/PoS\",\"PoW\",\"PoW/PoS\",\"PoW\",\"PoW\",\"PoW\",\"PoS\",\"PoS\",\"PoW\",\"PoW\",\"PoW/PoS\",\"PoW/PoS\",\"PoW\",\"PoW/PoS\",\"PoW\",\"PoW\",\"PoW\",\"PoS\",\"PoW\",\"PoW\",\"PoW/PoS\",\"PoW/PoS\",\"PoS\",\"PoW\",\"PoW\",\"PoW\",\"PoS\",\"PoS\",\"PoW and PoS\",\"PoW\",\"PoW\",\"PoW/PoS\",\"PoW\",\"PoW\",\"PoW\",\"PoW\",\"PoS\",\"POBh\",\"PoW + Hive\",\"PoW\",\"PoW\",\"PoW\",\"PoW/PoS\",\"PoA\",\"PoW/PoS\",\"PoW/PoS\",\"PoS\",\"PoS\",\"PoW\",\"PoW\",\"PoW\",\"PoW\",\"PoW/PoS\",\"PoW/PoS\",\"PoW/PoS\",\"PoW\",\"PoS\",\"PoW\",\"PoS\",\"PoS\",\"PoW/PoS\",\"DPoS\",\"PoW\",\"PoW/PoS\",\"PoS\",\"PoW\",\"PoS\",\"PoW/PoS\",\"PoW\",\"PoW\",\"PoS/PoW\",\"PoW\",\"PoS\",\"PoW\",\"PoW\",\"PoW\",\"PoW\",\"PoW/PoS\",\"PoS\",\"PoW\",\"PoW/PoS\",\"PoW\",\"PoW/PoS\",\"PoS\",\"HPoW\",\"PoS\",\"PoS\",\"PoS\",\"PoW\",\"PoW\",\"PoW\",\"PoW/PoS\",\"PoS\",\"PoW/PoS\",\"PoS\",\"PoW/PoS\",\"PoS\",\"PoW\",\"PoW/PoS\",\"PoW\",\"PoW\",\"PoW\",\"PoW\",\"PoS\",\"PoW/PoS\",\"PoS\",\"PoS\",\"PoW\",\"PoW/PoS\",\"PoS\",\"PoW\",\"PoW/PoS\",\"Zero-Knowledge Proof\",\"PoW\",\"DPOS\",\"PoW\",\"PoS\",\"PoW\",\"PoW\",\"Pos\",\"PoS\",\"PoW\",\"PoW/PoS\",\"PoW\",\"PoW\",\"PoS\",\"PoW\",\"PoW\",\"PoW/PoS\",\"PoW\",\"PoW/PoS\",\"PoW\",\"PoS\",\"PoW/PoS\",\"PoW\",\"PoS\",\"PoW/PoS\",\"PoW/PoS\",\"PoW/PoS\",\"PoW/PoS\",\"PoW\",\"PoW\",\"PoW\",\"PoW/PoS\",\"DPoS\",\"PoW/PoS\",\"PoW\",\"PoW/PoS\",\"PoW\",\"PoW/PoS\",\"PoW\",\"PoW/PoS\",\"PoS\",\"PoW/PoS\",\"PoW/PoS\",\"PoW\",\"PoW/PoS\",\"PoW/PoS\",\"PoW/PoS\",\"PoW\",\"PoW/PoS\",\"PoW\",\"PoW/PoS\",\"PoW\",\"PoW/PoS\",\"PoW/PoS\",\"PoS\",\"PoW\",\"PoW\",\"Proof of Trust\",\"PoW/PoS\",\"DPoS\",\"PoS\",\"PoW/PoS\",\"PoW/PoS\",\"PoW\",\"PoW/PoS\",\"PoW\",\"DPoS\",\"PoW\",\"DPoS\",\"PoS\",\"LPoS\",\"PoS\",\"DPoS\",\"PoS/LPoS\",\"DPoS\",\"PoW/PoS\",\"PoW\",\"PoW\",\"PoS\"],\"TotalCoinSupply\":[\"42\",\"532000000\",\"314159265359\",\"21000000\",\"0\",\"84000000\",\"22000000\",\"0\",\"210000000\",\"21000000\",\"3600570502\",\"21000000000\",\"22000000\",\"12500000\",\"21000000\",\"350000000\",\"20000000\",\"64000000\",\"16768584\",\"0\",\"2000000000\",\"384000000000\",\"169795588\",\"250000000\",\"100000000\",\"0\",\"247000000\",\"84000000\",\"48166000\",\"500000\",\"21000000 \",\"1000000\",\"13140000\",\"18000000\",\"40000000000\",\"4380000\",\"16555000000\",\"21000000000\",\"13500000000\",\"21000000 \",\"299792458\",\"32000000\",\"0\",\"0\",\"11235813\",\"336000000\",\"1420609614\",\"70000000\",\"72245700\",\"120000000\",\"0\",\"90600000000\",\"22000000\",\"21000000\",\"265420800\",\"20000000\",\"1350000\",\"100000000\",\"42000000\",\"200000000\",\"0\",\"10000000\",\"2419200000\",\"16180000\",\"0\",\"15000000000\",\"21000000\",\"337000000\",\"0\",\"3770000\",\"420000000\",\"98000000\",\"0\",\"21000000\",\"250000000\",\"51200000\",\"0\",\"1000\",\"888000000\",\"100000000\",\"47011968\",\"2300000000\",\"10000000\",\"42000000\",\"80000000\",\"250000\",\"0\",\"1600000000\",\"100000000\",\"23000000\",\"0\",\"84000000\",\"265420800\",\"5500000\",\"0\",\"45000000\",\"0\",\"1000000000\",\"184467440735\",\"10000000000\",\"2158812800\",\"500000000\",\"105120000\",\"68000000\",\"0\",\"1680000000\",\"0\",\"166386000\",\"12000000\",\"2628000\",\"500000000\",\"160000000\",\"0\",\"10000000\",\"1000000000\",\"1000000000\",\"20000000\",\"0\",\"0\",\"3371337\",\"20000000\",\"10000000000\",\"1840000000\",\"619478\",\"21000000\",\"92000000000\",\"0\",\"78000000\",\"33000000\",\"65789100\",\"53760000\",\"5060000\",\"21000000\",\"0\",\"210240000\",\"250000000\",\"100000000\",\"16906397\",\"50000000\",\"0\",\"1000000000\",\"26298000\",\"16000000\",\"21000000\",\"21000000\",\"210000000\",\"81962100\",\"22000000\",\"26550000000\",\"84000000\",\"10500000\",\"21626280000 \",\"0\",\"42000000\",\"221052632\",\"84000000\",\"30000000\",\"168351300\",\"24000000\",\"384000000\",\" 99000000000\",\"40000000\",\"2147483647\",\"20000000\",\"20000000\",\"25000000\",\"75000000\",\"222725000\",\"525000000\",\"90000000\",\"139000000\",\"616448\",\"33500000\",\"2000000000\",\"44333333\",\"100000000\",\"200000000\",\"25000000\",\"657000000\",\"200000000\",\"50000000\",\"90000000\",\"10000000\",\"21000000\",\"9736000\",\"3000000\",\"21000000\",\"1200000000\",\"0\",\"200000000\",\"0\",\"10638298\",\"3100000000\",\"30000000\",\"20000000000\",\"74000000\",\"0\",\"1500000000\",\"21400000\",\"39999898\",\"2500124\",\"100000000\",\"301000000\",\"7506000000\",\"26205539\",\"21000000\",\"125000000\",\"30000000\",\"10000000000\",\"500000000\",\"850000000\",\"3853326.77707314\",\"50000000\",\"38540000 \",\"42000000\",\"228000000\",\"20000000\",\"60000000\",\"20000000\",\"33000000\",\"76500000\",\"28000000\",\"650659833\",\"5000000\",\"21000000\",\"144000000\",\"32514916898\",\"13000000\",\"3315789\",\"15000000\",\"78835200\",\"2714286\",\"25000000\",\"9999999\",\"500000000\",\"21000000\",\"9354000\",\"20000000\",\"100000000000\",\"21933333\",\"185000000\",\"55000000\",\"110000000\",\"3360000\",\"14524851.4827\",\"1000000000\",\"17000000\",\"1000000000\",\"100000000 \",\"21000000\",\"34426423\",\"2232901\",\"100000000\",\"36900000\",\"110000000\",\"4000000000\",\"110290030\",\"100000000\",\"48252000\",\"400000000\",\"500000000\",\"21212121\",\"28600000\",\"1000000000\",\"75000000000\",\"40000000\",\"35520400\",\"2000000000\",\"2500000000\",\"30000000\",\"105000000\",\"90000000000\",\"200084200\",\"72000000\",\"100000000\",\"105000000\",\"50000000000\",\"0\",\"340282367\",\"30000000\",\"2000000000\",\"10000000\",\"100000000\",\"120000000\",\"100000000\",\"19276800\",\"30000000\",\" 75000000\",\"60000000\",\"18900000\",\"50000000000\",\"54000000\",\"18898187.6216583\",\"21000000\",\"200000000000\",\"5000000000\",\"137500000\",\"1100000000\",\"100000000\",\"21000000\",\"9507271\",\"17405891.19707116\",\"86712634466\",\"10500000000\",\"61599965\",\"0\",\"20000000\",\"84000000\",\"100000000\",\"100000000\",\"48252000\",\"4200000\",\"88888888\",\"91388946\",\"45000000000\",\"27000000\",\"21000000000\",\"400000000\",\"1800000000\",\"15733333\",\"27000000\",\"24000000\",\"21000000\",\"25000000000\",\"100000000\",\"1200000000\",\"60000000\",\"156306732.71\",\"21000000\",\"200000000\",\"100000000\",\"21000000\",\"14788275.991\",\"9000000000\",\"350000000\",\"45000000\",\"280000000\",\"31800000\",\"144000000\",\"500000000\",\"30000000000\",\"210000000\",\"660000000\",\"210000000\",\"85000000000\",\"12500000\",\"10000000000\",\"27716121\",\"20000000\",\"550000000\",\"999481516\",\"50000000000\",\"150000000\",\"4999999999\",\"50000000\",\" 90000000000\",\"19800000\",\"21000000\",\"120000000\",\"500000000\",\"64000000\",\"900000000\",\"4000000\",\"21000000\",\"23000000\",\"20166000\",\"23000000\",\"25000000\",\"1618033\",\"30000000\",\"1000000000000\",\"16600000\",\"232000000\",\"336000000\",\"10000000000\",\"100000000\",\"1100000000\",\"800000000\",\"5200000000\",\"840000000\",\"40000000\",\"18406979840\",\"500000000\",\"19340594\",\"252460800\",\"25000000\",\"60000000\",\"124000000\",\"1000000000\",\"6500000000\",\"1000000000\",\"21000000\",\"25000000\",\"50000000\",\"3000000\",\"5000000\",\"70000000\",\"500000000\",\"300000000\",\"21000000\",\"88000000\",\"30000000\",\"100000000\",\"100000000\",\"200000000\",\"80000000\",\"18400000\",\"45000000\",\"5121951220\",\"21000000\",\"26280000\",\"21000000\",\"18000000\",\"26000000\",\"10500000\",\"600000518\",\"150000000\",\"184000000000\",\"10200000000\",\"44000000\",\"168000000\",\"100000000\",\"1000000000\",\"84000000\",\"90000000\",\"92000000000\",\"650000000 \",\"100262205\",\"18081806 \",\"22075700\",\"21000000\",\"21000000\",\"82546564\",\"21000000\",\"5151000\",\"16880000000\",\"52500000\",\"100000000\",\"22105263\",\"1000000000\",\"1750000000\",\"88188888\",\"210000000\",\"184470000000\",\"55000000\",\"50000000\",\"260000000\",\"210000000\",\"2100000000\",\"366000000\",\"100000000\",\"25000000\",\"18000000000\",\"1000000000\",\"100000000\",\"1000000000\",\"7600000000\",\"50000000\",\"84000000\",\"21000000\",\"70000000000\",\"0\",\"8080000000\",\"54000000\",\"105120001.44\",\"25228800\",\"105000000\",\"21000000\",\"120000000\",\"21000000\",\"262800000\",\"19035999\",\"30886000\",\"13370000\",\"74800000000\",\"100000000\",\"19700000\",\"84000000\",\"500000000\",\"5000000000\",\"420000000\",\"64000000\",\"2100000\",\"168000000\",\"30000000\",\"1000000000\",\"35000000000\",\"98100000000\",\"0\",\"4000000000\",\"200000000\",\"7000000000\",\"54256119\",\"21000000\",\"0\",\"500000000\",\"1000000000\",\"10500000000\",\"190000000\",\"1000000000\",\"42000000\",\"15000000\",\"50000000000\",\"400000000\",\"105000000\",\"208000000\",\"160000000\",\"9000000\",\"5000000\",\"182000000\",\"16504333\",\"105000000\",\"159918400\",\"10008835635\",\"300000000\",\"60168145\",\"2800000\",\"120000\",\"2100000000\",\"0\",\"24487944\",\"0\",\"1000000000\",\"100000000\",\"8634140\",\"990000000000\",\"1000000000\",\"2000000000\",\"250000000\",\"1400222610\",\"21000000\",\"1000000\"],\"TotalCoinsMined\":{\"__ndarray__\":\"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\",\"dtype\":\"float64\",\"order\":\"little\",\"shape\":[532]}},\"selected\":{\"id\":\"2641\"},\"selection_policy\":{\"id\":\"2675\"}},\"id\":\"2640\",\"type\":\"ColumnDataSource\"},{\"attributes\":{\"source\":{\"id\":\"2640\"}},\"id\":\"2673\",\"type\":\"CDSView\"},{\"attributes\":{\"editor\":{\"id\":\"2653\"},\"field\":\"ProofType\",\"formatter\":{\"id\":\"2652\"},\"title\":\"ProofType\"},\"id\":\"2654\",\"type\":\"TableColumn\"},{\"attributes\":{},\"id\":\"2643\",\"type\":\"StringEditor\"},{\"attributes\":{},\"id\":\"2657\",\"type\":\"StringFormatter\"},{\"attributes\":{},\"id\":\"2642\",\"type\":\"StringFormatter\"},{\"attributes\":{\"margin\":[5,5,5,5],\"name\":\"HSpacer04462\",\"sizing_mode\":\"stretch_width\"},\"id\":\"2639\",\"type\":\"Spacer\"},{\"attributes\":{\"margin\":[5,5,5,5],\"name\":\"HSpacer04463\",\"sizing_mode\":\"stretch_width\"},\"id\":\"2678\",\"type\":\"Spacer\"},{\"attributes\":{},\"id\":\"2675\",\"type\":\"UnionRenderers\"},{\"attributes\":{\"editor\":{\"id\":\"2643\"},\"field\":\"CoinName\",\"formatter\":{\"id\":\"2642\"},\"title\":\"CoinName\"},\"id\":\"2644\",\"type\":\"TableColumn\"},{\"attributes\":{},\"id\":\"2668\",\"type\":\"IntEditor\"},{\"attributes\":{\"children\":[{\"id\":\"2639\"},{\"id\":\"2672\"},{\"id\":\"2678\"}],\"margin\":[0,0,0,0],\"name\":\"Row04458\",\"tags\":[\"embedded\"]},\"id\":\"2638\",\"type\":\"Row\"},{\"attributes\":{\"editor\":{\"id\":\"2668\"},\"field\":\"Class\",\"formatter\":{\"id\":\"2667\"},\"title\":\"Class\"},\"id\":\"2669\",\"type\":\"TableColumn\"},{\"attributes\":{},\"id\":\"2647\",\"type\":\"StringFormatter\"},{\"attributes\":{\"editor\":{\"id\":\"2663\"},\"field\":\"TotalCoinsMined\",\"formatter\":{\"id\":\"2662\"},\"title\":\"TotalCoinsMined\"},\"id\":\"2664\",\"type\":\"TableColumn\"},{\"attributes\":{},\"id\":\"2648\",\"type\":\"StringEditor\"},{\"attributes\":{\"editor\":{\"id\":\"2658\"},\"field\":\"TotalCoinSupply\",\"formatter\":{\"id\":\"2657\"},\"title\":\"TotalCoinSupply\"},\"id\":\"2659\",\"type\":\"TableColumn\"},{\"attributes\":{},\"id\":\"2641\",\"type\":\"Selection\"},{\"attributes\":{\"format\":\"0,0.0[00000]\"},\"id\":\"2662\",\"type\":\"NumberFormatter\"},{\"attributes\":{},\"id\":\"2653\",\"type\":\"StringEditor\"}],\"root_ids\":[\"2638\"]},\"title\":\"Bokeh Application\",\"version\":\"2.2.3\"}};\n    var render_items = [{\"docid\":\"aac71985-c18f-4761-9d2c-a7d877c1e7cb\",\"root_ids\":[\"2638\"],\"roots\":{\"2638\":\"8eaf5257-c572-465a-aa49-c3aab2443ea4\"}}];\n    root.Bokeh.embed.embed_items_notebook(docs_json, render_items);\n  }\n  if (root.Bokeh !== undefined && root.Bokeh.Panel !== undefined) {\n    embed_document(root);\n  } else {\n    var attempts = 0;\n    var timer = setInterval(function(root) {\n      if (root.Bokeh !== undefined && root.Bokeh.Panel !== undefined) {\n        clearInterval(timer);\n        embed_document(root);\n      } else if (document.readyState == \"complete\") {\n        attempts++;\n        if (attempts > 100) {\n          clearInterval(timer);\n          console.log(\"Bokeh: ERROR: Unable to run BokehJS code because BokehJS library is missing\");\n        }\n      }\n    }, 10, root)\n  }\n})(window);</script>",
      "application/vnd.holoviews_exec.v0+json": "",
      "text/plain": [
       ":Table   [CoinName,Algorithm,ProofType,TotalCoinSupply,TotalCoinsMined,Class]"
      ]
     },
     "metadata": {
      "application/vnd.holoviews_exec.v0+json": {
       "id": "2638"
      }
     },
     "execution_count": 208
    }
   ],
   "source": [
    "# Create a table with tradable cryptocurrencies.\n",
    "clustered_df.hvplot.table(columns=[\"CoinName\", \"Algorithm\", \"ProofType\", \"TotalCoinSupply\", \"TotalCoinsMined\", \"Class\"],sortable=True)"
   ]
  },
  {
   "cell_type": "code",
   "execution_count": 209,
   "metadata": {},
   "outputs": [
    {
     "output_type": "stream",
     "name": "stdout",
     "text": [
      "Total number of tradable cryptocurrencies:  532\n"
     ]
    }
   ],
   "source": [
    "# Print the total number of tradable cryptocurrencies.\n",
    "print(\"Total number of tradable cryptocurrencies: \", clustered_df[\"CoinName\"].size)"
   ]
  },
  {
   "cell_type": "code",
   "execution_count": 210,
   "metadata": {},
   "outputs": [
    {
     "output_type": "execute_result",
     "data": {
      "text/plain": [
       "array([[4.20000000e-11, 0.00000000e+00],\n",
       "       [5.32000000e-04, 1.06585544e-03],\n",
       "       [3.14159265e-01, 2.95755135e-02],\n",
       "       ...,\n",
       "       [1.40022261e-03, 9.90135079e-04],\n",
       "       [2.10000000e-05, 7.37028150e-06],\n",
       "       [1.00000000e-06, 1.29582282e-07]])"
      ]
     },
     "metadata": {},
     "execution_count": 210
    }
   ],
   "source": [
    "# Scaling data to create the scatter plot with tradable cryptocurrencies.\n",
    "min_max_scaler = MinMaxScaler()\n",
    "to_scale_df = clustered_df[[\"TotalCoinSupply\", \"TotalCoinsMined\"]]\n",
    "scaled_df = min_max_scaler.fit_transform(to_scale_df)\n",
    "scaled_df"
   ]
  },
  {
   "cell_type": "code",
   "execution_count": 212,
   "metadata": {},
   "outputs": [
    {
     "output_type": "execute_result",
     "data": {
      "text/plain": [
       "      TotalCoinSupply  TotalCoinsMined   CoinName  Class\n",
       "42       4.200000e-11         0.000000    42 Coin      0\n",
       "404      5.320000e-04         0.001066    404Coin      0\n",
       "1337     3.141593e-01         0.029576  EliteCoin      0\n",
       "BTC      2.100000e-05         0.000018    Bitcoin      0\n",
       "ETH      0.000000e+00         0.000109   Ethereum      0"
      ],
      "text/html": "<div>\n<style scoped>\n    .dataframe tbody tr th:only-of-type {\n        vertical-align: middle;\n    }\n\n    .dataframe tbody tr th {\n        vertical-align: top;\n    }\n\n    .dataframe thead th {\n        text-align: right;\n    }\n</style>\n<table border=\"1\" class=\"dataframe\">\n  <thead>\n    <tr style=\"text-align: right;\">\n      <th></th>\n      <th>TotalCoinSupply</th>\n      <th>TotalCoinsMined</th>\n      <th>CoinName</th>\n      <th>Class</th>\n    </tr>\n  </thead>\n  <tbody>\n    <tr>\n      <th>42</th>\n      <td>4.200000e-11</td>\n      <td>0.000000</td>\n      <td>42 Coin</td>\n      <td>0</td>\n    </tr>\n    <tr>\n      <th>404</th>\n      <td>5.320000e-04</td>\n      <td>0.001066</td>\n      <td>404Coin</td>\n      <td>0</td>\n    </tr>\n    <tr>\n      <th>1337</th>\n      <td>3.141593e-01</td>\n      <td>0.029576</td>\n      <td>EliteCoin</td>\n      <td>0</td>\n    </tr>\n    <tr>\n      <th>BTC</th>\n      <td>2.100000e-05</td>\n      <td>0.000018</td>\n      <td>Bitcoin</td>\n      <td>0</td>\n    </tr>\n    <tr>\n      <th>ETH</th>\n      <td>0.000000e+00</td>\n      <td>0.000109</td>\n      <td>Ethereum</td>\n      <td>0</td>\n    </tr>\n  </tbody>\n</table>\n</div>"
     },
     "metadata": {},
     "execution_count": 212
    }
   ],
   "source": [
    "# Create a new DataFrame that has the scaled data with the clustered_df DataFrame index.\n",
    "plot_df = pd.DataFrame(scaled_df, columns=[\"TotalCoinSupply\", \"TotalCoinsMined\"], index=crypto_df.index)\n",
    "\n",
    "# Add the \"CoinName\" column from the clustered_df DataFrame to the new DataFrame.\n",
    "plot_df[\"CoinName\"] = clustered_df[\"CoinName\"]\n",
    "\n",
    "# Add the \"Class\" column from the clustered_df DataFrame to the new DataFrame. \n",
    "plot_df[\"Class\"] = clustered_df[\"Class\"]\n",
    "\n",
    "plot_df.head()"
   ]
  },
  {
   "cell_type": "code",
   "execution_count": 214,
   "metadata": {},
   "outputs": [
    {
     "output_type": "display_data",
     "data": {},
     "metadata": {}
    },
    {
     "output_type": "execute_result",
     "data": {
      "text/html": "<div id='3011'>\n\n\n\n\n\n  <div class=\"bk-root\" id=\"867aa1a3-caab-4374-9bdf-64aaf69f16bb\" data-root-id=\"3011\"></div>\n</div>\n<script type=\"application/javascript\">(function(root) {\n  function embed_document(root) {\n    var docs_json = {\"4acd267a-a1c9-491a-a0b0-f8c0cf693448\":{\"roots\":{\"references\":[{\"attributes\":{\"active_drag\":\"auto\",\"active_inspect\":\"auto\",\"active_multi\":null,\"active_scroll\":\"auto\",\"active_tap\":\"auto\",\"tools\":[{\"id\":\"3015\"},{\"id\":\"3036\"},{\"id\":\"3037\"},{\"id\":\"3038\"},{\"id\":\"3039\"},{\"id\":\"3040\"}]},\"id\":\"3042\",\"type\":\"Toolbar\"},{\"attributes\":{\"source\":{\"id\":\"3071\"}},\"id\":\"3078\",\"type\":\"CDSView\"},{\"attributes\":{\"axis\":{\"id\":\"3032\"},\"dimension\":1,\"grid_line_color\":null,\"ticker\":null},\"id\":\"3035\",\"type\":\"Grid\"},{\"attributes\":{\"label\":{\"value\":\"0\"},\"renderers\":[{\"id\":\"3059\"}]},\"id\":\"3070\",\"type\":\"LegendItem\"},{\"attributes\":{\"label\":{\"value\":\"1\"},\"renderers\":[{\"id\":\"3077\"}]},\"id\":\"3089\",\"type\":\"LegendItem\"},{\"attributes\":{\"fill_alpha\":{\"value\":0.2},\"fill_color\":{\"value\":\"#fc4f30\"},\"line_alpha\":{\"value\":0.2},\"line_color\":{\"value\":\"#fc4f30\"},\"size\":{\"units\":\"screen\",\"value\":5.477225575051661},\"x\":{\"field\":\"TotalCoinsMined\"},\"y\":{\"field\":\"TotalCoinSupply\"}},\"id\":\"3076\",\"type\":\"Scatter\"},{\"attributes\":{},\"id\":\"3033\",\"type\":\"BasicTicker\"},{\"attributes\":{\"data_source\":{\"id\":\"3090\"},\"glyph\":{\"id\":\"3093\"},\"hover_glyph\":null,\"muted_glyph\":{\"id\":\"3095\"},\"nonselection_glyph\":{\"id\":\"3094\"},\"selection_glyph\":null,\"view\":{\"id\":\"3097\"}},\"id\":\"3096\",\"type\":\"GlyphRenderer\"},{\"attributes\":{\"source\":{\"id\":\"3053\"}},\"id\":\"3060\",\"type\":\"CDSView\"},{\"attributes\":{\"data\":{\"Class\":[3,3,3,3,3,3,3,3,3,3,3,3,3,3,3,3,3,3,3,3,3,3,3,3,3,3,3,3,3,3,3,3,3,3,3,3,3,3,3,3,3,3,3,3,3,3,3,3,3,3,3,3,3,3,3,3,3,3,3,3,3,3,3,3,3,3,3,3,3,3,3,3,3,3,3,3,3,3,3,3,3,3,3,3,3,3,3,3,3,3,3,3,3,3,3,3,3,3,3,3,3,3,3,3,3,3,3,3,3,3,3,3,3,3,3,3,3,3,3,3,3,3,3,3,3,3,3,3,3,3],\"CoinName\":[\"Dash\",\"Bitshares\",\"PayCoin\",\"Spreadcoin\",\"CryptCoin\",\"Exclusive Coin\",\"HyperStake\",\"IOCoin\",\"SuperCoin\",\"SyncCoin\",\"TeslaCoin\",\"TittieCoin\",\"TorCoin\",\"UroCoin\",\"X11 Coin\",\"Crypti\",\"StorjCoin\",\"Ucoin\",\"IslaCoin\",\"MarsCoin \",\"BowsCoin\",\"Squall Coin\",\"MindCoin\",\"Hitcoin\",\"Adzcoin\",\"EuropeCoin\",\"Nebuchadnezzar\",\"BolivarCoin\",\"Ratecoin\",\"BitSend\",\"Let it Ride\",\"MudraCoin\",\"PizzaCoin\",\"Lutetium Coin\",\"GoldBlocks\",\"MustangCoin\",\"Opair\",\"Halloween Coin\",\"CoffeeCoin\",\"RoyalCoin\",\"TeamUP\",\"InsaneCoin\",\"ArtexCoin\",\"XenixCoin\",\"FreeCoin\",\"Kurrent\",\"Creatio\",\"Eternity\",\"Stakenet\",\"Enigma\",\"Allsafe\",\"KushCoin\",\"PacCoin\",\"FindCoin\",\"VaultCoin\",\"VirtacoinPlus\",\"Impact\",\"Atmos\",\"HappyCoin\",\"MacronCoin\",\"Condensate\",\"ProCurrency\",\"GoldReserve\",\"Phreak\",\"Ultimate Secure Cash\",\"QTUM\",\"DigitalPrice\",\"ArcticCoin\",\"DAS\",\"Signatum\",\"Onix\",\"Monoeci\",\"Stakecoin\",\"Obsidian\",\"Cardano\",\"Regalcoin\",\"Elements\",\"Rupee\",\"KekCoin\",\"Infinity Economics\",\"Pura\",\"Magnet\",\"Bulwark\",\"Kalkulus\",\"AC3\",\"PhantomX\",\"Sucre\",\"Digiwage\",\"Monkey Project\",\"Pioneer Coin\",\"TokenPay\",\"1717 Masonic Commemorative Token\",\"Tokyo Coin\",\"Crypto Improvement Fund\",\"Pushi\",\"Ontology\",\"Bitcoin Green\",\"Deviant Coin\",\"FuturoCoin\",\"Zealium\",\"Proton\",\"Dekado\",\"Poseidon Quark\",\"BitcoinWSpectrum\",\"Muse\",\"Axe\",\"Dystem\",\"Vitae\",\"ARENON\",\"EUNO\",\"Ketan\",\"PAXEX\",\"Azart\",\"Bettex coin\",\"Junson Ming Chan Coin\",\"PirateCash\",\"Crypto Sports\",\"Dash Platinum\",\"Award\",\"Insane Coin\",\"TruckCoin\",\"NeosCoin\",\"PinkCoin\",\"Piggy Coin\",\"CapriCoin\",\"Radium\",\"Creditbit \",\"TigerCash\",\"Particl\",\"Nxt\"],\"TotalCoinSupply\":{\"__ndarray__\":\"oib6fJQR9z7McLKR8X5tPyxDHOviNuo+8GjjiLX49D4/q8yU1t/yPgAAAAAAAAAAAAAAAAAAAACiJvp8lBH3PgAAAAAAAAAAldYm6AsuET4sQxzr4jYaP0hQ/Bhz12I/8GjjiLX45D4AAAAAAAAAAKIm+nyUEdc+AAAAAAAAAAD8qfHSTWJAP/Bo44i1+PQ+AAAAAAAAAAD6nLtdL00BP8nH7gIlBfY+AAAAAAAAAACN7bWg98bwPqvP1VbsL5s/ycfuAiUFFj9U5BBxcyo5P/Bo44i1+PQ+LEMc6+I2+j5hMlUwKqkTP/ePhegQOCI/sHQ+PEuQAT8sQxzr4jYqPyxDHOviNvo+VHO5wVCHRT8sQxzr4jYKP1TkEHFzKsk+q1rSUQ5mEz/6fmq8dJNYPzTUrwey+AQ/gj1WtPn4xD5P6PUn8bkzP2kdVU0Qdf8+/Knx0k1iQD8RdDVmeinQPixDHOviNgo/Iw9EFmniLT/waOOItfj0PmkdVU0QdQ8/83UZ/tMNFD/waOOItfjUPmkdVU0Qde8+5diE+OOd4z6ZmZmZmZm5P/MyGmP4de4+/Knx0k1iUD8sQxzr4jYaP0uwOJz51Rw/kqumSXDpHD8sQxzr4jYaPyxDHOviNjo//Knx0k1iQD8zMzMzMzOzP/Bo44i1+AQ/aR1VTRB1/z4pV94wtjkqPyxDHOviNho/LEMc6+I2Gj9pHVVNEHUPP2hNPRxu0fM+L26jAbwFIj8vbqMBvAVSPxbSaWAt8OM+RwInV+clED952BsjAvUXPwrXo3A9Cqc/3gAz38FP/D6Sy39Iv31dP1TkEHFzKvk+ycfuAiUF9j4730+Nl26CP8e6uI0G8DY/P6vMlNbfIj9twQ9V/Q/9PvBo44i1+PQ+L26jAbwFQj8sQxzr4jYKP5LvraMFw/Q+aR1VTRB1Hz/Jx+4CJQX2PnuFBfcDHvg+LEMc6+I2+j59+P0YZiW7PixDHOviNko//Knx0k1iQD8sQxzr4jb6Pvyp8dJNYlA/ycfuAiUF9j6iJvp8lBEXPyxDHOviNho/8GjjiLX4FD8O1v85zJcHPw7W/znMlxc/lPYGX5hMRT8JVuWQe0gaPx3JKz/M9fI+ycfuAiUF9j7Jx+4CJQX2PixDHOviNho/S7A4nPnVDD8sQxzr4jYKP7x5qkNuhis/LEMc6+I2Gj8sQxzr4jb6PixDHOviNgo/AAAAAAAAAAC8eapDboYbPxbj0872Cew+4zITsS2o9D68eapDboY7P2kdVU0Qdf8+AAAAAAAAAADJx+4CJQX2Pvyp8dJNYkA//Knx0k1iUD8FoidlUkMrPz+rzJTW3+I+cMysIFlO8T78qfHSTWJQP1NUbSprG+I+/Knx0k1iUD8=\",\"dtype\":\"float64\",\"order\":\"little\",\"shape\":[130]},\"TotalCoinsMined\":{\"__ndarray__\":\"fb2YAaYh4z6ruJV6oa9mP1uz5TcMaek+6ehqdHqe5z4X972eryvVPsnvirEpENg+Ypyz9GrHWz/8kyPDCLLyPvA4gZuv2go/XaMQNUOyEz5DkuhWp0AVP3S/jV9X2Vo/lQUMs8JDuD4Gfp+fnHW0PhuOVInTct0++0V+YL96Gj+Tp6kxyxkLP0rkrkGmysY+P3KSIt+muT5RI4lAbxABP3LL2el3zfA+9tXcrxNQlj4Jlvatg87wPrjDVOmJv4Y/qfDDrNPjBz89FIII1wvmPpEAUiv9LvU+8H9TLJbs7D7ujyYFktAhP9J6jnO41Pk+ObDN1M5vBD/CsEps9C7VPlm2qvTFWbc+VL1QZQy/RT+mpHEOInzwPvRYj6HQSaY+QFxHa5CaEz/lp0XpeIUxP/40hsiRsCM/Wt3Yni0vxT7QJpJKht/yPtm3WoWkbfM+Wj1e0RxGSz86BVneRVPQPqlU6KW+ego/O4JDwcM/ED+RAFIr/S71PhY3lkTqttk+LfjqYBQEFD9bwhuTX5yrPoFhuAbER+Y+EsKnts/51z6OM6x+FcZBP6CFXv7NxO4+qw/XnoMXAD9hiNzwIuLrPjWSA+NaSx0/RxRsP55tHT8TzIbUfsv2PvWgsIfWkjo/vX+hfbIbID8HdZcEvp8aP4T+AFYCMPI+VpNYq+Ug6D4A2wc5DOnlPvtFfmC/eho/5uK8DPabAj/48NdKYJX7PtQZrzp5OcY+TKbRkzOXHD9LwcxRKDcgPwHyCelJoOo+mO9bzlry0D4HcrwwvXr6Pnv8+2Vb0Zo/wuYrlcHE3j57DB+ynl1mP7zBQMmWa/k+xDTgUPke6j5IMTwRT56CPzzEkLG4Mic/fiLM5MQ6BD9qpYs67A/sPsiJT2eL9fE+YzWXr25EFT9+HCsffewHPygNh6XF6tE+cvaEG0zq/D7hpgdtD6zSPmUO7kqn9eE+vNzKYeKn9T5uceIZfmu7Pu7nRXixfS4/Z3XZGKv5Kz+75foWXF7CPhibEdXsikU/2g6h9YTE5D7nUt5T0yv3PjbwhEh61wA/om+TfxZ25z7Dc6nzUKjSPnIyP0TGCQA/K8r/+wcExz42SXejuJ0OP8CrILqLRfM+z17SV2Un1T416e99hAHePoehaumffRE/Vm0Mo+po9D6Kjxo7yksAP8RoNbwUwuM+i5sRq68V0z7bWtoBLkDVPo+k9xWTwdw+qyDjxRnNkT+YRvIV+IvsPgfZcP2pZMA+4tbNEUVBqD4owWx6L1XwPguSjTTXLvk+zCNKYd8OMD9/YchLzJvSPiQYZ3/U4jw/icG10+pbQD9jAAG9/agqP0v2HFN6MNA+w+lGFrPm8T56Q0MFuIxQP7NFSRg5quM+ekNDBbiMUD8=\",\"dtype\":\"float64\",\"order\":\"little\",\"shape\":[130]}},\"selected\":{\"id\":\"3112\"},\"selection_policy\":{\"id\":\"3131\"}},\"id\":\"3111\",\"type\":\"ColumnDataSource\"},{\"attributes\":{},\"id\":\"3131\",\"type\":\"UnionRenderers\"},{\"attributes\":{\"fill_alpha\":{\"value\":0.2},\"fill_color\":{\"value\":\"#6d904f\"},\"line_alpha\":{\"value\":0.2},\"line_color\":{\"value\":\"#6d904f\"},\"size\":{\"units\":\"screen\",\"value\":5.477225575051661},\"x\":{\"field\":\"TotalCoinsMined\"},\"y\":{\"field\":\"TotalCoinSupply\"}},\"id\":\"3116\",\"type\":\"Scatter\"},{\"attributes\":{\"bottom_units\":\"screen\",\"fill_alpha\":0.5,\"fill_color\":\"lightgrey\",\"left_units\":\"screen\",\"level\":\"overlay\",\"line_alpha\":1.0,\"line_color\":\"black\",\"line_dash\":[4,4],\"line_width\":2,\"right_units\":\"screen\",\"top_units\":\"screen\"},\"id\":\"3041\",\"type\":\"BoxAnnotation\"},{\"attributes\":{\"fill_color\":{\"value\":\"#30a2da\"},\"line_color\":{\"value\":\"#30a2da\"},\"size\":{\"units\":\"screen\",\"value\":5.477225575051661},\"x\":{\"field\":\"TotalCoinsMined\"},\"y\":{\"field\":\"TotalCoinSupply\"}},\"id\":\"3056\",\"type\":\"Scatter\"},{\"attributes\":{\"fill_alpha\":{\"value\":0.2},\"fill_color\":{\"value\":\"#e5ae38\"},\"line_alpha\":{\"value\":0.2},\"line_color\":{\"value\":\"#e5ae38\"},\"size\":{\"units\":\"screen\",\"value\":5.477225575051661},\"x\":{\"field\":\"TotalCoinsMined\"},\"y\":{\"field\":\"TotalCoinSupply\"}},\"id\":\"3095\",\"type\":\"Scatter\"},{\"attributes\":{\"source\":{\"id\":\"3111\"}},\"id\":\"3118\",\"type\":\"CDSView\"},{\"attributes\":{},\"id\":\"3024\",\"type\":\"LinearScale\"},{\"attributes\":{\"data\":{\"Class\":[2],\"CoinName\":[\"BiblePay\"],\"TotalCoinSupply\":{\"__ndarray__\":\"lPYGX5hMdT8=\",\"dtype\":\"float64\",\"order\":\"little\",\"shape\":[1]},\"TotalCoinsMined\":{\"__ndarray__\":\"j1gNkdpTXT8=\",\"dtype\":\"float64\",\"order\":\"little\",\"shape\":[1]}},\"selected\":{\"id\":\"3091\"},\"selection_policy\":{\"id\":\"3108\"}},\"id\":\"3090\",\"type\":\"ColumnDataSource\"},{\"attributes\":{\"label\":{\"value\":\"2\"},\"renderers\":[{\"id\":\"3096\"}]},\"id\":\"3110\",\"type\":\"LegendItem\"},{\"attributes\":{},\"id\":\"3091\",\"type\":\"Selection\"},{\"attributes\":{\"callback\":null,\"renderers\":[{\"id\":\"3059\"},{\"id\":\"3077\"},{\"id\":\"3096\"},{\"id\":\"3117\"}],\"tags\":[\"hv_created\"],\"tooltips\":[[\"Class\",\"@{Class}\"],[\"TotalCoinsMined\",\"@{TotalCoinsMined}\"],[\"TotalCoinSupply\",\"@{TotalCoinSupply}\"],[\"CoinName\",\"@{CoinName}\"]]},\"id\":\"3015\",\"type\":\"HoverTool\"},{\"attributes\":{},\"id\":\"3036\",\"type\":\"SaveTool\"},{\"attributes\":{},\"id\":\"3108\",\"type\":\"UnionRenderers\"},{\"attributes\":{\"data_source\":{\"id\":\"3111\"},\"glyph\":{\"id\":\"3114\"},\"hover_glyph\":null,\"muted_glyph\":{\"id\":\"3116\"},\"nonselection_glyph\":{\"id\":\"3115\"},\"selection_glyph\":null,\"view\":{\"id\":\"3118\"}},\"id\":\"3117\",\"type\":\"GlyphRenderer\"},{\"attributes\":{},\"id\":\"3037\",\"type\":\"PanTool\"},{\"attributes\":{\"margin\":[5,5,5,5],\"name\":\"HSpacer05432\",\"sizing_mode\":\"stretch_width\"},\"id\":\"3260\",\"type\":\"Spacer\"},{\"attributes\":{},\"id\":\"3040\",\"type\":\"ResetTool\"},{\"attributes\":{},\"id\":\"3038\",\"type\":\"WheelZoomTool\"},{\"attributes\":{\"children\":[{\"id\":\"3012\"},{\"id\":\"3019\"},{\"id\":\"3260\"}],\"margin\":[0,0,0,0],\"name\":\"Row05427\",\"tags\":[\"embedded\"]},\"id\":\"3011\",\"type\":\"Row\"},{\"attributes\":{\"text\":\"\",\"text_color\":{\"value\":\"black\"},\"text_font_size\":{\"value\":\"12pt\"}},\"id\":\"3020\",\"type\":\"Title\"},{\"attributes\":{\"fill_alpha\":{\"value\":0.1},\"fill_color\":{\"value\":\"#30a2da\"},\"line_alpha\":{\"value\":0.1},\"line_color\":{\"value\":\"#30a2da\"},\"size\":{\"units\":\"screen\",\"value\":5.477225575051661},\"x\":{\"field\":\"TotalCoinsMined\"},\"y\":{\"field\":\"TotalCoinSupply\"}},\"id\":\"3057\",\"type\":\"Scatter\"},{\"attributes\":{\"overlay\":{\"id\":\"3041\"}},\"id\":\"3039\",\"type\":\"BoxZoomTool\"},{\"attributes\":{},\"id\":\"3054\",\"type\":\"Selection\"},{\"attributes\":{\"data_source\":{\"id\":\"3071\"},\"glyph\":{\"id\":\"3074\"},\"hover_glyph\":null,\"muted_glyph\":{\"id\":\"3076\"},\"nonselection_glyph\":{\"id\":\"3075\"},\"selection_glyph\":null,\"view\":{\"id\":\"3078\"}},\"id\":\"3077\",\"type\":\"GlyphRenderer\"},{\"attributes\":{\"end\":1.042857142857143,\"reset_end\":1.042857142857143,\"reset_start\":-0.04285714285714286,\"start\":-0.04285714285714286,\"tags\":[[[\"TotalCoinsMined\",\"TotalCoinsMined\",null]]]},\"id\":\"3013\",\"type\":\"Range1d\"},{\"attributes\":{\"fill_alpha\":{\"value\":0.1},\"fill_color\":{\"value\":\"#6d904f\"},\"line_alpha\":{\"value\":0.1},\"line_color\":{\"value\":\"#6d904f\"},\"size\":{\"units\":\"screen\",\"value\":5.477225575051661},\"x\":{\"field\":\"TotalCoinsMined\"},\"y\":{\"field\":\"TotalCoinSupply\"}},\"id\":\"3115\",\"type\":\"Scatter\"},{\"attributes\":{\"end\":1.1,\"reset_end\":1.1,\"reset_start\":-0.1,\"start\":-0.1,\"tags\":[[[\"TotalCoinSupply\",\"TotalCoinSupply\",null]]]},\"id\":\"3014\",\"type\":\"Range1d\"},{\"attributes\":{\"fill_alpha\":{\"value\":0.2},\"fill_color\":{\"value\":\"#30a2da\"},\"line_alpha\":{\"value\":0.2},\"line_color\":{\"value\":\"#30a2da\"},\"size\":{\"units\":\"screen\",\"value\":5.477225575051661},\"x\":{\"field\":\"TotalCoinsMined\"},\"y\":{\"field\":\"TotalCoinSupply\"}},\"id\":\"3058\",\"type\":\"Scatter\"},{\"attributes\":{},\"id\":\"3051\",\"type\":\"BasicTickFormatter\"},{\"attributes\":{},\"id\":\"3112\",\"type\":\"Selection\"},{\"attributes\":{\"click_policy\":\"mute\",\"items\":[{\"id\":\"3070\"},{\"id\":\"3089\"},{\"id\":\"3110\"},{\"id\":\"3133\"}],\"location\":[0,0],\"title\":\"Class\"},\"id\":\"3069\",\"type\":\"Legend\"},{\"attributes\":{\"axis_label\":\"TotalCoinsMined\",\"bounds\":\"auto\",\"formatter\":{\"id\":\"3049\"},\"major_label_orientation\":\"horizontal\",\"ticker\":{\"id\":\"3029\"}},\"id\":\"3028\",\"type\":\"LinearAxis\"},{\"attributes\":{\"margin\":[5,5,5,5],\"name\":\"HSpacer05431\",\"sizing_mode\":\"stretch_width\"},\"id\":\"3012\",\"type\":\"Spacer\"},{\"attributes\":{},\"id\":\"3049\",\"type\":\"BasicTickFormatter\"},{\"attributes\":{},\"id\":\"3067\",\"type\":\"UnionRenderers\"},{\"attributes\":{\"below\":[{\"id\":\"3028\"}],\"center\":[{\"id\":\"3031\"},{\"id\":\"3035\"}],\"left\":[{\"id\":\"3032\"}],\"margin\":[5,5,5,5],\"min_border_bottom\":10,\"min_border_left\":10,\"min_border_right\":10,\"min_border_top\":10,\"plot_height\":300,\"plot_width\":700,\"renderers\":[{\"id\":\"3059\"},{\"id\":\"3077\"},{\"id\":\"3096\"},{\"id\":\"3117\"}],\"right\":[{\"id\":\"3069\"}],\"sizing_mode\":\"fixed\",\"title\":{\"id\":\"3020\"},\"toolbar\":{\"id\":\"3042\"},\"x_range\":{\"id\":\"3013\"},\"x_scale\":{\"id\":\"3024\"},\"y_range\":{\"id\":\"3014\"},\"y_scale\":{\"id\":\"3026\"}},\"id\":\"3019\",\"subtype\":\"Figure\",\"type\":\"Plot\"},{\"attributes\":{\"data_source\":{\"id\":\"3053\"},\"glyph\":{\"id\":\"3056\"},\"hover_glyph\":null,\"muted_glyph\":{\"id\":\"3058\"},\"nonselection_glyph\":{\"id\":\"3057\"},\"selection_glyph\":null,\"view\":{\"id\":\"3060\"}},\"id\":\"3059\",\"type\":\"GlyphRenderer\"},{\"attributes\":{},\"id\":\"3026\",\"type\":\"LinearScale\"},{\"attributes\":{\"source\":{\"id\":\"3090\"}},\"id\":\"3097\",\"type\":\"CDSView\"},{\"attributes\":{},\"id\":\"3087\",\"type\":\"UnionRenderers\"},{\"attributes\":{},\"id\":\"3029\",\"type\":\"BasicTicker\"},{\"attributes\":{\"axis_label\":\"TotalCoinSupply\",\"bounds\":\"auto\",\"formatter\":{\"id\":\"3051\"},\"major_label_orientation\":\"horizontal\",\"ticker\":{\"id\":\"3033\"}},\"id\":\"3032\",\"type\":\"LinearAxis\"},{\"attributes\":{\"data\":{\"Class\":[0,0,0,0,0,0,0,0,0,0,0,0,0,0,0,0,0,0,0,0,0,0,0,0,0,0,0,0,0,0,0,0,0,0,0,0,0,0,0,0,0,0,0,0,0,0,0,0,0,0,0,0,0,0,0,0,0,0,0,0,0,0,0,0,0,0,0,0,0,0,0,0,0,0,0,0,0,0,0,0,0,0,0,0,0,0,0,0,0,0,0,0,0,0,0,0,0,0,0,0,0,0,0,0,0,0,0,0,0,0,0,0,0,0,0,0,0,0,0,0,0,0,0,0,0,0,0,0,0,0,0,0,0,0,0,0,0,0,0,0,0,0,0,0,0,0,0,0,0,0,0,0,0,0,0,0,0,0,0,0,0,0,0,0,0,0,0,0,0,0,0,0,0,0,0,0,0,0,0,0,0,0,0,0,0,0,0,0,0,0,0,0,0,0,0,0,0,0,0,0,0,0,0,0,0,0,0,0,0,0,0,0,0,0,0,0,0,0,0,0,0,0,0,0,0,0,0,0,0,0,0,0,0,0,0,0,0,0,0,0,0,0,0,0,0,0,0,0,0,0,0,0,0,0,0,0,0,0,0,0,0,0,0,0,0,0,0,0,0,0,0,0,0,0,0,0,0,0,0,0,0,0,0,0,0,0,0,0,0,0,0,0,0,0,0,0,0,0,0,0,0,0,0,0,0,0,0,0,0,0,0,0,0,0,0,0,0,0,0,0,0,0,0,0,0,0,0,0,0,0,0,0,0,0,0,0,0,0,0,0,0,0,0,0,0,0,0,0,0,0,0,0,0,0,0,0,0,0,0,0,0,0,0,0,0,0,0,0,0,0,0,0,0,0,0,0,0,0,0,0,0,0,0,0,0,0,0,0,0,0,0,0,0,0,0,0,0,0,0,0],\"CoinName\":[\"42 Coin\",\"404Coin\",\"EliteCoin\",\"Bitcoin\",\"Ethereum\",\"Litecoin\",\"Monero\",\"Ethereum Classic\",\"ZCash\",\"DigiByte\",\"BitcoinDark\",\"ProsperCoin\",\"KoboCoin\",\"Argentum\",\"Aurora Coin\",\"BlueCoin\",\"MyriadCoin\",\"MoonCoin\",\"ZetaCoin\",\"SexCoin\",\"Quatloo\",\"EnergyCoin\",\"QuarkCoin\",\"Riecoin\",\"Digitalcoin \",\"BitBar\",\"Catcoin\",\"CryptoBullion\",\"CannaCoin\",\"CasinoCoin\",\"Diamond\",\"Verge\",\"DevCoin\",\"EarthCoin\",\"E-Gulden\",\"Einsteinium\",\"Emerald\",\"FlutterCoin\",\"Franko\",\"FeatherCoin\",\"GrandCoin\",\"GlobalCoin\",\"GoldCoin\",\"HoboNickels\",\"Infinite Coin\",\"IXcoin\",\"KrugerCoin\",\"LuckyCoin\",\"Litebar \",\"MaxCoin\",\"MegaCoin\",\"MediterraneanCoin\",\"MintCoin\",\"MinCoin\",\"MazaCoin\",\"Nautilus Coin\",\"NavCoin\",\"NobleCoin\",\"Namecoin\",\"NyanCoin\",\"OpalCoin\",\"Orbitcoin\",\"PotCoin\",\"PhoenixCoin\",\"Reddcoin\",\"RonPaulCoin\",\"StableCoin\",\"SmartCoin\",\"SysCoin\",\"TigerCoin\",\"TerraCoin\",\"UnbreakableCoin\",\"Unobtanium\",\"UnitaryStatus Dollar\",\"UltraCoin\",\"ViaCoin\",\"VeriCoin\",\"Vertcoin\",\"WorldCoin\",\"JouleCoin\",\"StealthCoin\",\"ZCC Coin\",\"ByteCoin\",\"DigitalNote \",\"BurstCoin\",\"MonaCoin\",\"Neutron\",\"FairCoin\",\"Gulden\",\"RubyCoin\",\"PesetaCoin\",\"Kore\",\"Wild Beast Coin\",\"Dnotes\",\"Flo\",\"8BIT Coin\",\"Sativa Coin\",\"ArtByte\",\"Folding Coin\",\"Unitus\",\"CypherPunkCoin\",\"OmniCron\",\"Vtorrent\",\"GreenCoin\",\"Cryptonite\",\"MasterCoin\",\"SoonCoin\",\"1Credit\",\"Nexus\",\"Crypto\",\"Anarchists Prime\",\"Droidz\",\"Song Coin\",\"BitZeny\",\"Diggits\",\"Expanse\",\"Paycon\",\"Siacoin\",\"Emercoin\",\"EverGreenCoin\",\"I0coin\",\"Decred\",\"Revolution VR\",\"HOdlcoin\",\"EDRCoin\",\"Gamecredits\",\"DubaiCoin\",\"CarpeDiemCoin\",\"PWR Coin\",\"BillaryCoin\",\"GPU Coin\",\"SoilCoin\",\"YoCoin\",\"SibCoin\",\"ZeitCoin\",\"SwingCoin\",\"SafeExchangeCoin\",\"Francs\",\"Revenu\",\"Clockcoin\",\"VIP Tokens\",\"Omni\",\"PutinCoin\",\"iBankCoin\",\"Frankywillcoin\",\"Komodo\",\"CarterCoin\",\"Karbo\",\"BitTokens\",\"ZayedCoin\",\"ZoneCoin\",\"Circuits of Value\",\"RootCoin\",\"DopeCoin\",\"BitCurrency\",\"DollarCoin\",\"Swiscoin\",\"Shilling\",\"BuzzCoin\",\"PesoBit\",\"ZCoin\",\"GanjaCoin V2\",\"LanaCoin\",\"Elementrem\",\"ZClassic\",\"ARK\",\"KiloCoin\",\"EmberCoin\",\"PLNCoin\",\"AquariusCoin\",\"Eurocoin\",\"BitcoinFast\",\"BitConnect Coin\",\"MoneyCoin\",\"Cannabis Industry Coin\",\"Russiacoin\",\"PandaCoin\",\"GameUnits\",\"GAKHcoin\",\"LiteCreed\",\"OsmiumCoin\",\"Bikercoins\",\"HexxCoin\",\"Klingon Empire Darsek\",\"Internet of People\",\"Printerium\",\"Impeach\",\"Citadel\",\"Zilbercoin\",\"FirstCoin\",\"BeaverCoin\",\"Zero\",\"OpenChat\",\"Canada eCoin\",\"Zoin\",\"RenosCoin\",\"DubaiCoin\",\"TajCoin\",\"EB3coin\",\"Coinonat\",\"Independent Money System\",\"ArgusCoin\",\"LomoCoin\",\"BenjiRolls\",\"GrowthCoin\",\"ILCoin\",\"Degas Coin\",\"HTML5 Coin\",\"EquiTrader\",\"Quantum Resistant Ledger\",\"Espers\",\"Dynamic\",\"Nano\",\"ChanCoin\",\"Dinastycoin\",\"Denarius\",\"Virta Unique Coin\",\"Bitcoin Planet\",\"Unify\",\"BritCoin\",\"SocialCoin\",\"Linda\",\"LeviarCoin\",\"DeepOnion\",\"Bitcore\",\"gCn Coin\",\"SmartCash\",\"Cream\",\"Bitcoin Cash\",\"Draftcoin\",\"Vechain\",\"Sojourn Coin\",\"NewYorkCoin\",\"FrazCoin\",\"Kronecoin\",\"AdCoin\",\"Linx\",\"CoinonatX\",\"Ethereum Dark\",\"Sumokoin\",\"BitcoinZ\",\"TrezarCoin\",\"TerraNovaCoin\",\"VIVO Coin\",\"Bitcoin Gold\",\"WomenCoin\",\"Theresa May Coin\",\"NamoCoin\",\"LUXCoin\",\"Pirl\",\"Xios\",\"Bitcloud 2.0\",\"eBoost\",\"BlackholeCoin\",\"Innova\",\"Ellaism\",\"GoByte\",\"Lamden Tau\",\"Electra\",\"Bitcoin Diamond\",\"SHIELD\",\"Cash & Back Coin\",\"UltraNote\",\"BitCoal\",\"DaxxCoin\",\"Lethean\",\"GermanCoin\",\"LiteCoin Ultra\",\"PopularCoin\",\"Photon\",\"SparksPay\",\"GunCoin\",\"IrishCoin\",\"Trollcoin\",\"Litecoin Plus\",\"UnitedBitcoin\",\"Interzone\",\"My Big Coin\",\"TurtleCoin\",\"MUNcoin\",\"Unified Society USDEX\",\"Niobio Cash\",\"ShareChain\",\"Travelflex\",\"KREDS\",\"LitecoinCash\",\"BitFlip\",\"LottoCoin\",\"Stipend\",\"Poa Network\",\"Ellerium\",\"Velox\",\"Callisto Network\",\"BitTube\",\"Poseidon\",\"Aidos Kuneen\",\"Bitspace\",\"Briacoin\",\"Ignition\",\"Bitrolium\",\"MedicCoin\",\"Alpenschillling\",\"Abjcoin\",\"Semux\",\"Carebit\",\"Monero Classic\",\"iDealCash\",\"Jumpcoin\",\"Infinex\",\"Bitcoin Incognito\",\"KEYCO\",\"HollyWoodCoin\",\"GINcoin\",\"PlatinCoin\",\"Loki\",\"Newton Coin\",\"Swisscoin\",\"Xt3ch\",\"MassGrid\",\"TheVig\",\"PluraCoin\",\"EmaratCoin\",\"Lynx\",\"Motion\",\"PlusOneCoin\",\"Trivechain\",\"Giant\",\"Peony Coin\",\"Absolute Coin\",\"HexCoin\",\"TPCash\",\"Webchain\",\"Ryo\",\"Urals Coin\",\"Qwertycoin\",\"MMOCoin\",\"Project Pai\",\"XDNA\",\"ThunderStake\",\"Kcash\",\"Xchange\",\"Acute Angle Cloud\",\"CrypticCoin\",\"Actinium\",\"Bitcoin SV\",\"BitMoney\",\"FREDEnergy\",\"HerbCoin\",\"Universal Molecule\",\"Lithium\",\"Exosis\",\"Block-Logic\",\"Oduwa\",\"Beam\",\"Galilel\",\"Bithereum\",\"Credit\",\"SLICE\",\"Nasdacoin\",\"Beetle Coin\",\"Titan Coin\",\"BLAST\",\"Bitcoin Rhodium\",\"GlobalToken\",\"ALAX\",\"LiteDoge\",\"SolarCoin\",\"UFO Coin\",\"OrangeCoin\",\"BlakeCoin\",\"BitstarCoin\",\"HyperCoin\",\"Crypto Escudo\",\"AudioCoin\",\"IncaKoin\",\"Crown Coin\",\"Genstake\",\"SmileyCoin\",\"XiaoMiCoin\",\"Groestlcoin\",\" ClubCoin\",\"Bata\",\"Pakcoin\",\"OKCash\",\"Lisk\",\"HiCoin\",\"WhiteCoin\",\"FriendshipCoin\",\"JoinCoin\",\"Triangles Coin\",\"Vollar\",\"EOS\",\"Reality Clash\",\"Oxycoin\",\"Waves\",\"ZEPHYR\",\"Gapcoin\",\"Beldex\",\"Horizen\",\"BitcoinPlus\"],\"TotalCoinSupply\":{\"__ndarray__\":\"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\",\"dtype\":\"float64\",\"order\":\"little\",\"shape\":[400]},\"TotalCoinsMined\":{\"__ndarray__\":\"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\",\"dtype\":\"float64\",\"order\":\"little\",\"shape\":[400]}},\"selected\":{\"id\":\"3054\"},\"selection_policy\":{\"id\":\"3067\"}},\"id\":\"3053\",\"type\":\"ColumnDataSource\"},{\"attributes\":{},\"id\":\"3072\",\"type\":\"Selection\"},{\"attributes\":{\"axis\":{\"id\":\"3028\"},\"grid_line_color\":null,\"ticker\":null},\"id\":\"3031\",\"type\":\"Grid\"},{\"attributes\":{\"fill_alpha\":{\"value\":0.1},\"fill_color\":{\"value\":\"#e5ae38\"},\"line_alpha\":{\"value\":0.1},\"line_color\":{\"value\":\"#e5ae38\"},\"size\":{\"units\":\"screen\",\"value\":5.477225575051661},\"x\":{\"field\":\"TotalCoinsMined\"},\"y\":{\"field\":\"TotalCoinSupply\"}},\"id\":\"3094\",\"type\":\"Scatter\"},{\"attributes\":{\"fill_color\":{\"value\":\"#e5ae38\"},\"line_color\":{\"value\":\"#e5ae38\"},\"size\":{\"units\":\"screen\",\"value\":5.477225575051661},\"x\":{\"field\":\"TotalCoinsMined\"},\"y\":{\"field\":\"TotalCoinSupply\"}},\"id\":\"3093\",\"type\":\"Scatter\"},{\"attributes\":{\"data\":{\"Class\":[1],\"CoinName\":[\"BitTorrent\"],\"TotalCoinSupply\":{\"__ndarray__\":\"rkfhehSu7z8=\",\"dtype\":\"float64\",\"order\":\"little\",\"shape\":[1]},\"TotalCoinsMined\":{\"__ndarray__\":\"AAAAAAAA8D8=\",\"dtype\":\"float64\",\"order\":\"little\",\"shape\":[1]}},\"selected\":{\"id\":\"3072\"},\"selection_policy\":{\"id\":\"3087\"}},\"id\":\"3071\",\"type\":\"ColumnDataSource\"},{\"attributes\":{\"fill_color\":{\"value\":\"#fc4f30\"},\"line_color\":{\"value\":\"#fc4f30\"},\"size\":{\"units\":\"screen\",\"value\":5.477225575051661},\"x\":{\"field\":\"TotalCoinsMined\"},\"y\":{\"field\":\"TotalCoinSupply\"}},\"id\":\"3074\",\"type\":\"Scatter\"},{\"attributes\":{\"label\":{\"value\":\"3\"},\"renderers\":[{\"id\":\"3117\"}]},\"id\":\"3133\",\"type\":\"LegendItem\"},{\"attributes\":{\"fill_color\":{\"value\":\"#6d904f\"},\"line_color\":{\"value\":\"#6d904f\"},\"size\":{\"units\":\"screen\",\"value\":5.477225575051661},\"x\":{\"field\":\"TotalCoinsMined\"},\"y\":{\"field\":\"TotalCoinSupply\"}},\"id\":\"3114\",\"type\":\"Scatter\"},{\"attributes\":{\"fill_alpha\":{\"value\":0.1},\"fill_color\":{\"value\":\"#fc4f30\"},\"line_alpha\":{\"value\":0.1},\"line_color\":{\"value\":\"#fc4f30\"},\"size\":{\"units\":\"screen\",\"value\":5.477225575051661},\"x\":{\"field\":\"TotalCoinsMined\"},\"y\":{\"field\":\"TotalCoinSupply\"}},\"id\":\"3075\",\"type\":\"Scatter\"}],\"root_ids\":[\"3011\"]},\"title\":\"Bokeh Application\",\"version\":\"2.2.3\"}};\n    var render_items = [{\"docid\":\"4acd267a-a1c9-491a-a0b0-f8c0cf693448\",\"root_ids\":[\"3011\"],\"roots\":{\"3011\":\"867aa1a3-caab-4374-9bdf-64aaf69f16bb\"}}];\n    root.Bokeh.embed.embed_items_notebook(docs_json, render_items);\n  }\n  if (root.Bokeh !== undefined && root.Bokeh.Panel !== undefined) {\n    embed_document(root);\n  } else {\n    var attempts = 0;\n    var timer = setInterval(function(root) {\n      if (root.Bokeh !== undefined && root.Bokeh.Panel !== undefined) {\n        clearInterval(timer);\n        embed_document(root);\n      } else if (document.readyState == \"complete\") {\n        attempts++;\n        if (attempts > 100) {\n          clearInterval(timer);\n          console.log(\"Bokeh: ERROR: Unable to run BokehJS code because BokehJS library is missing\");\n        }\n      }\n    }, 10, root)\n  }\n})(window);</script>",
      "application/vnd.holoviews_exec.v0+json": "",
      "text/plain": [
       ":NdOverlay   [Class]\n",
       "   :Scatter   [TotalCoinsMined]   (TotalCoinSupply,CoinName)"
      ]
     },
     "metadata": {
      "application/vnd.holoviews_exec.v0+json": {
       "id": "3011"
      }
     },
     "execution_count": 214
    }
   ],
   "source": [
    "# Create a hvplot.scatter plot using x=\"TotalCoinsMined\" and y=\"TotalCoinSupply\".\n",
    "plot_df.hvplot.scatter(\n",
    "    x='TotalCoinsMined',\n",
    "    y='TotalCoinSupply',\n",
    "    by='Class',\n",
    "    hover_cols='CoinName')"
   ]
  }
 ],
 "metadata": {
  "file_extension": ".py",
  "kernelspec": {
   "name": "python379jvsc74a57bd0dc13b457d4ed24f23b501101bd7ff11fac0e38d28a1550aef6d586b4fcc25263",
   "display_name": "Python 3.7.9 64-bit ('mlenv': conda)"
  },
  "language_info": {
   "codemirror_mode": {
    "name": "ipython",
    "version": 3
   },
   "file_extension": ".py",
   "mimetype": "text/x-python",
   "name": "python",
   "nbconvert_exporter": "python",
   "pygments_lexer": "ipython3",
   "version": "3.7.9"
  },
  "latex_envs": {
   "LaTeX_envs_menu_present": true,
   "autoclose": false,
   "autocomplete": true,
   "bibliofile": "biblio.bib",
   "cite_by": "apalike",
   "current_citInitial": 1,
   "eqLabelWithNumbers": true,
   "eqNumInitial": 1,
   "hotkeys": {
    "equation": "Ctrl-E",
    "itemize": "Ctrl-I"
   },
   "labels_anchors": false,
   "latex_user_defs": false,
   "report_style_numbering": false,
   "user_envs_cfg": false
  },
  "mimetype": "text/x-python",
  "name": "python",
  "npconvert_exporter": "python",
  "pygments_lexer": "ipython3",
  "version": 3
 },
 "nbformat": 4,
 "nbformat_minor": 2
}